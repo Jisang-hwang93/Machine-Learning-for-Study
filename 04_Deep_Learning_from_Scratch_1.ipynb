{
  "nbformat": 4,
  "nbformat_minor": 0,
  "metadata": {
    "colab": {
      "name": "04 Deep Learning from Scratch 1.ipynb",
      "provenance": [],
      "collapsed_sections": [],
      "toc_visible": true,
      "mount_file_id": "1XIgh1TNTWyq36BteKfgg9gSGARID5Jt-",
      "authorship_tag": "ABX9TyNypgXYb7vZUtNp/5hDgroW",
      "include_colab_link": true
    },
    "kernelspec": {
      "name": "python3",
      "display_name": "Python 3"
    }
  },
  "cells": [
    {
      "cell_type": "markdown",
      "metadata": {
        "id": "view-in-github",
        "colab_type": "text"
      },
      "source": [
        "<a href=\"https://colab.research.google.com/github/jisang93/Machine_Learning_for_Study/blob/master/04_Deep_Learning_from_Scratch_1.ipynb\" target=\"_parent\"><img src=\"https://colab.research.google.com/assets/colab-badge.svg\" alt=\"Open In Colab\"/></a>"
      ]
    },
    {
      "cell_type": "markdown",
      "metadata": {
        "id": "CXh2zyCD4xZQ"
      },
      "source": [
        "# **[Deep Learning from Scratch]**\n",
        "저자 : 사이토 고키 / 출판사 : 한빛미디어"
      ]
    },
    {
      "cell_type": "code",
      "metadata": {
        "id": "SoEyywZOX0vL"
      },
      "source": [
        "# 본 책에서 사용하는 패키지\n",
        "import sys, os, pickle\n",
        "import numpy as np\n",
        "import matplotlib.pylab as plt\n",
        "\n",
        "from PIL import Image\n",
        "from tqdm import tqdm"
      ],
      "execution_count": null,
      "outputs": []
    },
    {
      "cell_type": "markdown",
      "metadata": {
        "id": "ehCJeD4p5M0l"
      },
      "source": [
        "## **CHAPTER 2 : 퍼셉트론**"
      ]
    },
    {
      "cell_type": "markdown",
      "metadata": {
        "id": "y8Ee1_b2NDhs"
      },
      "source": [
        "### **2.3 퍼셉트론 구현**"
      ]
    },
    {
      "cell_type": "markdown",
      "metadata": {
        "id": "072DU5nK6OQ1"
      },
      "source": [
        "#### **2.3.1 간단한 구현**"
      ]
    },
    {
      "cell_type": "code",
      "metadata": {
        "id": "qBPdEB8x4rcE"
      },
      "source": [
        "def AND(x1, x2):\n",
        "    w1, w2, theta = 0.5, 0.5, 0.7\n",
        "    tmp = w1*x1 + x2*w2\n",
        "    if tmp <= theta:\n",
        "        return 0\n",
        "    else:\n",
        "        return 1"
      ],
      "execution_count": null,
      "outputs": []
    },
    {
      "cell_type": "code",
      "metadata": {
        "colab": {
          "base_uri": "https://localhost:8080/"
        },
        "id": "I1GD2M6K5KJF",
        "outputId": "fe2dfea3-5797-4274-98b7-a718d35e4cc0"
      },
      "source": [
        "AND(0, 0), AND(1, 0), AND(1, 1)"
      ],
      "execution_count": null,
      "outputs": [
        {
          "output_type": "execute_result",
          "data": {
            "text/plain": [
              "(0, 0, 1)"
            ]
          },
          "metadata": {
            "tags": []
          },
          "execution_count": 17
        }
      ]
    },
    {
      "cell_type": "markdown",
      "metadata": {
        "id": "9ys1vJlV6VFT"
      },
      "source": [
        "#### **2.3.2 가중치와 편향 도입**"
      ]
    },
    {
      "cell_type": "code",
      "metadata": {
        "id": "nL94p3ES5UFR"
      },
      "source": [
        "def AND(x1, x2):\n",
        "    x = np.array([x1, x2])\n",
        "    w = np.array([0.5, 0.5])\n",
        "    b = -0.7\n",
        "    tmp = np.sum(w*x) + b\n",
        "    if tmp <= 0:\n",
        "        return 0\n",
        "    else:\n",
        "        return 1"
      ],
      "execution_count": null,
      "outputs": []
    },
    {
      "cell_type": "code",
      "metadata": {
        "colab": {
          "base_uri": "https://localhost:8080/"
        },
        "id": "PToa1Z1g6g4V",
        "outputId": "76c4756c-f06e-4776-b99d-f02b2506c372"
      },
      "source": [
        "AND(0,0), AND(1, 0), AND(1, 1)"
      ],
      "execution_count": null,
      "outputs": [
        {
          "output_type": "execute_result",
          "data": {
            "text/plain": [
              "(0, 0, 1)"
            ]
          },
          "metadata": {
            "tags": []
          },
          "execution_count": 19
        }
      ]
    },
    {
      "cell_type": "code",
      "metadata": {
        "id": "ekawF-KR627l"
      },
      "source": [
        "def NAND(x1, x2):\n",
        "    x = np.array([x1, x2])\n",
        "    w = np.array([-0.5, -0.5]) # AND와 Weight, Bias 값이 달라짐\n",
        "    b = 0.7\n",
        "    tmp = np.sum(w*x) + b\n",
        "    if tmp <= 0:\n",
        "        return 0\n",
        "    else:\n",
        "        return 1\n",
        "\n",
        "def OR(x1, x2):\n",
        "    x = np.array([x1, x2])\n",
        "    w = np.array(([0.5, 0.5])) # AND와 Bias 값이 달라짐\n",
        "    b = -0.2\n",
        "    tmp = np.sum(w*x) + b\n",
        "    if tmp <= 0:\n",
        "        return 0\n",
        "    else:\n",
        "        return 1"
      ],
      "execution_count": null,
      "outputs": []
    },
    {
      "cell_type": "code",
      "metadata": {
        "colab": {
          "base_uri": "https://localhost:8080/"
        },
        "id": "2rXcoiGa7zSH",
        "outputId": "5b5d1a83-e85a-4122-8a8f-0c634faa2c7f"
      },
      "source": [
        "NAND(0, 0), NAND(1, 0), NAND(1, 1), OR(0, 0), OR(1, 0), OR(1, 1)"
      ],
      "execution_count": null,
      "outputs": [
        {
          "output_type": "execute_result",
          "data": {
            "text/plain": [
              "(1, 1, 0, 0, 1, 1)"
            ]
          },
          "metadata": {
            "tags": []
          },
          "execution_count": 21
        }
      ]
    },
    {
      "cell_type": "markdown",
      "metadata": {
        "id": "Pr0Jto-pNNFV"
      },
      "source": [
        "### **2.5 다층 퍼셉트론 적용**"
      ]
    },
    {
      "cell_type": "markdown",
      "metadata": {
        "id": "_wqYsJ9B_Ypp"
      },
      "source": [
        "#### **2.5.2 XOR 게이트 구현**\n",
        "\n",
        " - 단층 퍼셉트론으로는 XOR 게이트를 표현할 수 없음을 다층 퍼셉트론을 이용해 해결"
      ]
    },
    {
      "cell_type": "code",
      "metadata": {
        "id": "VvOL13tZ70Qz"
      },
      "source": [
        "def XOR(x1, x2): # XOR 게이트는 NAND와 OR, AND 게이트를 활용하면 구할 수 있음\n",
        "    s1 = NAND(x1, x2)\n",
        "    s2 = OR(x1, x2)\n",
        "    y = AND(s1, s2)\n",
        "    return y"
      ],
      "execution_count": null,
      "outputs": []
    },
    {
      "cell_type": "code",
      "metadata": {
        "colab": {
          "base_uri": "https://localhost:8080/"
        },
        "id": "SOMZpmQ8_iaL",
        "outputId": "a05da183-8371-4271-8b7b-ff200b46fd1f"
      },
      "source": [
        "XOR(0,0), XOR(1,0), XOR(1,1)"
      ],
      "execution_count": null,
      "outputs": [
        {
          "output_type": "execute_result",
          "data": {
            "text/plain": [
              "(0, 1, 0)"
            ]
          },
          "metadata": {
            "tags": []
          },
          "execution_count": 23
        }
      ]
    },
    {
      "cell_type": "markdown",
      "metadata": {
        "id": "VuRId5fvBxKF"
      },
      "source": [
        "## **CHAPTER 3 : 신경망**\n",
        "\n",
        "  - 단순 퍼셉트론은 활성화 함수로 '계단 함수'를 이용한 반면 다층 퍼셉트론의 경우 활성화 함수로 '시그모이드 함수 등'을 이용했다는 점이 다름"
      ]
    },
    {
      "cell_type": "markdown",
      "metadata": {
        "id": "DSMVWsoGM8mC"
      },
      "source": [
        "### **3.2 활성화 함수**"
      ]
    },
    {
      "cell_type": "markdown",
      "metadata": {
        "id": "dZNzA4fBFdqF"
      },
      "source": [
        "#### **3.2.2 계단 함수 구현**"
      ]
    },
    {
      "cell_type": "code",
      "metadata": {
        "id": "8CjOoTcC_lV1"
      },
      "source": [
        "def step_function(x):\n",
        "    if x > 0:\n",
        "        return 1\n",
        "    else:\n",
        "        return 0\n",
        "\n",
        "def step_function(x): # 넘파이 배열 지원\n",
        "    y = x > 0\n",
        "    return y.astype(np.int)"
      ],
      "execution_count": null,
      "outputs": []
    },
    {
      "cell_type": "markdown",
      "metadata": {
        "id": "h3MPs099FnVd"
      },
      "source": [
        "#### **3.2.3 계단 함수의 그래프**"
      ]
    },
    {
      "cell_type": "code",
      "metadata": {
        "colab": {
          "base_uri": "https://localhost:8080/",
          "height": 265
        },
        "id": "uF-F-sG7E9xJ",
        "outputId": "4abd76dc-c164-4b73-ff76-6aa25b99a4a9"
      },
      "source": [
        "x = np.arange(-5.0, 5.0, 0.1)\n",
        "y = step_function(x)\n",
        "plt.plot(x, y)\n",
        "plt.ylim(-0.1, 1.1) # y축 범위 지정\n",
        "plt.show()"
      ],
      "execution_count": null,
      "outputs": [
        {
          "output_type": "display_data",
          "data": {
            "image/png": "[encoded data removed]",
            "text/plain": [
              "<Figure size 432x288 with 1 Axes>"
            ]
          },
          "metadata": {
            "tags": [],
            "needs_background": "light"
          }
        }
      ]
    },
    {
      "cell_type": "markdown",
      "metadata": {
        "id": "8kD5lpKDGCZQ"
      },
      "source": [
        "#### **3.2.4 시그모이드 함수 구현**\n",
        "\n",
        " - 시그모이드 함수, 계단 함수의 공통점\n",
        "    - 입력 값이 중요하면 큰 값을 출력. 중요하지 않으면 작은 값을 출력\n",
        "    - 입력 값이 아무리 커도 출력은 0과 1 사이\n",
        "    - 두 함수 모두 비선형 함수임\n",
        "    \n",
        " - 시그모이드 함수, 계단 함수의 차이점\n",
        "    - 시그모이드 함수는 입력에 따라 출력이 연속적으로 변화\n",
        "    - 반면, 계단 함수는 0을 경계로 출력이 바뀜\n",
        " "
      ]
    },
    {
      "cell_type": "code",
      "metadata": {
        "id": "biDTW8V5FV-M"
      },
      "source": [
        "def sigmoid(x):\n",
        "    return 1 / (1 + np.exp(-x))"
      ],
      "execution_count": null,
      "outputs": []
    },
    {
      "cell_type": "code",
      "metadata": {
        "colab": {
          "base_uri": "https://localhost:8080/",
          "height": 265
        },
        "id": "MqRSDm9eGJBP",
        "outputId": "cc6ebf0f-b5d8-483c-e64e-358a8bedca92"
      },
      "source": [
        "x = np.arange(-5.0, 5.0, 0.1)\n",
        "y = sigmoid(x)\n",
        "plt.plot(x, y)\n",
        "plt.ylim(-0.1, 1.1)\n",
        "plt.show()"
      ],
      "execution_count": null,
      "outputs": [
        {
          "output_type": "display_data",
          "data": {
            "image/png": "[encoded data removed]",
            "text/plain": [
              "<Figure size 432x288 with 1 Axes>"
            ]
          },
          "metadata": {
            "tags": [],
            "needs_background": "light"
          }
        }
      ]
    },
    {
      "cell_type": "markdown",
      "metadata": {
        "id": "mz3sa1J_IHPK"
      },
      "source": [
        "#### **3.2.7 ReLU 함수**"
      ]
    },
    {
      "cell_type": "code",
      "metadata": {
        "id": "sQu89KOcGUjc"
      },
      "source": [
        "def relu(x):\n",
        "    return np.maximum(0, x)"
      ],
      "execution_count": null,
      "outputs": []
    },
    {
      "cell_type": "markdown",
      "metadata": {
        "id": "DgsSKbqaMzWg"
      },
      "source": [
        "### **3.4 3층 신경망 구현하기**"
      ]
    },
    {
      "cell_type": "markdown",
      "metadata": {
        "id": "fcfzc7ioNVb5"
      },
      "source": [
        "#### **3.4.2 층별 신호 전달 구현**"
      ]
    },
    {
      "cell_type": "code",
      "metadata": {
        "colab": {
          "base_uri": "https://localhost:8080/"
        },
        "id": "WsjLpntwIOtO",
        "outputId": "5c8da9f2-2de4-44a7-e487-8b99ebfb2d7a"
      },
      "source": [
        "# 입력층(Input Layer)에서 1층(Hidden Layer)\n",
        "X = np.array([1.0, 0.5])\n",
        "W1 = np.array([[0.1, 0.3, 0.5], [0.2, 0.4, 0.6]])\n",
        "B1 = np.array([0.1, 0.2, 0.3])\n",
        "\n",
        "A1 = np.dot(X, W1) + B1\n",
        "Z1 = sigmoid(A1)\n",
        "\n",
        "A1, Z1"
      ],
      "execution_count": null,
      "outputs": [
        {
          "output_type": "execute_result",
          "data": {
            "text/plain": [
              "(array([0.3, 0.7, 1.1]), array([0.57444252, 0.66818777, 0.75026011]))"
            ]
          },
          "metadata": {
            "tags": []
          },
          "execution_count": 29
        }
      ]
    },
    {
      "cell_type": "code",
      "metadata": {
        "id": "dZ4cEubYNoIG"
      },
      "source": [
        "# 1층(Hidden Layer)에서 2층(Hidden Layer)\n",
        "W2 = np.array([[0.1, 0.4], [0.2, 0.5], [0.3, 0.6]])\n",
        "B2 = np.array([0.1, 0.2])\n",
        "\n",
        "A2 = np.dot(Z1, W2) + B2\n",
        "Z2 = sigmoid(A2)"
      ],
      "execution_count": null,
      "outputs": []
    },
    {
      "cell_type": "code",
      "metadata": {
        "colab": {
          "base_uri": "https://localhost:8080/"
        },
        "id": "w2upHdFqOWqz",
        "outputId": "ffeebab6-e0d7-4bf8-82c3-3177272f7988"
      },
      "source": [
        "# 2층(Hidden Layer)에서 출력층(Output Layer)\n",
        "def identify_function(x): # 항등 함수 설정\n",
        "    return x # 이진 분류에서는 시그모이드 함수, 다중 분류에서는 소프트맥스 함수 사용\n",
        "\n",
        "W3 = np.array([[0.1, 0.3], [0.2, 0.4]])\n",
        "B3 = np.array([0.1, 0.2])\n",
        "\n",
        "A3 = np.dot(Z2, W3) + B3\n",
        "Y = identify_function(A3)\n",
        "Y"
      ],
      "execution_count": null,
      "outputs": [
        {
          "output_type": "execute_result",
          "data": {
            "text/plain": [
              "array([0.31682708, 0.69627909])"
            ]
          },
          "metadata": {
            "tags": []
          },
          "execution_count": 31
        }
      ]
    },
    {
      "cell_type": "markdown",
      "metadata": {
        "id": "wfoPTzRPPLFG"
      },
      "source": [
        "#### **3.4.3 구현 정리**\n"
      ]
    },
    {
      "cell_type": "code",
      "metadata": {
        "id": "wjZkT8gPO3rO"
      },
      "source": [
        "def init_network():\n",
        "    network = {}\n",
        "    network['W1'] = np.array([[0.1, 0.3, 0.5], [0.2, 0.4, 0.6]])\n",
        "    network['W2'] = np.array([[0.1, 0.4], [0.2, 0.5], [0.3, 0.6]])\n",
        "    network['W3'] = np.array([[0.1, 0.3], [0.2, 0.4]])\n",
        "    network['B1'] = np.array([0.1, 0.2, 0.3])\n",
        "    network['B2'] = np.array([0.1, 0.2])\n",
        "    network['B3'] = np.array([0.1, 0.2])\n",
        "\n",
        "    return network\n",
        "\n",
        "def forward(network, x):\n",
        "    W1, W2, W3 = network['W1'], network['W2'], network['W3']\n",
        "    B1, B2, B3 = network['B1'], network['B2'], network['B3']\n",
        "    # 입력층에서 1층\n",
        "    A1 = np.dot(x, W1) + B1\n",
        "    Z1 = sigmoid(A1)\n",
        "    # 1층에서 2층\n",
        "    A2 = np.dot(Z1, W2) + B2\n",
        "    Z2 = sigmoid(A2)\n",
        "    # 2층에서 출력층\n",
        "    A3 = np.dot(Z2, W3) + B3\n",
        "    Y = identify_function(A3)\n",
        "\n",
        "    return Y"
      ],
      "execution_count": null,
      "outputs": []
    },
    {
      "cell_type": "code",
      "metadata": {
        "colab": {
          "base_uri": "https://localhost:8080/"
        },
        "id": "mPra1xy4QNT6",
        "outputId": "c1576366-c031-4faa-c248-98ce13e62c1b"
      },
      "source": [
        "network = init_network()\n",
        "x = np.array([1.0, 0.5])\n",
        "y = forward(network, x)\n",
        "y"
      ],
      "execution_count": null,
      "outputs": [
        {
          "output_type": "execute_result",
          "data": {
            "text/plain": [
              "array([0.31682708, 0.69627909])"
            ]
          },
          "metadata": {
            "tags": []
          },
          "execution_count": 33
        }
      ]
    },
    {
      "cell_type": "markdown",
      "metadata": {
        "id": "arJzJmumRr9S"
      },
      "source": [
        "### **3.5 출력층 설계**"
      ]
    },
    {
      "cell_type": "markdown",
      "metadata": {
        "id": "XmS6qX4dRvLc"
      },
      "source": [
        "#### **3.5.1 소프트맥스 함수 구현**"
      ]
    },
    {
      "cell_type": "code",
      "metadata": {
        "id": "4VLyxK8aQUvS"
      },
      "source": [
        "def softmax(a):\n",
        "    exp_a = np.exp(a)\n",
        "    sum_exp_a = np.sum(exp_a)\n",
        "    y = exp_a / sum_exp_a\n",
        "\n",
        "    return y"
      ],
      "execution_count": null,
      "outputs": []
    },
    {
      "cell_type": "code",
      "metadata": {
        "colab": {
          "base_uri": "https://localhost:8080/"
        },
        "id": "r9DuPlnrSCFJ",
        "outputId": "a774c938-4bb7-46cd-8902-7436211fc9f1"
      },
      "source": [
        "a = np.array([0.3, 2.9, 4.0])\n",
        "softmax(a)"
      ],
      "execution_count": null,
      "outputs": [
        {
          "output_type": "execute_result",
          "data": {
            "text/plain": [
              "array([0.01821127, 0.24519181, 0.73659691])"
            ]
          },
          "metadata": {
            "tags": []
          },
          "execution_count": 35
        }
      ]
    },
    {
      "cell_type": "markdown",
      "metadata": {
        "id": "tdt12QW0SdsC"
      },
      "source": [
        "#### **3.5.2 소프트맥스 함수 구현 시 주의점**\n",
        "\n",
        "  - 오버플로우를 막기 위해 최댓값 C 이용"
      ]
    },
    {
      "cell_type": "code",
      "metadata": {
        "id": "NfiPkjgdSHVc"
      },
      "source": [
        "def softmax(a):\n",
        "    c = np.max(a)\n",
        "    exp_a = np.exp(a - c) # 오버플로우 대책\n",
        "    sum_exp_a = np.sum(exp_a)\n",
        "    y = exp_a / sum_exp_a\n",
        "\n",
        "    return y"
      ],
      "execution_count": null,
      "outputs": []
    },
    {
      "cell_type": "code",
      "metadata": {
        "colab": {
          "base_uri": "https://localhost:8080/"
        },
        "id": "qMBuGKmxS2s5",
        "outputId": "47545e3e-209d-41a7-e4a1-df0adaae9c02"
      },
      "source": [
        "a = np.array([1010, 1000, 990])\n",
        "softmax(a)"
      ],
      "execution_count": null,
      "outputs": [
        {
          "output_type": "execute_result",
          "data": {
            "text/plain": [
              "array([9.99954600e-01, 4.53978686e-05, 2.06106005e-09])"
            ]
          },
          "metadata": {
            "tags": []
          },
          "execution_count": 37
        }
      ]
    },
    {
      "cell_type": "markdown",
      "metadata": {
        "id": "nVnrpwEwUHb1"
      },
      "source": [
        "### **3.6 손글씨 숫자 인식**"
      ]
    },
    {
      "cell_type": "markdown",
      "metadata": {
        "id": "IUSO0pAAZgzm"
      },
      "source": [
        "#### **3.6.1 MNIST 데이터셋**"
      ]
    },
    {
      "cell_type": "code",
      "metadata": {
        "colab": {
          "base_uri": "https://localhost:8080/"
        },
        "id": "oUl1CfNxS6B2",
        "outputId": "c8bcf8b7-5aab-4761-afcb-c99d2adcc012"
      },
      "source": [
        "path = '/content/drive/MyDrive/머신러닝/개인 공부/Deep Learning from Scratch 1'\n",
        "sys.path.append(path)\n",
        "from dataset.mnist import load_mnist\n",
        "\n",
        "(x_train, t_train), (x_test, t_test) = \\\n",
        "    load_mnist(flatten=True, normalize=False)\n",
        "\n",
        "print(x_train.shape, t_train.shape, x_test.shape, t_test.shape)"
      ],
      "execution_count": null,
      "outputs": [
        {
          "output_type": "stream",
          "text": [
            "(60000, 784) (60000,) (10000, 784) (10000,)\n"
          ],
          "name": "stdout"
        }
      ]
    },
    {
      "cell_type": "code",
      "metadata": {
        "colab": {
          "base_uri": "https://localhost:8080/",
          "height": 45
        },
        "id": "6mmz3u3pVZBO",
        "outputId": "09031271-3dec-4dcd-e0fe-403d55a99a86"
      },
      "source": [
        "def img_show(img):\n",
        "    pil_img = Image.fromarray(np.uint8(img))\n",
        "    return pil_img\n",
        "\n",
        "img = x_train[0]\n",
        "label = t_train[0]\n",
        "\n",
        "img = img.reshape(28, 28)\n",
        "img_show(img)"
      ],
      "execution_count": null,
      "outputs": [
        {
          "output_type": "execute_result",
          "data": {
            "image/png": "[encoded data removed]",
            "text/plain": [
              "<PIL.Image.Image image mode=L size=28x28 at 0x7EFBFA507240>"
            ]
          },
          "metadata": {
            "tags": []
          },
          "execution_count": 39
        }
      ]
    },
    {
      "cell_type": "markdown",
      "metadata": {
        "id": "Bw2GUX9bZlgj"
      },
      "source": [
        "#### **3.6.2 신경망의 추론 처리**"
      ]
    },
    {
      "cell_type": "code",
      "metadata": {
        "id": "zpOTUHQcYsqX"
      },
      "source": [
        "def get_data():\n",
        "    (x_train, t_train), (x_test, t_test) = \\\n",
        "        load_mnist(normalize=True, flatten=True, one_hot_label=False)\n",
        "    return x_test, t_test\n",
        "\n",
        "def init_network():\n",
        "    with open(\"/content/drive/MyDrive/머신러닝/개인 공부/Deep Learning from Scratch 1/dataset/sample_weight.pkl\", 'rb') as f:\n",
        "        network = pickle.load(f)\n",
        "    return network\n",
        "\n",
        "def predict(network, x):\n",
        "    W1, W2, W3 = network['W1'], network['W2'], network['W3']\n",
        "    B1, B2, B3 = network['b1'], network['b2'], network['b3']\n",
        "    # 입력층에서 1층\n",
        "    A1 = np.dot(x, W1) + B1\n",
        "    Z1 = sigmoid(A1)\n",
        "    # 1층에서 2층\n",
        "    A2 = np.dot(Z1, W2) + B2\n",
        "    Z2 = sigmoid(A2)\n",
        "    # 2층에서 출력층\n",
        "    A3 = np.dot(Z2, W3) + B3\n",
        "    y = softmax(A3)\n",
        "\n",
        "    return y"
      ],
      "execution_count": null,
      "outputs": []
    },
    {
      "cell_type": "code",
      "metadata": {
        "colab": {
          "base_uri": "https://localhost:8080/"
        },
        "id": "f3f8S8jpbWfi",
        "outputId": "608ac508-0732-4674-e85d-f9725694a086"
      },
      "source": [
        "x, t = get_data()\n",
        "network = init_network()\n",
        "\n",
        "accuracy_cnt = 0\n",
        "for i in range(len(x)):\n",
        "    y = predict(network, x[i])\n",
        "    p = np.argmax(y)\n",
        "    if p == t[i]:\n",
        "        accuracy_cnt += 1\n",
        "\n",
        "print(\"Accuracy : \" + str(float(accuracy_cnt) /len(x)))"
      ],
      "execution_count": null,
      "outputs": [
        {
          "output_type": "stream",
          "text": [
            "Accuracy : 0.9352\n"
          ],
          "name": "stdout"
        }
      ]
    },
    {
      "cell_type": "markdown",
      "metadata": {
        "id": "pxJxvzsSc1m9"
      },
      "source": [
        "#### **3.6.3 배치 사이즈 설정**"
      ]
    },
    {
      "cell_type": "code",
      "metadata": {
        "colab": {
          "base_uri": "https://localhost:8080/"
        },
        "id": "qG06jS-FbX-m",
        "outputId": "c203db84-3cf8-4617-86a0-3f027491f6c7"
      },
      "source": [
        "x, t = get_data()\n",
        "network = init_network()\n",
        "\n",
        "batch_size = 100\n",
        "accuracy_cnt = 0\n",
        "for i in range(0, len(x), batch_size):\n",
        "    x_batch = x[i:i+batch_size]\n",
        "    y_batch = predict(network, x_batch)\n",
        "    p = np.argmax(y_batch, axis=1)\n",
        "    accuracy_cnt += np.sum(p == t[i:i+batch_size]) # True 결과값 세기\n",
        "    \n",
        "print(\"Accuracy : \" + str(float(accuracy_cnt) /len(x)))"
      ],
      "execution_count": null,
      "outputs": [
        {
          "output_type": "stream",
          "text": [
            "Accuracy : 0.9352\n"
          ],
          "name": "stdout"
        }
      ]
    },
    {
      "cell_type": "markdown",
      "metadata": {
        "id": "5HxGKB4hV_PY"
      },
      "source": [
        "## **CHAPTER 4 : 신경망 학습**\n",
        "\n",
        " - 신경망 학습에 사용하는 지표 : 손실 함수(Loss Function)\n"
      ]
    },
    {
      "cell_type": "markdown",
      "metadata": {
        "id": "0w9JzpREWh8c"
      },
      "source": [
        "### **4.2 손실함수**\n",
        "- 오차제곱합(Sum of Squares for Error, SSE)\n",
        "- 교차 엔트로피 오차(Cross Entropy Error, CEE)"
      ]
    },
    {
      "cell_type": "markdown",
      "metadata": {
        "id": "IMkaZzr-Xb7a"
      },
      "source": [
        "#### **4.2.1 오차제곱합(SSE)**\n",
        "- 구글 검색결과와 본 책에서 제공하는 공식이 조금 다름(본 책에서는 0.5를 곱함)"
      ]
    },
    {
      "cell_type": "code",
      "metadata": {
        "id": "TXEWNd5-SeDR"
      },
      "source": [
        "def sum_squares_error(y, t):\n",
        "    return 0.5 * np.sum((y-t)**2) # 오차의 제곱에 0.5를 곱해줌"
      ],
      "execution_count": null,
      "outputs": []
    },
    {
      "cell_type": "code",
      "metadata": {
        "colab": {
          "base_uri": "https://localhost:8080/"
        },
        "id": "qJ8IsrjFYMhM",
        "outputId": "162ece60-666d-484f-bf97-8bb39134e279"
      },
      "source": [
        "t = [0, 0, 1, 0, 0, 0, 0, 0, 0, 0]\n",
        "y = [0.1, 0.05, 0.6, 0, 0.05, 0.1, 0, 0.1, 0, 0]\n",
        "\n",
        "sum_squares_error(np.array(y), np.array(t))"
      ],
      "execution_count": null,
      "outputs": [
        {
          "output_type": "execute_result",
          "data": {
            "text/plain": [
              "0.09750000000000003"
            ]
          },
          "metadata": {
            "tags": []
          },
          "execution_count": 44
        }
      ]
    },
    {
      "cell_type": "markdown",
      "metadata": {
        "id": "5nhZq_2vYzLX"
      },
      "source": [
        "#### **4.2.2 교차 엔트로피 오차(CEE)**"
      ]
    },
    {
      "cell_type": "code",
      "metadata": {
        "id": "w6TDx0FtYjRs"
      },
      "source": [
        "def cross_entropy_error(y, t):\n",
        "    delta = 1e-7\n",
        "    return -np.sum(t * np.log(y + delta))"
      ],
      "execution_count": null,
      "outputs": []
    },
    {
      "cell_type": "code",
      "metadata": {
        "colab": {
          "base_uri": "https://localhost:8080/"
        },
        "id": "5VrjZT5Wai1S",
        "outputId": "8cad1520-8a0b-49c2-a31e-9eaea3027722"
      },
      "source": [
        "t = [0, 0, 1, 0, 0, 0, 0, 0, 0, 0]\n",
        "y = [0.1, 0.05, 0.6, 0, 0.05, 0.1, 0, 0.1, 0, 0]\n",
        "\n",
        "cross_entropy_error(np.array(y), np.array(t))"
      ],
      "execution_count": null,
      "outputs": [
        {
          "output_type": "execute_result",
          "data": {
            "text/plain": [
              "0.510825457099338"
            ]
          },
          "metadata": {
            "tags": []
          },
          "execution_count": 46
        }
      ]
    },
    {
      "cell_type": "markdown",
      "metadata": {
        "id": "c3P-TkbSct_y"
      },
      "source": [
        "#### **4.2.4 (배치용) 교차 엔트로피 오차 구현**"
      ]
    },
    {
      "cell_type": "code",
      "metadata": {
        "id": "0p_OGDUparO9"
      },
      "source": [
        "def cross_entropy_error(y, t): # Input값이 원-핫-인코딩일 경우\n",
        "    if y.ndim == 1:\n",
        "        t = t.reshape(1, t.size)\n",
        "        y = y.reshape(1, y.size)\n",
        "\n",
        "    batch_size = y.shape[0]\n",
        "    return - np.sum(t * np.log(y + 1e-7)) / batch_size\n",
        "\n",
        "def cross_entropy_error(y, t): # Input값이 레이블일 경우\n",
        "    if y.ndim == 1:\n",
        "        t = t.reshape(1, t.size)\n",
        "        y = y.reshape(1, y.size)\n",
        "\n",
        "    batch_size = y.shape[0]\n",
        "    return - np.sum(np.log(y[np.arange(batch_size), t] + 1e-7)) / batch_size"
      ],
      "execution_count": null,
      "outputs": []
    },
    {
      "cell_type": "markdown",
      "metadata": {
        "id": "8_jhp4Nolaad"
      },
      "source": [
        "### **4.3 수치 미분**"
      ]
    },
    {
      "cell_type": "markdown",
      "metadata": {
        "id": "uVEfQQjileZD"
      },
      "source": [
        "#### **4.3.1 미분**"
      ]
    },
    {
      "cell_type": "code",
      "metadata": {
        "id": "RhuB0TFQhW8O"
      },
      "source": [
        "def numerical_diff(f, x): # 수치 미분\n",
        "    h = 1e-4 # 0.0001을 의미\n",
        "    return (f(x+h) - f(x-h)) / 2*h # 중심 차분을 구하기 위해 x+h와 x-h를 계산함"
      ],
      "execution_count": null,
      "outputs": []
    },
    {
      "cell_type": "markdown",
      "metadata": {
        "id": "6mGgbuH5l2UR"
      },
      "source": [
        "#### **4.3.2 수치 미분 예시**"
      ]
    },
    {
      "cell_type": "code",
      "metadata": {
        "id": "0iNOPz5xlvkT"
      },
      "source": [
        "def function_a(x):\n",
        "    return 0.01 * x**2 + 0.1*x"
      ],
      "execution_count": null,
      "outputs": []
    },
    {
      "cell_type": "code",
      "metadata": {
        "colab": {
          "base_uri": "https://localhost:8080/",
          "height": 279
        },
        "id": "y6a97a8Ll_Z4",
        "outputId": "39fe6b2a-b07a-47b4-c2e9-5e5b546c8f60"
      },
      "source": [
        "x = np.arange(0, 20, 0.1) # 0에서 20까지 0.1 간격의 배열 x\n",
        "y = function_a(x)\n",
        "\n",
        "plt.xlabel(\"x\")\n",
        "plt.ylabel(\"f(x)\")\n",
        "plt.plot(x, y)\n",
        "plt.show()"
      ],
      "execution_count": null,
      "outputs": [
        {
          "output_type": "display_data",
          "data": {
            "image/png": "[encoded data removed]",
            "text/plain": [
              "<Figure size 432x288 with 1 Axes>"
            ]
          },
          "metadata": {
            "tags": [],
            "needs_background": "light"
          }
        }
      ]
    },
    {
      "cell_type": "code",
      "metadata": {
        "colab": {
          "base_uri": "https://localhost:8080/"
        },
        "id": "2ES5nKO9mQNA",
        "outputId": "203de597-2ed7-4bcf-d8b7-83e269e7ff9e"
      },
      "source": [
        "numerical_diff(function_a, 5) # f(5) 변화량"
      ],
      "execution_count": null,
      "outputs": [
        {
          "output_type": "execute_result",
          "data": {
            "text/plain": [
              "1.9999999999908982e-09"
            ]
          },
          "metadata": {
            "tags": []
          },
          "execution_count": 52
        }
      ]
    },
    {
      "cell_type": "markdown",
      "metadata": {
        "id": "8_wJFATynCMV"
      },
      "source": [
        "#### **4.3.3 편미분**"
      ]
    },
    {
      "cell_type": "code",
      "metadata": {
        "colab": {
          "base_uri": "https://localhost:8080/"
        },
        "id": "9LUicqPlmdYa",
        "outputId": "dce1767b-af57-4862-a085-e63262f87fa2"
      },
      "source": [
        "def function_b(x):\n",
        "    return x[0]**2 + x[1]**2\n",
        "\n",
        "# x0 = 3 x1 = 4일때, x0에 대한 편미분\n",
        "def function_b_tmp(x0):\n",
        "    return x0*x0 + 4.0**2.0\n",
        "\n",
        "numerical_diff(function_b_tmp, 3.0)"
      ],
      "execution_count": null,
      "outputs": [
        {
          "output_type": "execute_result",
          "data": {
            "text/plain": [
              "6.000000000003781e-08"
            ]
          },
          "metadata": {
            "tags": []
          },
          "execution_count": 58
        }
      ]
    },
    {
      "cell_type": "markdown",
      "metadata": {
        "id": "57gfRnv0oeQv"
      },
      "source": [
        "### **4.4 기울기**"
      ]
    },
    {
      "cell_type": "code",
      "metadata": {
        "id": "5B3Xj_kpnKsZ"
      },
      "source": [
        "def numerical_gradient(f, x):\n",
        "    h = 1e-4 # 0.0001\n",
        "    grad = np.zeros_like(x) # x와 형상이 같고 원소가 모두 0인 배열 생성\n",
        "\n",
        "    for idx in range(x.size):\n",
        "        tmp_val = x[idx]\n",
        "        # f(x+h) 계산\n",
        "        x[idx] = tmp_val + h\n",
        "        fxh1 = f(x)\n",
        "\n",
        "        # f(x-h) 계산\n",
        "        x[idx] = tmp_val - h\n",
        "        fxh2 = f(x)\n",
        "\n",
        "        grad[idx] = (fxh1 - fxh2) / (2*h)\n",
        "        x[idx] = tmp_val # 값 복원\n",
        "    \n",
        "    return grad"
      ],
      "execution_count": null,
      "outputs": []
    },
    {
      "cell_type": "code",
      "metadata": {
        "colab": {
          "base_uri": "https://localhost:8080/"
        },
        "id": "Z5SwPQGho_Jd",
        "outputId": "985643b4-5f14-408d-c452-576f99ca9664"
      },
      "source": [
        "numerical_gradient(function_b, np.array([3.0, 4.0])) # 각 점에서의 기울기 계산"
      ],
      "execution_count": null,
      "outputs": [
        {
          "output_type": "execute_result",
          "data": {
            "text/plain": [
              "array([6., 8.])"
            ]
          },
          "metadata": {
            "tags": []
          },
          "execution_count": 60
        }
      ]
    },
    {
      "cell_type": "markdown",
      "metadata": {
        "id": "KuAzSRoSqhIV"
      },
      "source": [
        "#### **4.4.1 경사 하강법**\n",
        "\n",
        "- 기울기를 이용해 함수의 최솟값을 찾는 방법"
      ]
    },
    {
      "cell_type": "code",
      "metadata": {
        "id": "AdGPOgUUpK8f"
      },
      "source": [
        "def gradient_descent(f, init_x, lr=0.01, step_num=100):\n",
        "    x = init_x\n",
        "\n",
        "    for i in tqdm(range(step_num)):\n",
        "        grad = numerical_gradient(f, x)\n",
        "        x -= lr * grad # 기울기에 학습률을 곱해 갱신 처리\n",
        "    return x"
      ],
      "execution_count": null,
      "outputs": []
    },
    {
      "cell_type": "code",
      "metadata": {
        "colab": {
          "base_uri": "https://localhost:8080/"
        },
        "id": "Yh3_7sM4rA_7",
        "outputId": "c48602de-e87e-43b8-d76f-f2cec5fc4f55"
      },
      "source": [
        "# 경사 하강법을 이용해 최솟값 탐색\n",
        "init_x = np.array([-3.0, 4.0])\n",
        "gradient_descent(function_b, init_x=init_x, lr=0.1, step_num=100)"
      ],
      "execution_count": null,
      "outputs": [
        {
          "output_type": "stream",
          "text": [
            "100%|██████████| 100/100 [00:00<00:00, 47031.89it/s]\n"
          ],
          "name": "stderr"
        },
        {
          "output_type": "execute_result",
          "data": {
            "text/plain": [
              "array([-6.11110793e-10,  8.14814391e-10])"
            ]
          },
          "metadata": {
            "tags": []
          },
          "execution_count": 65
        }
      ]
    },
    {
      "cell_type": "markdown",
      "metadata": {
        "id": "o--N6DWgsS3W"
      },
      "source": [
        "#### **4.4.2 신경망에서의 기울기**"
      ]
    },
    {
      "cell_type": "code",
      "metadata": {
        "id": "gMpqwyutrI62"
      },
      "source": [
        "path = '/content/drive/MyDrive/머신러닝/개인 공부/Deep Learning from Scratch 1/common'\n",
        "sys.path.append(path)\n",
        "from functions import softmax, cross_entropy_error\n",
        "from gradient import numerical_gradient\n",
        "\n",
        "class simpleNet:\n",
        "    def __init__(self):\n",
        "        self.W = np.random.randn(2, 3) # 정규분포로 초기화\n",
        "    \n",
        "    def predict(self, x):\n",
        "        return np.dot(x, self.W)\n",
        "\n",
        "    def loss(self, x, t):\n",
        "        z = self.predict(x)\n",
        "        y = softmax(z)\n",
        "        loss = cross_entropy_error(y, t)\n",
        "        return loss"
      ],
      "execution_count": 86,
      "outputs": []
    },
    {
      "cell_type": "code",
      "metadata": {
        "id": "aSAajLlSsoH4",
        "colab": {
          "base_uri": "https://localhost:8080/"
        },
        "outputId": "54534bda-ac3e-40cd-ffd4-1594125f1900"
      },
      "source": [
        "net = simpleNet()\n",
        "print(net.W) # 가중치 매개변수\n",
        "print('-'*50)\n",
        "x = np.array([0.6, 0.9])\n",
        "p = net.predict(x)\n",
        "print(p) # 최댓값 인덱스\n",
        "print('-'*50)\n",
        "t = np.array([0, 0, 1]) # 정답 레이블\n",
        "net.loss(x,t)"
      ],
      "execution_count": 88,
      "outputs": [
        {
          "output_type": "stream",
          "text": [
            "[[-1.53960919  1.988648    1.69038416]\n",
            " [ 1.0421999  -0.1443081   0.64931165]]\n",
            "--------------------------------------------------\n",
            "[0.01421439 1.06331151 1.59861098]\n",
            "--------------------------------------------------\n"
          ],
          "name": "stdout"
        },
        {
          "output_type": "execute_result",
          "data": {
            "text/plain": [
              "0.5825312696766601"
            ]
          },
          "metadata": {
            "tags": []
          },
          "execution_count": 88
        }
      ]
    },
    {
      "cell_type": "code",
      "metadata": {
        "colab": {
          "base_uri": "https://localhost:8080/"
        },
        "id": "ffj1pi2HuoIj",
        "outputId": "4d59d758-c188-4037-a508-86012a252923"
      },
      "source": [
        "def f(W):\n",
        "    return net.loss(x, t)\n",
        "\n",
        "dW = numerical_gradient(f, net.W)\n",
        "print(dW)\n",
        "\n",
        "##############################################################################\n",
        "# 람다를 이용해 def 함수와 같은 역할 수행\n",
        "f = lambda w: net.loss(x, t)\n",
        "dw = numerical_gradient(f, net.W)"
      ],
      "execution_count": 89,
      "outputs": [
        {
          "output_type": "stream",
          "text": [
            "[[ 0.06871733  0.19619294 -0.26491027]\n",
            " [ 0.103076    0.29428941 -0.3973654 ]]\n"
          ],
          "name": "stdout"
        }
      ]
    },
    {
      "cell_type": "code",
      "metadata": {
        "id": "D0IfB6gbvFhl"
      },
      "source": [
        ""
      ],
      "execution_count": null,
      "outputs": []
    }
  ]
}