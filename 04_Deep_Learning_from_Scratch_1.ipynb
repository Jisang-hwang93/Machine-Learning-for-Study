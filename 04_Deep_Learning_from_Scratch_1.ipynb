{
  "nbformat": 4,
  "nbformat_minor": 0,
  "metadata": {
    "colab": {
      "name": "04 Deep Learning from Scratch 1.ipynb",
      "provenance": [],
      "collapsed_sections": [],
      "toc_visible": true,
      "mount_file_id": "1XIgh1TNTWyq36BteKfgg9gSGARID5Jt-",
      "authorship_tag": "ABX9TyOQdpvl6JWZqpQaUZRgbQvA",
      "include_colab_link": true
    },
    "kernelspec": {
      "name": "python3",
      "display_name": "Python 3"
    }
  },
  "cells": [
    {
      "cell_type": "markdown",
      "metadata": {
        "id": "view-in-github",
        "colab_type": "text"
      },
      "source": [
        "<a href=\"https://colab.research.google.com/github/jisang93/Machine_Learning_for_Study/blob/master/04_Deep_Learning_from_Scratch_1.ipynb\" target=\"_parent\"><img src=\"https://colab.research.google.com/assets/colab-badge.svg\" alt=\"Open In Colab\"/></a>"
      ]
    },
    {
      "cell_type": "markdown",
      "metadata": {
        "id": "CXh2zyCD4xZQ"
      },
      "source": [
        "# **[Deep Learning from Scratch]**\n",
        "저자 : 사이토 고키 / 출판사 : 한빛미디어"
      ]
    },
    {
      "cell_type": "code",
      "metadata": {
        "id": "SoEyywZOX0vL"
      },
      "source": [
        "# 본 책에서 사용하는 패키지\n",
        "import sys, os, pickle\n",
        "import numpy as np\n",
        "import matplotlib.pylab as plt\n",
        "\n",
        "from PIL import Image\n",
        "from tqdm import tqdm\n",
        "from collections import OrderedDict"
      ],
      "execution_count": 1,
      "outputs": []
    },
    {
      "cell_type": "markdown",
      "metadata": {
        "id": "ehCJeD4p5M0l"
      },
      "source": [
        "## **CHAPTER 2 : 퍼셉트론**"
      ]
    },
    {
      "cell_type": "markdown",
      "metadata": {
        "id": "y8Ee1_b2NDhs"
      },
      "source": [
        "### **2.3 퍼셉트론 구현**"
      ]
    },
    {
      "cell_type": "markdown",
      "metadata": {
        "id": "072DU5nK6OQ1"
      },
      "source": [
        "#### **2.3.1 간단한 구현**"
      ]
    },
    {
      "cell_type": "code",
      "metadata": {
        "id": "qBPdEB8x4rcE"
      },
      "source": [
        "def AND(x1, x2):\n",
        "    w1, w2, theta = 0.5, 0.5, 0.7\n",
        "    tmp = w1*x1 + x2*w2\n",
        "    if tmp <= theta:\n",
        "        return 0\n",
        "    else:\n",
        "        return 1"
      ],
      "execution_count": null,
      "outputs": []
    },
    {
      "cell_type": "code",
      "metadata": {
        "colab": {
          "base_uri": "https://localhost:8080/"
        },
        "id": "I1GD2M6K5KJF",
        "outputId": "fe2dfea3-5797-4274-98b7-a718d35e4cc0"
      },
      "source": [
        "AND(0, 0), AND(1, 0), AND(1, 1)"
      ],
      "execution_count": null,
      "outputs": [
        {
          "output_type": "execute_result",
          "data": {
            "text/plain": [
              "(0, 0, 1)"
            ]
          },
          "metadata": {
            "tags": []
          },
          "execution_count": 17
        }
      ]
    },
    {
      "cell_type": "markdown",
      "metadata": {
        "id": "9ys1vJlV6VFT"
      },
      "source": [
        "#### **2.3.2 가중치와 편향 도입**"
      ]
    },
    {
      "cell_type": "code",
      "metadata": {
        "id": "nL94p3ES5UFR"
      },
      "source": [
        "def AND(x1, x2):\n",
        "    x = np.array([x1, x2])\n",
        "    w = np.array([0.5, 0.5])\n",
        "    b = -0.7\n",
        "    tmp = np.sum(w*x) + b\n",
        "    if tmp <= 0:\n",
        "        return 0\n",
        "    else:\n",
        "        return 1"
      ],
      "execution_count": null,
      "outputs": []
    },
    {
      "cell_type": "code",
      "metadata": {
        "colab": {
          "base_uri": "https://localhost:8080/"
        },
        "id": "PToa1Z1g6g4V",
        "outputId": "76c4756c-f06e-4776-b99d-f02b2506c372"
      },
      "source": [
        "AND(0,0), AND(1, 0), AND(1, 1)"
      ],
      "execution_count": null,
      "outputs": [
        {
          "output_type": "execute_result",
          "data": {
            "text/plain": [
              "(0, 0, 1)"
            ]
          },
          "metadata": {
            "tags": []
          },
          "execution_count": 19
        }
      ]
    },
    {
      "cell_type": "code",
      "metadata": {
        "id": "ekawF-KR627l"
      },
      "source": [
        "def NAND(x1, x2):\n",
        "    x = np.array([x1, x2])\n",
        "    w = np.array([-0.5, -0.5]) # AND와 Weight, Bias 값이 달라짐\n",
        "    b = 0.7\n",
        "    tmp = np.sum(w*x) + b\n",
        "    if tmp <= 0:\n",
        "        return 0\n",
        "    else:\n",
        "        return 1\n",
        "\n",
        "def OR(x1, x2):\n",
        "    x = np.array([x1, x2])\n",
        "    w = np.array(([0.5, 0.5])) # AND와 Bias 값이 달라짐\n",
        "    b = -0.2\n",
        "    tmp = np.sum(w*x) + b\n",
        "    if tmp <= 0:\n",
        "        return 0\n",
        "    else:\n",
        "        return 1"
      ],
      "execution_count": null,
      "outputs": []
    },
    {
      "cell_type": "code",
      "metadata": {
        "colab": {
          "base_uri": "https://localhost:8080/"
        },
        "id": "2rXcoiGa7zSH",
        "outputId": "5b5d1a83-e85a-4122-8a8f-0c634faa2c7f"
      },
      "source": [
        "NAND(0, 0), NAND(1, 0), NAND(1, 1), OR(0, 0), OR(1, 0), OR(1, 1)"
      ],
      "execution_count": null,
      "outputs": [
        {
          "output_type": "execute_result",
          "data": {
            "text/plain": [
              "(1, 1, 0, 0, 1, 1)"
            ]
          },
          "metadata": {
            "tags": []
          },
          "execution_count": 21
        }
      ]
    },
    {
      "cell_type": "markdown",
      "metadata": {
        "id": "Pr0Jto-pNNFV"
      },
      "source": [
        "### **2.5 다층 퍼셉트론 적용**"
      ]
    },
    {
      "cell_type": "markdown",
      "metadata": {
        "id": "_wqYsJ9B_Ypp"
      },
      "source": [
        "#### **2.5.2 XOR 게이트 구현**\n",
        "\n",
        " - 단층 퍼셉트론으로는 XOR 게이트를 표현할 수 없음을 다층 퍼셉트론을 이용해 해결"
      ]
    },
    {
      "cell_type": "code",
      "metadata": {
        "id": "VvOL13tZ70Qz"
      },
      "source": [
        "def XOR(x1, x2): # XOR 게이트는 NAND와 OR, AND 게이트를 활용하면 구할 수 있음\n",
        "    s1 = NAND(x1, x2)\n",
        "    s2 = OR(x1, x2)\n",
        "    y = AND(s1, s2)\n",
        "    return y"
      ],
      "execution_count": null,
      "outputs": []
    },
    {
      "cell_type": "code",
      "metadata": {
        "colab": {
          "base_uri": "https://localhost:8080/"
        },
        "id": "SOMZpmQ8_iaL",
        "outputId": "a05da183-8371-4271-8b7b-ff200b46fd1f"
      },
      "source": [
        "XOR(0,0), XOR(1,0), XOR(1,1)"
      ],
      "execution_count": null,
      "outputs": [
        {
          "output_type": "execute_result",
          "data": {
            "text/plain": [
              "(0, 1, 0)"
            ]
          },
          "metadata": {
            "tags": []
          },
          "execution_count": 23
        }
      ]
    },
    {
      "cell_type": "markdown",
      "metadata": {
        "id": "VuRId5fvBxKF"
      },
      "source": [
        "## **CHAPTER 3 : 신경망**\n",
        "\n",
        "  - 단순 퍼셉트론은 활성화 함수로 '계단 함수'를 이용한 반면 다층 퍼셉트론의 경우 활성화 함수로 '시그모이드 함수 등'을 이용했다는 점이 다름"
      ]
    },
    {
      "cell_type": "markdown",
      "metadata": {
        "id": "DSMVWsoGM8mC"
      },
      "source": [
        "### **3.2 활성화 함수**"
      ]
    },
    {
      "cell_type": "markdown",
      "metadata": {
        "id": "dZNzA4fBFdqF"
      },
      "source": [
        "#### **3.2.2 계단 함수 구현**"
      ]
    },
    {
      "cell_type": "code",
      "metadata": {
        "id": "8CjOoTcC_lV1"
      },
      "source": [
        "def step_function(x):\n",
        "    if x > 0:\n",
        "        return 1\n",
        "    else:\n",
        "        return 0\n",
        "\n",
        "def step_function(x): # 넘파이 배열 지원\n",
        "    y = x > 0\n",
        "    return y.astype(np.int)"
      ],
      "execution_count": null,
      "outputs": []
    },
    {
      "cell_type": "markdown",
      "metadata": {
        "id": "h3MPs099FnVd"
      },
      "source": [
        "#### **3.2.3 계단 함수의 그래프**"
      ]
    },
    {
      "cell_type": "code",
      "metadata": {
        "colab": {
          "base_uri": "https://localhost:8080/",
          "height": 265
        },
        "id": "uF-F-sG7E9xJ",
        "outputId": "4abd76dc-c164-4b73-ff76-6aa25b99a4a9"
      },
      "source": [
        "x = np.arange(-5.0, 5.0, 0.1)\n",
        "y = step_function(x)\n",
        "plt.plot(x, y)\n",
        "plt.ylim(-0.1, 1.1) # y축 범위 지정\n",
        "plt.show()"
      ],
      "execution_count": null,
      "outputs": [
        {
          "output_type": "display_data",
          "data": {
            "image/png": "[encoded data removed]",
            "text/plain": [
              "<Figure size 432x288 with 1 Axes>"
            ]
          },
          "metadata": {
            "tags": [],
            "needs_background": "light"
          }
        }
      ]
    },
    {
      "cell_type": "markdown",
      "metadata": {
        "id": "8kD5lpKDGCZQ"
      },
      "source": [
        "#### **3.2.4 시그모이드 함수 구현**\n",
        "\n",
        " - 시그모이드 함수, 계단 함수의 공통점\n",
        "    - 입력 값이 중요하면 큰 값을 출력. 중요하지 않으면 작은 값을 출력\n",
        "    - 입력 값이 아무리 커도 출력은 0과 1 사이\n",
        "    - 두 함수 모두 비선형 함수임\n",
        "    \n",
        " - 시그모이드 함수, 계단 함수의 차이점\n",
        "    - 시그모이드 함수는 입력에 따라 출력이 연속적으로 변화\n",
        "    - 반면, 계단 함수는 0을 경계로 출력이 바뀜\n",
        " "
      ]
    },
    {
      "cell_type": "code",
      "metadata": {
        "id": "biDTW8V5FV-M"
      },
      "source": [
        "def sigmoid(x):\n",
        "    return 1 / (1 + np.exp(-x))"
      ],
      "execution_count": null,
      "outputs": []
    },
    {
      "cell_type": "code",
      "metadata": {
        "colab": {
          "base_uri": "https://localhost:8080/",
          "height": 265
        },
        "id": "MqRSDm9eGJBP",
        "outputId": "cc6ebf0f-b5d8-483c-e64e-358a8bedca92"
      },
      "source": [
        "x = np.arange(-5.0, 5.0, 0.1)\n",
        "y = sigmoid(x)\n",
        "plt.plot(x, y)\n",
        "plt.ylim(-0.1, 1.1)\n",
        "plt.show()"
      ],
      "execution_count": null,
      "outputs": [
        {
          "output_type": "display_data",
          "data": {
            "image/png": "[encoded data removed]",
            "text/plain": [
              "<Figure size 432x288 with 1 Axes>"
            ]
          },
          "metadata": {
            "tags": [],
            "needs_background": "light"
          }
        }
      ]
    },
    {
      "cell_type": "markdown",
      "metadata": {
        "id": "mz3sa1J_IHPK"
      },
      "source": [
        "#### **3.2.7 ReLU 함수**"
      ]
    },
    {
      "cell_type": "code",
      "metadata": {
        "id": "sQu89KOcGUjc"
      },
      "source": [
        "def relu(x):\n",
        "    return np.maximum(0, x)"
      ],
      "execution_count": null,
      "outputs": []
    },
    {
      "cell_type": "markdown",
      "metadata": {
        "id": "DgsSKbqaMzWg"
      },
      "source": [
        "### **3.4 3층 신경망 구현하기**"
      ]
    },
    {
      "cell_type": "markdown",
      "metadata": {
        "id": "fcfzc7ioNVb5"
      },
      "source": [
        "#### **3.4.2 층별 신호 전달 구현**"
      ]
    },
    {
      "cell_type": "code",
      "metadata": {
        "colab": {
          "base_uri": "https://localhost:8080/"
        },
        "id": "WsjLpntwIOtO",
        "outputId": "5c8da9f2-2de4-44a7-e487-8b99ebfb2d7a"
      },
      "source": [
        "# 입력층(Input Layer)에서 1층(Hidden Layer)\n",
        "X = np.array([1.0, 0.5])\n",
        "W1 = np.array([[0.1, 0.3, 0.5], [0.2, 0.4, 0.6]])\n",
        "B1 = np.array([0.1, 0.2, 0.3])\n",
        "\n",
        "A1 = np.dot(X, W1) + B1\n",
        "Z1 = sigmoid(A1)\n",
        "\n",
        "A1, Z1"
      ],
      "execution_count": null,
      "outputs": [
        {
          "output_type": "execute_result",
          "data": {
            "text/plain": [
              "(array([0.3, 0.7, 1.1]), array([0.57444252, 0.66818777, 0.75026011]))"
            ]
          },
          "metadata": {
            "tags": []
          },
          "execution_count": 29
        }
      ]
    },
    {
      "cell_type": "code",
      "metadata": {
        "id": "dZ4cEubYNoIG"
      },
      "source": [
        "# 1층(Hidden Layer)에서 2층(Hidden Layer)\n",
        "W2 = np.array([[0.1, 0.4], [0.2, 0.5], [0.3, 0.6]])\n",
        "B2 = np.array([0.1, 0.2])\n",
        "\n",
        "A2 = np.dot(Z1, W2) + B2\n",
        "Z2 = sigmoid(A2)"
      ],
      "execution_count": null,
      "outputs": []
    },
    {
      "cell_type": "code",
      "metadata": {
        "colab": {
          "base_uri": "https://localhost:8080/"
        },
        "id": "w2upHdFqOWqz",
        "outputId": "ffeebab6-e0d7-4bf8-82c3-3177272f7988"
      },
      "source": [
        "# 2층(Hidden Layer)에서 출력층(Output Layer)\n",
        "def identify_function(x): # 항등 함수 설정\n",
        "    return x # 이진 분류에서는 시그모이드 함수, 다중 분류에서는 소프트맥스 함수 사용\n",
        "\n",
        "W3 = np.array([[0.1, 0.3], [0.2, 0.4]])\n",
        "B3 = np.array([0.1, 0.2])\n",
        "\n",
        "A3 = np.dot(Z2, W3) + B3\n",
        "Y = identify_function(A3)\n",
        "Y"
      ],
      "execution_count": null,
      "outputs": [
        {
          "output_type": "execute_result",
          "data": {
            "text/plain": [
              "array([0.31682708, 0.69627909])"
            ]
          },
          "metadata": {
            "tags": []
          },
          "execution_count": 31
        }
      ]
    },
    {
      "cell_type": "markdown",
      "metadata": {
        "id": "wfoPTzRPPLFG"
      },
      "source": [
        "#### **3.4.3 구현 정리**\n"
      ]
    },
    {
      "cell_type": "code",
      "metadata": {
        "id": "wjZkT8gPO3rO"
      },
      "source": [
        "def init_network():\n",
        "    network = {}\n",
        "    network['W1'] = np.array([[0.1, 0.3, 0.5], [0.2, 0.4, 0.6]])\n",
        "    network['W2'] = np.array([[0.1, 0.4], [0.2, 0.5], [0.3, 0.6]])\n",
        "    network['W3'] = np.array([[0.1, 0.3], [0.2, 0.4]])\n",
        "    network['B1'] = np.array([0.1, 0.2, 0.3])\n",
        "    network['B2'] = np.array([0.1, 0.2])\n",
        "    network['B3'] = np.array([0.1, 0.2])\n",
        "\n",
        "    return network\n",
        "\n",
        "def forward(network, x):\n",
        "    W1, W2, W3 = network['W1'], network['W2'], network['W3']\n",
        "    B1, B2, B3 = network['B1'], network['B2'], network['B3']\n",
        "    # 입력층에서 1층\n",
        "    A1 = np.dot(x, W1) + B1\n",
        "    Z1 = sigmoid(A1)\n",
        "    # 1층에서 2층\n",
        "    A2 = np.dot(Z1, W2) + B2\n",
        "    Z2 = sigmoid(A2)\n",
        "    # 2층에서 출력층\n",
        "    A3 = np.dot(Z2, W3) + B3\n",
        "    Y = identify_function(A3)\n",
        "\n",
        "    return Y"
      ],
      "execution_count": null,
      "outputs": []
    },
    {
      "cell_type": "code",
      "metadata": {
        "colab": {
          "base_uri": "https://localhost:8080/"
        },
        "id": "mPra1xy4QNT6",
        "outputId": "c1576366-c031-4faa-c248-98ce13e62c1b"
      },
      "source": [
        "network = init_network()\n",
        "x = np.array([1.0, 0.5])\n",
        "y = forward(network, x)\n",
        "y"
      ],
      "execution_count": null,
      "outputs": [
        {
          "output_type": "execute_result",
          "data": {
            "text/plain": [
              "array([0.31682708, 0.69627909])"
            ]
          },
          "metadata": {
            "tags": []
          },
          "execution_count": 33
        }
      ]
    },
    {
      "cell_type": "markdown",
      "metadata": {
        "id": "arJzJmumRr9S"
      },
      "source": [
        "### **3.5 출력층 설계**"
      ]
    },
    {
      "cell_type": "markdown",
      "metadata": {
        "id": "XmS6qX4dRvLc"
      },
      "source": [
        "#### **3.5.1 소프트맥스 함수 구현**"
      ]
    },
    {
      "cell_type": "code",
      "metadata": {
        "id": "4VLyxK8aQUvS"
      },
      "source": [
        "def softmax(a):\n",
        "    exp_a = np.exp(a)\n",
        "    sum_exp_a = np.sum(exp_a)\n",
        "    y = exp_a / sum_exp_a\n",
        "\n",
        "    return y"
      ],
      "execution_count": null,
      "outputs": []
    },
    {
      "cell_type": "code",
      "metadata": {
        "colab": {
          "base_uri": "https://localhost:8080/"
        },
        "id": "r9DuPlnrSCFJ",
        "outputId": "a774c938-4bb7-46cd-8902-7436211fc9f1"
      },
      "source": [
        "a = np.array([0.3, 2.9, 4.0])\n",
        "softmax(a)"
      ],
      "execution_count": null,
      "outputs": [
        {
          "output_type": "execute_result",
          "data": {
            "text/plain": [
              "array([0.01821127, 0.24519181, 0.73659691])"
            ]
          },
          "metadata": {
            "tags": []
          },
          "execution_count": 35
        }
      ]
    },
    {
      "cell_type": "markdown",
      "metadata": {
        "id": "tdt12QW0SdsC"
      },
      "source": [
        "#### **3.5.2 소프트맥스 함수 구현 시 주의점**\n",
        "\n",
        "  - 오버플로우를 막기 위해 최댓값 C 이용"
      ]
    },
    {
      "cell_type": "code",
      "metadata": {
        "id": "NfiPkjgdSHVc"
      },
      "source": [
        "def softmax(a):\n",
        "    c = np.max(a)\n",
        "    exp_a = np.exp(a - c) # 오버플로우 대책\n",
        "    sum_exp_a = np.sum(exp_a)\n",
        "    y = exp_a / sum_exp_a\n",
        "\n",
        "    return y"
      ],
      "execution_count": null,
      "outputs": []
    },
    {
      "cell_type": "code",
      "metadata": {
        "colab": {
          "base_uri": "https://localhost:8080/"
        },
        "id": "qMBuGKmxS2s5",
        "outputId": "47545e3e-209d-41a7-e4a1-df0adaae9c02"
      },
      "source": [
        "a = np.array([1010, 1000, 990])\n",
        "softmax(a)"
      ],
      "execution_count": null,
      "outputs": [
        {
          "output_type": "execute_result",
          "data": {
            "text/plain": [
              "array([9.99954600e-01, 4.53978686e-05, 2.06106005e-09])"
            ]
          },
          "metadata": {
            "tags": []
          },
          "execution_count": 37
        }
      ]
    },
    {
      "cell_type": "markdown",
      "metadata": {
        "id": "nVnrpwEwUHb1"
      },
      "source": [
        "### **3.6 손글씨 숫자 인식**"
      ]
    },
    {
      "cell_type": "markdown",
      "metadata": {
        "id": "IUSO0pAAZgzm"
      },
      "source": [
        "#### **3.6.1 MNIST 데이터셋**"
      ]
    },
    {
      "cell_type": "code",
      "metadata": {
        "colab": {
          "base_uri": "https://localhost:8080/"
        },
        "id": "oUl1CfNxS6B2",
        "outputId": "c8bcf8b7-5aab-4761-afcb-c99d2adcc012"
      },
      "source": [
        "path = '/content/drive/MyDrive/머신러닝/개인 공부/Deep Learning from Scratch 1'\n",
        "sys.path.append(path)\n",
        "from dataset.mnist import load_mnist\n",
        "\n",
        "(x_train, t_train), (x_test, t_test) = \\\n",
        "    load_mnist(flatten=True, normalize=False)\n",
        "\n",
        "print(x_train.shape, t_train.shape, x_test.shape, t_test.shape)"
      ],
      "execution_count": null,
      "outputs": [
        {
          "output_type": "stream",
          "text": [
            "(60000, 784) (60000,) (10000, 784) (10000,)\n"
          ],
          "name": "stdout"
        }
      ]
    },
    {
      "cell_type": "code",
      "metadata": {
        "colab": {
          "base_uri": "https://localhost:8080/",
          "height": 45
        },
        "id": "6mmz3u3pVZBO",
        "outputId": "09031271-3dec-4dcd-e0fe-403d55a99a86"
      },
      "source": [
        "def img_show(img):\n",
        "    pil_img = Image.fromarray(np.uint8(img))\n",
        "    return pil_img\n",
        "\n",
        "img = x_train[0]\n",
        "label = t_train[0]\n",
        "\n",
        "img = img.reshape(28, 28)\n",
        "img_show(img)"
      ],
      "execution_count": null,
      "outputs": [
        {
          "output_type": "execute_result",
          "data": {
            "image/png": "[encoded data removed]",
            "text/plain": [
              "<PIL.Image.Image image mode=L size=28x28 at 0x7EFBFA507240>"
            ]
          },
          "metadata": {
            "tags": []
          },
          "execution_count": 39
        }
      ]
    },
    {
      "cell_type": "markdown",
      "metadata": {
        "id": "Bw2GUX9bZlgj"
      },
      "source": [
        "#### **3.6.2 신경망의 추론 처리**"
      ]
    },
    {
      "cell_type": "code",
      "metadata": {
        "id": "zpOTUHQcYsqX"
      },
      "source": [
        "def get_data():\n",
        "    (x_train, t_train), (x_test, t_test) = \\\n",
        "        load_mnist(normalize=True, flatten=True, one_hot_label=False)\n",
        "    return x_test, t_test\n",
        "\n",
        "def init_network():\n",
        "    with open(\"/content/drive/MyDrive/머신러닝/개인 공부/Deep Learning from Scratch 1/dataset/sample_weight.pkl\", 'rb') as f:\n",
        "        network = pickle.load(f)\n",
        "    return network\n",
        "\n",
        "def predict(network, x):\n",
        "    W1, W2, W3 = network['W1'], network['W2'], network['W3']\n",
        "    B1, B2, B3 = network['b1'], network['b2'], network['b3']\n",
        "    # 입력층에서 1층\n",
        "    A1 = np.dot(x, W1) + B1\n",
        "    Z1 = sigmoid(A1)\n",
        "    # 1층에서 2층\n",
        "    A2 = np.dot(Z1, W2) + B2\n",
        "    Z2 = sigmoid(A2)\n",
        "    # 2층에서 출력층\n",
        "    A3 = np.dot(Z2, W3) + B3\n",
        "    y = softmax(A3)\n",
        "\n",
        "    return y"
      ],
      "execution_count": null,
      "outputs": []
    },
    {
      "cell_type": "code",
      "metadata": {
        "colab": {
          "base_uri": "https://localhost:8080/"
        },
        "id": "f3f8S8jpbWfi",
        "outputId": "608ac508-0732-4674-e85d-f9725694a086"
      },
      "source": [
        "x, t = get_data()\n",
        "network = init_network()\n",
        "\n",
        "accuracy_cnt = 0\n",
        "for i in range(len(x)):\n",
        "    y = predict(network, x[i])\n",
        "    p = np.argmax(y)\n",
        "    if p == t[i]:\n",
        "        accuracy_cnt += 1\n",
        "\n",
        "print(\"Accuracy : \" + str(float(accuracy_cnt) /len(x)))"
      ],
      "execution_count": null,
      "outputs": [
        {
          "output_type": "stream",
          "text": [
            "Accuracy : 0.9352\n"
          ],
          "name": "stdout"
        }
      ]
    },
    {
      "cell_type": "markdown",
      "metadata": {
        "id": "pxJxvzsSc1m9"
      },
      "source": [
        "#### **3.6.3 배치 사이즈 설정**"
      ]
    },
    {
      "cell_type": "code",
      "metadata": {
        "colab": {
          "base_uri": "https://localhost:8080/"
        },
        "id": "qG06jS-FbX-m",
        "outputId": "c203db84-3cf8-4617-86a0-3f027491f6c7"
      },
      "source": [
        "x, t = get_data()\n",
        "network = init_network()\n",
        "\n",
        "batch_size = 100\n",
        "accuracy_cnt = 0\n",
        "for i in range(0, len(x), batch_size):\n",
        "    x_batch = x[i:i+batch_size]\n",
        "    y_batch = predict(network, x_batch)\n",
        "    p = np.argmax(y_batch, axis=1)\n",
        "    accuracy_cnt += np.sum(p == t[i:i+batch_size]) # True 결과값 세기\n",
        "    \n",
        "print(\"Accuracy : \" + str(float(accuracy_cnt) /len(x)))"
      ],
      "execution_count": null,
      "outputs": [
        {
          "output_type": "stream",
          "text": [
            "Accuracy : 0.9352\n"
          ],
          "name": "stdout"
        }
      ]
    },
    {
      "cell_type": "markdown",
      "metadata": {
        "id": "5HxGKB4hV_PY"
      },
      "source": [
        "## **CHAPTER 4 : 신경망 학습**\n",
        "\n",
        " - 신경망 학습에 사용하는 지표 : 손실 함수(Loss Function)\n"
      ]
    },
    {
      "cell_type": "markdown",
      "metadata": {
        "id": "0w9JzpREWh8c"
      },
      "source": [
        "### **4.2 손실함수**\n",
        "- 오차제곱합(Sum of Squares for Error, SSE)\n",
        "- 교차 엔트로피 오차(Cross Entropy Error, CEE)"
      ]
    },
    {
      "cell_type": "markdown",
      "metadata": {
        "id": "IMkaZzr-Xb7a"
      },
      "source": [
        "#### **4.2.1 오차제곱합(SSE)**\n",
        "- 구글 검색결과와 본 책에서 제공하는 공식이 조금 다름(본 책에서는 0.5를 곱함)"
      ]
    },
    {
      "cell_type": "code",
      "metadata": {
        "id": "TXEWNd5-SeDR"
      },
      "source": [
        "def sum_squares_error(y, t):\n",
        "    return 0.5 * np.sum((y-t)**2) # 오차의 제곱에 0.5를 곱해줌"
      ],
      "execution_count": null,
      "outputs": []
    },
    {
      "cell_type": "code",
      "metadata": {
        "colab": {
          "base_uri": "https://localhost:8080/"
        },
        "id": "qJ8IsrjFYMhM",
        "outputId": "162ece60-666d-484f-bf97-8bb39134e279"
      },
      "source": [
        "t = [0, 0, 1, 0, 0, 0, 0, 0, 0, 0]\n",
        "y = [0.1, 0.05, 0.6, 0, 0.05, 0.1, 0, 0.1, 0, 0]\n",
        "\n",
        "sum_squares_error(np.array(y), np.array(t))"
      ],
      "execution_count": null,
      "outputs": [
        {
          "output_type": "execute_result",
          "data": {
            "text/plain": [
              "0.09750000000000003"
            ]
          },
          "metadata": {
            "tags": []
          },
          "execution_count": 44
        }
      ]
    },
    {
      "cell_type": "markdown",
      "metadata": {
        "id": "5nhZq_2vYzLX"
      },
      "source": [
        "#### **4.2.2 교차 엔트로피 오차(CEE)**"
      ]
    },
    {
      "cell_type": "code",
      "metadata": {
        "id": "w6TDx0FtYjRs"
      },
      "source": [
        "def cross_entropy_error(y, t):\n",
        "    delta = 1e-7\n",
        "    return -np.sum(t * np.log(y + delta))"
      ],
      "execution_count": null,
      "outputs": []
    },
    {
      "cell_type": "code",
      "metadata": {
        "colab": {
          "base_uri": "https://localhost:8080/"
        },
        "id": "5VrjZT5Wai1S",
        "outputId": "8cad1520-8a0b-49c2-a31e-9eaea3027722"
      },
      "source": [
        "t = [0, 0, 1, 0, 0, 0, 0, 0, 0, 0]\n",
        "y = [0.1, 0.05, 0.6, 0, 0.05, 0.1, 0, 0.1, 0, 0]\n",
        "\n",
        "cross_entropy_error(np.array(y), np.array(t))"
      ],
      "execution_count": null,
      "outputs": [
        {
          "output_type": "execute_result",
          "data": {
            "text/plain": [
              "0.510825457099338"
            ]
          },
          "metadata": {
            "tags": []
          },
          "execution_count": 46
        }
      ]
    },
    {
      "cell_type": "markdown",
      "metadata": {
        "id": "c3P-TkbSct_y"
      },
      "source": [
        "#### **4.2.4 (배치용) 교차 엔트로피 오차 구현**"
      ]
    },
    {
      "cell_type": "code",
      "metadata": {
        "id": "0p_OGDUparO9"
      },
      "source": [
        "def cross_entropy_error(y, t): # Input값이 원-핫-인코딩일 경우\n",
        "    if y.ndim == 1:\n",
        "        t = t.reshape(1, t.size)\n",
        "        y = y.reshape(1, y.size)\n",
        "\n",
        "    batch_size = y.shape[0]\n",
        "    return - np.sum(t * np.log(y + 1e-7)) / batch_size\n",
        "\n",
        "def cross_entropy_error(y, t): # Input값이 레이블일 경우\n",
        "    if y.ndim == 1:\n",
        "        t = t.reshape(1, t.size)\n",
        "        y = y.reshape(1, y.size)\n",
        "\n",
        "    batch_size = y.shape[0]\n",
        "    return - np.sum(np.log(y[np.arange(batch_size), t] + 1e-7)) / batch_size"
      ],
      "execution_count": null,
      "outputs": []
    },
    {
      "cell_type": "markdown",
      "metadata": {
        "id": "8_jhp4Nolaad"
      },
      "source": [
        "### **4.3 수치 미분**"
      ]
    },
    {
      "cell_type": "markdown",
      "metadata": {
        "id": "uVEfQQjileZD"
      },
      "source": [
        "#### **4.3.1 미분**"
      ]
    },
    {
      "cell_type": "code",
      "metadata": {
        "id": "RhuB0TFQhW8O"
      },
      "source": [
        "def numerical_diff(f, x): # 수치 미분\n",
        "    h = 1e-4 # 0.0001을 의미\n",
        "    return (f(x+h) - f(x-h)) / 2*h # 중심 차분을 구하기 위해 x+h와 x-h를 계산함"
      ],
      "execution_count": null,
      "outputs": []
    },
    {
      "cell_type": "markdown",
      "metadata": {
        "id": "6mGgbuH5l2UR"
      },
      "source": [
        "#### **4.3.2 수치 미분 예시**"
      ]
    },
    {
      "cell_type": "code",
      "metadata": {
        "id": "0iNOPz5xlvkT"
      },
      "source": [
        "def function_a(x):\n",
        "    return 0.01 * x**2 + 0.1*x"
      ],
      "execution_count": null,
      "outputs": []
    },
    {
      "cell_type": "code",
      "metadata": {
        "colab": {
          "base_uri": "https://localhost:8080/",
          "height": 279
        },
        "id": "y6a97a8Ll_Z4",
        "outputId": "39fe6b2a-b07a-47b4-c2e9-5e5b546c8f60"
      },
      "source": [
        "x = np.arange(0, 20, 0.1) # 0에서 20까지 0.1 간격의 배열 x\n",
        "y = function_a(x)\n",
        "\n",
        "plt.xlabel(\"x\")\n",
        "plt.ylabel(\"f(x)\")\n",
        "plt.plot(x, y)\n",
        "plt.show()"
      ],
      "execution_count": null,
      "outputs": [
        {
          "output_type": "display_data",
          "data": {
            "image/png": "[encoded data removed]",
            "text/plain": [
              "<Figure size 432x288 with 1 Axes>"
            ]
          },
          "metadata": {
            "tags": [],
            "needs_background": "light"
          }
        }
      ]
    },
    {
      "cell_type": "code",
      "metadata": {
        "colab": {
          "base_uri": "https://localhost:8080/"
        },
        "id": "2ES5nKO9mQNA",
        "outputId": "203de597-2ed7-4bcf-d8b7-83e269e7ff9e"
      },
      "source": [
        "numerical_diff(function_a, 5) # f(5) 변화량"
      ],
      "execution_count": null,
      "outputs": [
        {
          "output_type": "execute_result",
          "data": {
            "text/plain": [
              "1.9999999999908982e-09"
            ]
          },
          "metadata": {
            "tags": []
          },
          "execution_count": 52
        }
      ]
    },
    {
      "cell_type": "markdown",
      "metadata": {
        "id": "8_wJFATynCMV"
      },
      "source": [
        "#### **4.3.3 편미분**"
      ]
    },
    {
      "cell_type": "code",
      "metadata": {
        "colab": {
          "base_uri": "https://localhost:8080/"
        },
        "id": "9LUicqPlmdYa",
        "outputId": "dce1767b-af57-4862-a085-e63262f87fa2"
      },
      "source": [
        "def function_b(x):\n",
        "    return x[0]**2 + x[1]**2\n",
        "\n",
        "# x0 = 3 x1 = 4일때, x0에 대한 편미분\n",
        "def function_b_tmp(x0):\n",
        "    return x0*x0 + 4.0**2.0\n",
        "\n",
        "numerical_diff(function_b_tmp, 3.0)"
      ],
      "execution_count": null,
      "outputs": [
        {
          "output_type": "execute_result",
          "data": {
            "text/plain": [
              "6.000000000003781e-08"
            ]
          },
          "metadata": {
            "tags": []
          },
          "execution_count": 58
        }
      ]
    },
    {
      "cell_type": "markdown",
      "metadata": {
        "id": "57gfRnv0oeQv"
      },
      "source": [
        "### **4.4 기울기**"
      ]
    },
    {
      "cell_type": "code",
      "metadata": {
        "id": "5B3Xj_kpnKsZ"
      },
      "source": [
        "def numerical_gradient(f, x):\n",
        "    h = 1e-4 # 0.0001\n",
        "    grad = np.zeros_like(x) # x와 형상이 같고 원소가 모두 0인 배열 생성\n",
        "\n",
        "    for idx in range(x.size):\n",
        "        tmp_val = x[idx]\n",
        "        # f(x+h) 계산\n",
        "        x[idx] = tmp_val + h\n",
        "        fxh1 = f(x)\n",
        "\n",
        "        # f(x-h) 계산\n",
        "        x[idx] = tmp_val - h\n",
        "        fxh2 = f(x)\n",
        "\n",
        "        grad[idx] = (fxh1 - fxh2) / (2*h)\n",
        "        x[idx] = tmp_val # 값 복원\n",
        "    \n",
        "    return grad"
      ],
      "execution_count": null,
      "outputs": []
    },
    {
      "cell_type": "code",
      "metadata": {
        "colab": {
          "base_uri": "https://localhost:8080/"
        },
        "id": "Z5SwPQGho_Jd",
        "outputId": "985643b4-5f14-408d-c452-576f99ca9664"
      },
      "source": [
        "numerical_gradient(function_b, np.array([3.0, 4.0])) # 각 점에서의 기울기 계산"
      ],
      "execution_count": null,
      "outputs": [
        {
          "output_type": "execute_result",
          "data": {
            "text/plain": [
              "array([6., 8.])"
            ]
          },
          "metadata": {
            "tags": []
          },
          "execution_count": 60
        }
      ]
    },
    {
      "cell_type": "markdown",
      "metadata": {
        "id": "KuAzSRoSqhIV"
      },
      "source": [
        "#### **4.4.1 경사 하강법**\n",
        "\n",
        "- 기울기를 이용해 함수의 최솟값을 찾는 방법"
      ]
    },
    {
      "cell_type": "code",
      "metadata": {
        "id": "AdGPOgUUpK8f"
      },
      "source": [
        "def gradient_descent(f, init_x, lr=0.01, step_num=100):\n",
        "    x = init_x\n",
        "\n",
        "    for i in tqdm(range(step_num)):\n",
        "        grad = numerical_gradient(f, x)\n",
        "        x -= lr * grad # 기울기에 학습률을 곱해 갱신 처리\n",
        "    return x"
      ],
      "execution_count": null,
      "outputs": []
    },
    {
      "cell_type": "code",
      "metadata": {
        "colab": {
          "base_uri": "https://localhost:8080/"
        },
        "id": "Yh3_7sM4rA_7",
        "outputId": "c48602de-e87e-43b8-d76f-f2cec5fc4f55"
      },
      "source": [
        "# 경사 하강법을 이용해 최솟값 탐색\n",
        "init_x = np.array([-3.0, 4.0])\n",
        "gradient_descent(function_b, init_x=init_x, lr=0.1, step_num=100)"
      ],
      "execution_count": null,
      "outputs": [
        {
          "output_type": "stream",
          "text": [
            "100%|██████████| 100/100 [00:00<00:00, 47031.89it/s]\n"
          ],
          "name": "stderr"
        },
        {
          "output_type": "execute_result",
          "data": {
            "text/plain": [
              "array([-6.11110793e-10,  8.14814391e-10])"
            ]
          },
          "metadata": {
            "tags": []
          },
          "execution_count": 65
        }
      ]
    },
    {
      "cell_type": "markdown",
      "metadata": {
        "id": "o--N6DWgsS3W"
      },
      "source": [
        "#### **4.4.2 신경망에서의 기울기**"
      ]
    },
    {
      "cell_type": "code",
      "metadata": {
        "id": "gMpqwyutrI62"
      },
      "source": [
        "path = '/content/drive/MyDrive/머신러닝/개인 공부/Deep Learning from Scratch 1/common'\n",
        "sys.path.append(path)\n",
        "from functions import softmax, cross_entropy_error\n",
        "from gradient import numerical_gradient\n",
        "\n",
        "class simpleNet:\n",
        "    def __init__(self):\n",
        "        self.W = np.random.randn(2, 3) # 정규분포로 초기화\n",
        "    \n",
        "    def predict(self, x):\n",
        "        return np.dot(x, self.W)\n",
        "\n",
        "    def loss(self, x, t):\n",
        "        z = self.predict(x)\n",
        "        y = softmax(z)\n",
        "        loss = cross_entropy_error(y, t)\n",
        "        return loss"
      ],
      "execution_count": null,
      "outputs": []
    },
    {
      "cell_type": "code",
      "metadata": {
        "id": "aSAajLlSsoH4",
        "colab": {
          "base_uri": "https://localhost:8080/"
        },
        "outputId": "54534bda-ac3e-40cd-ffd4-1594125f1900"
      },
      "source": [
        "net = simpleNet()\n",
        "print(net.W) # 가중치 매개변수\n",
        "print('-'*50)\n",
        "x = np.array([0.6, 0.9])\n",
        "p = net.predict(x)\n",
        "print(p) # 최댓값 인덱스\n",
        "print('-'*50)\n",
        "t = np.array([0, 0, 1]) # 정답 레이블\n",
        "net.loss(x,t)"
      ],
      "execution_count": null,
      "outputs": [
        {
          "output_type": "stream",
          "text": [
            "[[-1.53960919  1.988648    1.69038416]\n",
            " [ 1.0421999  -0.1443081   0.64931165]]\n",
            "--------------------------------------------------\n",
            "[0.01421439 1.06331151 1.59861098]\n",
            "--------------------------------------------------\n"
          ],
          "name": "stdout"
        },
        {
          "output_type": "execute_result",
          "data": {
            "text/plain": [
              "0.5825312696766601"
            ]
          },
          "metadata": {
            "tags": []
          },
          "execution_count": 88
        }
      ]
    },
    {
      "cell_type": "code",
      "metadata": {
        "colab": {
          "base_uri": "https://localhost:8080/"
        },
        "id": "ffj1pi2HuoIj",
        "outputId": "4d59d758-c188-4037-a508-86012a252923"
      },
      "source": [
        "def f(W):\n",
        "    return net.loss(x, t)\n",
        "\n",
        "dW = numerical_gradient(f, net.W)\n",
        "print(dW)\n",
        "\n",
        "##############################################################################\n",
        "# 람다를 이용해 def 함수와 같은 역할 수행\n",
        "f = lambda w: net.loss(x, t)\n",
        "dw = numerical_gradient(f, net.W)"
      ],
      "execution_count": null,
      "outputs": [
        {
          "output_type": "stream",
          "text": [
            "[[ 0.06871733  0.19619294 -0.26491027]\n",
            " [ 0.103076    0.29428941 -0.3973654 ]]\n"
          ],
          "name": "stdout"
        }
      ]
    },
    {
      "cell_type": "markdown",
      "metadata": {
        "id": "4nWzuhJOU9zP"
      },
      "source": [
        "### **4.5 학습 알고리즘 구현**\n",
        "\n",
        " - 1단계 : 미니배치\n",
        "    - 훈련 데이터 중 일부를 무작위로 가져옴.\n",
        "    - 미니배치의 손실 함수 값을 줄이는 것이 목표.\n",
        "\n",
        " - 2단계 : 기울기 산출\n",
        "    - 각 가중치 매개변수의 기울기를 구함.\n",
        "    - 기울기는 손실 함수의 값을 가장 작게 하는 방향을 제시.\n",
        "\n",
        " - 매개변수 갱신(Stochastic Gradient Descent, SGD)\n",
        "    - 가중치 매개변수를 기울기 방향으로 갱신\n",
        "    - SGD : 무작위 확률로 골라낸 데이터에 대해 수행하는 경사 하강법"
      ]
    },
    {
      "cell_type": "markdown",
      "metadata": {
        "id": "etHbbQzhXqTj"
      },
      "source": [
        "#### **4.5.1 2층 신경망 클래스 구현**"
      ]
    },
    {
      "cell_type": "code",
      "metadata": {
        "id": "D0IfB6gbvFhl"
      },
      "source": [
        "path = '/content/drive/MyDrive/머신러닝/개인 공부/Deep Learning from Scratch 1/common'\n",
        "sys.path.append(path)\n",
        "from functions import *\n",
        "from gradient import numerical_gradient\n",
        "\n",
        "class TwoLayerNet:\n",
        "    def __init__(self, input_size, hidden_size, output_size,\n",
        "                 weight_init_std=0.01):\n",
        "        # 가중치 초기화\n",
        "        self.params = {}\n",
        "        self.params['W1'] = weight_init_std * \\\n",
        "                           np.random.randn(input_size, hidden_size) # 첫 번째 층 가중치\n",
        "        self.params['W2'] = weight_init_std * \\\n",
        "                           np.random.randn(hidden_size, output_size) # 두 번째 층 가중치\n",
        "        self.params['b1'] = np.zeros(hidden_size) # 첫 번째 층 편향\n",
        "        self.params['b2'] = np.zeros(output_size) # 두 번째 층 편향\n",
        "\n",
        "    def predict(self, x): # 예측 수행\n",
        "        # 변수 불러오기\n",
        "        W1, W2 = self.params['W1'], self.params['W2']\n",
        "        b1, b2 = self.params['b1'], self.params['b2']\n",
        "        \n",
        "        a1 = np.dot(x, W1) + b1\n",
        "        z1 = sigmoid(a1)\n",
        "        a2 = np.dot(z1, W2) + b2\n",
        "        y = softmax(a2)\n",
        "        return y\n",
        "    \n",
        "    def loss(self, x, t): # 오차 계산\n",
        "        # x : 입력 데이터, t : 정답 라벨\n",
        "        y = self.predict(x) # 예측 결과 불러오기 \n",
        "        return cross_entropy_error(y, t) # 교차 엔트로피 오차 수행\n",
        "\n",
        "    def accuracy(self, x, t):\n",
        "        y = self.predict(x)\n",
        "        y = np.argmax(y, axis=1) # 예측 확률이 큰 라벨이 결과값\n",
        "        t = np.argmax(t, axis=1)\n",
        "        # 정확도 계산\n",
        "        accuracy = np.sum(y==t) / float(x.shape[0])\n",
        "        return accuracy\n",
        "\n",
        "    def numerical_gradient(self, x, t): # 가중치의 매개변수 기울기 계산\n",
        "        loss_W = lambda W: self.loss(x, t)\n",
        "\n",
        "        grads = {}\n",
        "        grads['W1'] = numerical_gradient(loss_W, self.params['W1'])\n",
        "        grads['W2'] = numerical_gradient(loss_W, self.params['W2'])\n",
        "        grads['b1'] = numerical_gradient(loss_W, self.params['b1'])\n",
        "        grads['b2'] = numerical_gradient(loss_W, self.params['b2'])\n",
        "        return grads"
      ],
      "execution_count": null,
      "outputs": []
    },
    {
      "cell_type": "markdown",
      "metadata": {
        "id": "PV18kDpTddO6"
      },
      "source": [
        "#### **4.5.2 미니배치 학습 구현**"
      ]
    },
    {
      "cell_type": "code",
      "metadata": {
        "colab": {
          "base_uri": "https://localhost:8080/"
        },
        "id": "ev-DRrY0YJvK",
        "outputId": "61b394d6-5d30-4c03-a431-b12d328c66fe"
      },
      "source": [
        "path = '/content/drive/MyDrive/머신러닝/개인 공부/Deep Learning from Scratch 1'\n",
        "sys.path.append(path)\n",
        "from dataset.mnist import load_mnist\n",
        "\n",
        "(x_train, t_train), (x_test, t_test) = \\\n",
        "    load_mnist(normalize=True, one_hot_label=True)\n",
        "\n",
        "# 하이퍼파라미터 설정\n",
        "iters_num = 5\n",
        "train_size = x_train.shape[0]\n",
        "batch_size = 100\n",
        "learning_rate = 0.1\n",
        "\n",
        "net = TwoLayerNet(input_size=784, hidden_size=50, output_size=10)\n",
        "\n",
        "train_loss_list = []\n",
        "\n",
        "for i in tqdm(range(iters_num)):\n",
        "    batch_mask = np.random.choice(train_size, batch_size)\n",
        "    x_batch = x_train[batch_mask]\n",
        "    t_batch = t_train[batch_mask]\n",
        "    # 기울기 계산\n",
        "    grad = net.numerical_gradient(x_batch, t_batch)\n",
        "    # 매개변수 갱신\n",
        "    for key in ('W1', 'b1', 'W2', 'b2'):\n",
        "        net.params[key] -= learning_rate * grad[key]\n",
        "    # 학습 경과 기록\n",
        "    loss = net.loss(x_batch, t_batch)\n",
        "    train_loss_list.append(loss)"
      ],
      "execution_count": null,
      "outputs": [
        {
          "output_type": "stream",
          "text": [
            "\n",
            "  0%|          | 0/5 [00:00<?, ?it/s]\u001b[A\n",
            " 20%|██        | 1/5 [01:13<04:54, 73.62s/it]\u001b[A\n",
            " 40%|████      | 2/5 [02:27<03:40, 73.62s/it]\u001b[A\n",
            " 60%|██████    | 3/5 [03:40<02:27, 73.59s/it]\u001b[A\n",
            " 80%|████████  | 4/5 [04:54<01:13, 73.64s/it]\u001b[A\n",
            "100%|██████████| 5/5 [06:07<00:00, 73.60s/it]\n"
          ],
          "name": "stderr"
        }
      ]
    },
    {
      "cell_type": "markdown",
      "metadata": {
        "id": "O9yX55aXhY5q"
      },
      "source": [
        "#### **4.5.3 시험 데이터로 평가**"
      ]
    },
    {
      "cell_type": "code",
      "metadata": {
        "id": "jhNXNT5EbwoD"
      },
      "source": [
        "path = '/content/drive/MyDrive/머신러닝/개인 공부/Deep Learning from Scratch 1'\n",
        "sys.path.append(path)\n",
        "from dataset.mnist import load_mnist\n",
        "\n",
        "(x_train, t_train), (x_test, t_test) = \\\n",
        "    load_mnist(normalize=True, one_hot_label=True)\n",
        "\n",
        "# 하이퍼파라미터 설정\n",
        "iters_num = 5\n",
        "train_size = x_train.shape[0]\n",
        "batch_size = 100\n",
        "learning_rate = 0.1\n",
        "\n",
        "net = TwoLayerNet(input_size=784, hidden_size=50, output_size=10)\n",
        "\n",
        "# 1에폭당 반복 수\n",
        "iter_per_epochs = max(train_size / batch_size, 1)\n",
        "\n",
        "train_loss_list = []\n",
        "train_acc_list = []\n",
        "test_acc_list = []\n",
        "\n",
        "for i in tqdm(range(iters_num)):\n",
        "    batch_mask = np.random.choice(train_size, batch_size)\n",
        "    x_batch = x_train[batch_mask]\n",
        "    t_batch = t_train[batch_mask]\n",
        "    # 기울기 계산\n",
        "    grad = net.numerical_gradient(x_batch, t_batch)\n",
        "    # 매개변수 갱신\n",
        "    for key in ('W1', 'b1', 'W2', 'b2'):\n",
        "        net.params[key] -= learning_rate * grad[key]\n",
        "    # 학습 경과 기록\n",
        "    loss = net.loss(x_batch, t_batch)\n",
        "    train_loss_list.append(loss)\n",
        "    # 1에폭당 정확도 계산\n",
        "    if i % iter_per_epochs == 0:\n",
        "        train_acc = net.accuracy(x_train, t_train)\n",
        "        test_acc = net.accuracy(x_test, t_test)\n",
        "        train_acc_list.append(train_acc)\n",
        "        test_acc_list.append(test_acc)\n",
        "        print('train acc : {}, test_acc : {}'.format(train_acc, test_acc))"
      ],
      "execution_count": null,
      "outputs": []
    },
    {
      "cell_type": "markdown",
      "metadata": {
        "id": "jKmmoqxBiakZ"
      },
      "source": [
        "## **CHAPTER 5 : 오차역전파법(Backpropagation)**"
      ]
    },
    {
      "cell_type": "markdown",
      "metadata": {
        "id": "SyoZSXOisPP5"
      },
      "source": [
        "### **5.4 단순한 계층 구현**\n",
        " - 곱셈 노드(MultiLayer)\n",
        " - 덧셈 노드(AddLayer)"
      ]
    },
    {
      "cell_type": "markdown",
      "metadata": {
        "id": "3JHOXXbXseqy"
      },
      "source": [
        "#### **5.4.1 곱셈 계층**"
      ]
    },
    {
      "cell_type": "code",
      "metadata": {
        "id": "Yyp3GVYTg9Kg"
      },
      "source": [
        "class MulLayer:\n",
        "    def __init__(self):\n",
        "        self.x = None\n",
        "        self.y = None\n",
        "    \n",
        "    def forward(self, x, y):\n",
        "        self.x = x\n",
        "        self.y = y\n",
        "        out = x * y # 곱셈 계산\n",
        "        return out\n",
        "\n",
        "    def backward(self, dout): # 역전파\n",
        "        dx = dout * self.y # x와 y의 위치를 바꿈(미분)\n",
        "        dy = dout * self.x\n",
        "        return dx, dy"
      ],
      "execution_count": null,
      "outputs": []
    },
    {
      "cell_type": "markdown",
      "metadata": {
        "id": "KL9S0me_wEKM"
      },
      "source": [
        "#### **5.4.1 덧셈 계층**"
      ]
    },
    {
      "cell_type": "code",
      "metadata": {
        "id": "h44lwwWAt2NX"
      },
      "source": [
        "class AddLayer:\n",
        "    def __init__(self):\n",
        "        pass\n",
        "\n",
        "    def forward(self, x, y):\n",
        "        out = x + y\n",
        "        return out\n",
        "\n",
        "    def backward(self, dout):\n",
        "        dx = dout * 1\n",
        "        dy = dout * 1\n",
        "        return dx, dy"
      ],
      "execution_count": null,
      "outputs": []
    },
    {
      "cell_type": "code",
      "metadata": {
        "colab": {
          "base_uri": "https://localhost:8080/"
        },
        "id": "84fQqDaywZkj",
        "outputId": "7eceaa82-051f-4c04-cfc9-f57678d1eda8"
      },
      "source": [
        "apple = 100\n",
        "apple_num = 2\n",
        "orange = 150\n",
        "orange_num = 3\n",
        "tax = 1.1\n",
        "\n",
        "# 계층들\n",
        "mul_apple_layer = MulLayer()\n",
        "mul_orange_layer = MulLayer()\n",
        "add_apple_orange_layer = AddLayer()\n",
        "mul_tax_layer = MulLayer()\n",
        "\n",
        "# 순전파(forward)\n",
        "apple_price = mul_apple_layer.forward(apple, apple_num)\n",
        "orange_price = mul_orange_layer.forward(orange, orange_num)\n",
        "all_price = add_apple_orange_layer.forward(apple_price, orange_price)\n",
        "price = mul_tax_layer.forward(all_price, tax)\n",
        "\n",
        "# 역전파(backward)\n",
        "dprice = 1\n",
        "dall_price, dtax = mul_tax_layer.backward(dprice)\n",
        "dapple_price, dorange_price = add_apple_orange_layer.backward(dall_price)\n",
        "dorange, dorange_num = mul_orange_layer.backward(dorange_price)\n",
        "dapple, dapple_num = mul_apple_layer.backward(dapple_price)\n",
        "\n",
        "print(\"price : {}\".format(price))\n",
        "print(\"dapple_num : {}, dorange_num : {}, dapple : {}, dorange : {}, dtax : {}\".format(dapple_num, dorange_num, dapple, dorange, dtax))"
      ],
      "execution_count": null,
      "outputs": [
        {
          "output_type": "stream",
          "text": [
            "price : 715.0000000000001\n",
            "dapple_num : 110.00000000000001, dorange_num : 165.0, dapple : 2.2, dorange : 3.3000000000000003, dtax : 650\n"
          ],
          "name": "stdout"
        }
      ]
    },
    {
      "cell_type": "markdown",
      "metadata": {
        "id": "mIxOULbvzOFj"
      },
      "source": [
        "### **5.5. 활성화 함수 계층 구현**"
      ]
    },
    {
      "cell_type": "markdown",
      "metadata": {
        "id": "NFTUxgqT2mnD"
      },
      "source": [
        "#### **5.5.1 ReLU 계층**\n",
        "\n",
        " - x가 0 이하는 0 출력. x가 0 초과할 때는 x값 출력"
      ]
    },
    {
      "cell_type": "code",
      "metadata": {
        "id": "RyeoBt_syaRr"
      },
      "source": [
        "class Relu:\n",
        "    def __init__(self):\n",
        "        self.mask = None\n",
        "    \n",
        "    def forward(self, x):\n",
        "        self.mask = (x <= 0) # True/False로 구성된 넘파이 배열\n",
        "        out = x.copy()\n",
        "        out[self.mask] = 0\n",
        "        return out\n",
        "\n",
        "    def backward(self, out):\n",
        "        dout[self.mask] = 0\n",
        "        dx = dout\n",
        "        return dx"
      ],
      "execution_count": null,
      "outputs": []
    },
    {
      "cell_type": "code",
      "metadata": {
        "colab": {
          "base_uri": "https://localhost:8080/"
        },
        "id": "SHgbGnlN3Jfb",
        "outputId": "5d0b2e80-7c80-4856-d32f-9e33cd711c2f"
      },
      "source": [
        "x = np.array([[1, -0.5], [-2, 3]])\n",
        "relu = Relu()\n",
        "relu.forward(x)"
      ],
      "execution_count": null,
      "outputs": [
        {
          "output_type": "execute_result",
          "data": {
            "text/plain": [
              "array([[1., 0.],\n",
              "       [0., 3.]])"
            ]
          },
          "metadata": {
            "tags": []
          },
          "execution_count": 4
        }
      ]
    },
    {
      "cell_type": "markdown",
      "metadata": {
        "id": "VERUiIrU4tFT"
      },
      "source": [
        "#### **5.5.2 Sigmoid 계층**\n",
        "\n",
        " - y = 1 / (1 + exp(-x))"
      ]
    },
    {
      "cell_type": "code",
      "metadata": {
        "id": "tng9DwNY3SZp"
      },
      "source": [
        "class Sigmoid:\n",
        "    def __init__(self):\n",
        "        self.out = None\n",
        "    \n",
        "    def forward(self, x):\n",
        "        out = 1 / (1 + np.exp(-x))\n",
        "        self.out = out\n",
        "        return out\n",
        "\n",
        "    def backward(self, dout):\n",
        "        dx = dout * (1.0 - self.out) * self.out\n",
        "        return dx"
      ],
      "execution_count": null,
      "outputs": []
    },
    {
      "cell_type": "code",
      "metadata": {
        "colab": {
          "base_uri": "https://localhost:8080/"
        },
        "id": "4nFyBsKw50PG",
        "outputId": "6436f9eb-d9ae-4528-a3d0-0c0d18a6ddaf"
      },
      "source": [
        "x = np.array([[1, -0.5], [-2, 3]])\n",
        "sig = Sigmoid()\n",
        "sig.forward(x)"
      ],
      "execution_count": null,
      "outputs": [
        {
          "output_type": "execute_result",
          "data": {
            "text/plain": [
              "array([[0.73105858, 0.37754067],\n",
              "       [0.11920292, 0.95257413]])"
            ]
          },
          "metadata": {
            "tags": []
          },
          "execution_count": 6
        }
      ]
    },
    {
      "cell_type": "markdown",
      "metadata": {
        "id": "Ar6oWbHL7f98"
      },
      "source": [
        "### **5.6 Affine/Softmax 계층 구현**"
      ]
    },
    {
      "cell_type": "markdown",
      "metadata": {
        "id": "HoggH05i7mdI"
      },
      "source": [
        "#### **5.6.2 배치용 Affine 계층**\n",
        "\n",
        " - Foward 때 수행하는 행렬 곱을 Affine 변환이라고 함"
      ]
    },
    {
      "cell_type": "code",
      "metadata": {
        "id": "QzEj1Jkt55OZ"
      },
      "source": [
        "class Affine:\n",
        "    def __init__(self, W, b):\n",
        "        self.W = W\n",
        "        self.b = b\n",
        "        self.x = None\n",
        "        self.dW = None\n",
        "        self.db = None\n",
        "    \n",
        "    def forward(self, x):\n",
        "        self.x = x\n",
        "        out = np.dot(x, self.W) + self.b\n",
        "        return out\n",
        "\n",
        "    def backward(self, dout):\n",
        "        dx = np.dot(dout, self.W.T)\n",
        "        self.dW = np.dot(self.x.T, dout)\n",
        "        self.db = np.sum(dout, axis = 0)\n",
        "3        return dx"
      ],
      "execution_count": null,
      "outputs": []
    },
    {
      "cell_type": "markdown",
      "metadata": {
        "id": "3-oKv0qy9ceF"
      },
      "source": [
        "#### **5.6.3 Softmax with Loss 계층**\n",
        "\n",
        " - 손실함수인 교차 엔트로피 오차(CEE)가 포함된 Softmax 계층"
      ]
    },
    {
      "cell_type": "code",
      "metadata": {
        "id": "Iux30JSX9XRq"
      },
      "source": [
        "class SoftmaxWithLoss:\n",
        "    def __init__(self):\n",
        "        self.loss = None # 손실값\n",
        "        self.y = None # Softmax 출력값\n",
        "        self.t = None # 정답 라벨(원-핫 벡터)\n",
        "    \n",
        "    def forward(self, x, t):\n",
        "        self.t = t\n",
        "        self.y = softmax(x)\n",
        "        self.loss = cross_entropy_error(self.y, self.t)\n",
        "        return self.loss\n",
        "\n",
        "    def backward(self, dout = 1):\n",
        "        batch_size = self.t.shape[0]\n",
        "        dx = (self.y - self.t) / batch_size\n",
        "        return dx"
      ],
      "execution_count": null,
      "outputs": []
    },
    {
      "cell_type": "markdown",
      "metadata": {
        "id": "B2FJDljWArVF"
      },
      "source": [
        "### **5.7 오차역전파법 구현**\n",
        "\n",
        " - 1단계 - 미니배치\n",
        " - 2단계 - 기울기 산출\n",
        "    \n",
        "    : 각 가중치 매개변수의 기울기 계산\n",
        " - 3단계 - 매개변수 갱신\n",
        " - 4단계 - 반복"
      ]
    },
    {
      "cell_type": "markdown",
      "metadata": {
        "id": "gr5q2P-FBYqK"
      },
      "source": [
        "#### **5.7.2 오차역전파법을 적용한 신경망**"
      ]
    },
    {
      "cell_type": "code",
      "metadata": {
        "id": "-Zz1A_J4AmcM"
      },
      "source": [
        "path = '/content/drive/MyDrive/머신러닝/개인 공부/Deep Learning from Scratch 1/'\n",
        "sys.path.append(path)\n",
        "from common.layers import *\n",
        "from common.gradient import numerical_gradient\n",
        "\n",
        "class TwoLayerNet:\n",
        "    def __init__(self, input_size, hidden_size, output_size,\n",
        "                 weight_init__std = 0.01):\n",
        "        # 가중치 초기화\n",
        "        self.params = {}\n",
        "        self.params['W1'] = weight_init_std * \\\n",
        "                            np.random.rand(input_size, hidden_size)\n",
        "        self.params['W2'] = weight_init_std * \\\n",
        "                            np.random.rand(hidden_size, output_size)\n",
        "        self.params['b1'] = np.zeros(hidden_size)\n",
        "        self.params['b2'] = np.zeros(output_size)\n",
        "\n",
        "        # 계층 생성\n",
        "        self.layers = OrderedDict()\n",
        "        self.layers['Affine1'] = \\\n",
        "            Affine(self.params['W1'], self.params['b1'])\n",
        "        self.layers['Relu1'] = Relu()\n",
        "        self.layers['Affine2'] = \\\n",
        "            Affine(self.params['W2'], self.params['b2'])\n",
        "        self.lastLayer = SoftmaxWithLoss()\n",
        "\n",
        "    def predict(self, x):\n",
        "        for layer in self.layers.values():\n",
        "            x = layer.forward(x)\n",
        "        return x\n",
        "\n",
        "    def loss(self, x, t):\n",
        "        y = self.predict(x)\n",
        "        return self.lastLayer.forward(y, t)\n",
        "\n",
        "    def accuracy(self, x, t):\n",
        "        y = self.predict(x)\n",
        "        y = np.argmax(y, axis=1)\n",
        "        if t.ndim != 1: t = np.argmax(t, axis=1)\n",
        "\n",
        "        accuracy = np.sum(y==t) / float(x.shape[0])\n",
        "        return accuracy\n",
        "    \n",
        "    def numerical_graident(self, x, t):\n",
        "        loss_W = lambda W: self.loss(x, t)\n",
        "\n",
        "        grads = {}\n",
        "        grads['W1'] = numerical_gradient(loss_W, self.params['W1'])\n",
        "        grads['W2'] = numerical_gradient(loss_W, self.params['W2'])\n",
        "        grads['b1'] = numerical_gradient(loss_W, self.params['b1'])\n",
        "        grads['b2'] = numerical_gradient(loss_W, self.params['b2'])\n",
        "        return grads\n",
        "    \n",
        "    def gradient(self, x, t):\n",
        "        # 순전파\n",
        "        self.loss(x, t)\n",
        "        # 역전파\n",
        "        dout = 1\n",
        "        dout = self.lastLayer.backward(dout)\n",
        "        layers = list(self.layers.values())\n",
        "        layers.reverse()\n",
        "        for layer in layers:\n",
        "            dout = layer.backward(dout)\n",
        "\n",
        "        # 결과 정장\n",
        "        grads = {}\n",
        "        grads['W1'] = self.layers['Affine1'].dW\n",
        "        grads['W2'] = self.layers['Affine2'].dW\n",
        "        grads['b1'] = self.layers['Affine1'].db\n",
        "        grads['b2'] = self.layers['Affine2'].db\n",
        "\n",
        "        return grads"
      ],
      "execution_count": null,
      "outputs": []
    },
    {
      "cell_type": "markdown",
      "metadata": {
        "id": "q-Rb23-It7mx"
      },
      "source": [
        "#### **5.7.3 오차역전파법으로 구한 기울기 검증(Gradient Check)**\n",
        "\n",
        " - 수치 미분방식과 오차역전파법 방식의 기울기 차가 거의 없음을 확인 가능"
      ]
    },
    {
      "cell_type": "code",
      "metadata": {
        "colab": {
          "base_uri": "https://localhost:8080/"
        },
        "id": "zAf4OQ1mt_OY",
        "outputId": "f4d53092-c150-4bb8-de67-9176d3a9a26e"
      },
      "source": [
        "path = '/content/drive/MyDrive/머신러닝/개인 공부/Deep Learning from Scratch 1/'\n",
        "sys.path.append(path)\n",
        "from dataset.mnist import load_mnist\n",
        "from two_layer_net import TwoLayerNet\n",
        "\n",
        "# 데이터 읽기\n",
        "(x_train, t_train), (x_test, t_test) = \\\n",
        "    load_mnist(normalize=True, one_hot_label=True)\n",
        "\n",
        "network = TwoLayerNet(input_size=784, hidden_size=50, output_size=10)\n",
        "\n",
        "x_batch = x_train[:3]\n",
        "t_batch = t_train[:3]\n",
        "\n",
        "grad_numerical = network.numerical_gradient(x_batch, t_batch) # 수치 미분 방식\n",
        "grad_backprop = network.gradient(x_batch, t_batch) # Back Propagation 방식\n",
        "\n",
        "# 각 가중치의 차이의 절대값을 구한 후, 그 절대값들의 평균을 구함\n",
        "for key in grad_numerical.keys():\n",
        "    diff = np.average(np.abs(grad_backprop[key] - grad_numerical[key]))\n",
        "    print(key + \":\" + str(diff)) # 거의 차이 없음을 확인 가능함"
      ],
      "execution_count": 4,
      "outputs": [
        {
          "output_type": "stream",
          "text": [
            "W1:4.839512539714588e-10\n",
            "b1:2.9830048191986648e-09\n",
            "W2:6.1692507483443444e-09\n",
            "b2:1.4048288078383208e-07\n"
          ],
          "name": "stdout"
        }
      ]
    },
    {
      "cell_type": "markdown",
      "metadata": {
        "id": "sNuS-2ka0fWQ"
      },
      "source": [
        "#### **5.7.4 오차역전파법을 이용한 학습 구현**"
      ]
    },
    {
      "cell_type": "code",
      "metadata": {
        "colab": {
          "base_uri": "https://localhost:8080/"
        },
        "id": "PTUK2blOu9rF",
        "outputId": "c2e04859-afee-45cc-e58f-bf781e1cfca4"
      },
      "source": [
        "from dataset.mnist import load_mnist\n",
        "from two_layer_net import TwoLayerNet\n",
        "\n",
        "# 데이터 불러오기\n",
        "(x_train, t_train), (x_test, t_test) = \\\n",
        "    load_mnist(normalize=True, one_hot_label=True)\n",
        "network = TwoLayerNet(input_size=784, hidden_size=50, output_size=10)\n",
        "\n",
        "iters_num = 1000\n",
        "train_size = x_train.shape[0]\n",
        "batch_size = 100\n",
        "learning_rate = 0.1\n",
        "\n",
        "iter_per_epoch = max(train_size / batch_size, 1)\n",
        "\n",
        "train_loss_list = []\n",
        "train_acc_list = []\n",
        "test_acc_list = []\n",
        "\n",
        "for i in tqdm(range(iters_num)):\n",
        "    batch_mask = np.random.choice(train_size, batch_size)\n",
        "    x_batch = x_train[batch_mask]\n",
        "    t_batch = t_train[batch_mask]\n",
        "\n",
        "    # 오차역전파법으로 기울기 계산\n",
        "    grad = network.gradient(x_batch, t_batch)\n",
        "\n",
        "    # 갱신\n",
        "    for key in ('W1', 'b1', 'W2', 'b2'):\n",
        "        network.params[key] -= learning_rate * grad[key]\n",
        "    loss = network.loss(x_batch, t_batch)\n",
        "    train_loss_list.append(loss)\n",
        "\n",
        "    # 출력\n",
        "    if i % iter_per_epoch==0:\n",
        "        train_acc = network.accuracy(x_train, t_train)\n",
        "        test_acc = network.accuracy(x_test, t_test)\n",
        "        train_acc_list.append(train_acc)\n",
        "        test_acc_list.append(test_acc)\n",
        "        print(\"Train Accuracy : {}, Test Accuracy : {}\".format(train_acc, test_acc))"
      ],
      "execution_count": 7,
      "outputs": [
        {
          "output_type": "stream",
          "text": [
            "  2%|▏         | 17/1000 [00:00<05:44,  2.85it/s]"
          ],
          "name": "stderr"
        },
        {
          "output_type": "stream",
          "text": [
            "Train Accuracy : 0.10356666666666667, Test Accuracy : 0.102\n"
          ],
          "name": "stdout"
        },
        {
          "output_type": "stream",
          "text": [
            " 63%|██████▎   | 633/1000 [00:04<00:03, 97.95it/s]"
          ],
          "name": "stderr"
        },
        {
          "output_type": "stream",
          "text": [
            "Train Accuracy : 0.9023666666666667, Test Accuracy : 0.9064\n"
          ],
          "name": "stdout"
        },
        {
          "output_type": "stream",
          "text": [
            "100%|██████████| 1000/1000 [00:06<00:00, 158.33it/s]\n"
          ],
          "name": "stderr"
        }
      ]
    },
    {
      "cell_type": "code",
      "metadata": {
        "colab": {
          "base_uri": "https://localhost:8080/",
          "height": 279
        },
        "id": "Q1TQ6kdW2CzG",
        "outputId": "7ff6ef6a-5f3f-44f5-eb57-b5fedfd6fb3c"
      },
      "source": [
        "# Loss 감소 확인\n",
        "x = np.arange(0, 1000, 1)\n",
        "y = train_loss_list\n",
        "\n",
        "plt.plot(x, y)\n",
        "plt.xlabel('epochs')\n",
        "plt.ylabel('loss')\n",
        "plt.show()"
      ],
      "execution_count": 14,
      "outputs": [
        {
          "output_type": "display_data",
          "data": {
            "image/png": "[encoded data removed]",
            "text/plain": [
              "<Figure size 432x288 with 1 Axes>"
            ]
          },
          "metadata": {
            "tags": [],
            "needs_background": "light"
          }
        }
      ]
    },
    {
      "cell_type": "markdown",
      "metadata": {
        "id": "9MGRU0A44pPg"
      },
      "source": [
        "## **CHAPTER 6 : 학습 관련 기술들**"
      ]
    },
    {
      "cell_type": "markdown",
      "metadata": {
        "id": "NKVJJEN14tHR"
      },
      "source": [
        "### **6.1 매개변수 갱신**"
      ]
    },
    {
      "cell_type": "markdown",
      "metadata": {
        "id": "wp0q8p_84yee"
      },
      "source": [
        "#### **6.1.2 확률적 경사 하강법(SGD)**\n",
        "\n",
        " - 장점 : 단순하고 구현이 쉬움\n",
        " - 단점 : 문제에 따라서 비효율적일 경우가 있음"
      ]
    },
    {
      "cell_type": "code",
      "metadata": {
        "id": "ysj7YTJT2s9q"
      },
      "source": [
        "class SGD:\n",
        "    def __init__(self, lr=0.01):\n",
        "        self.lr = lr\n",
        "    \n",
        "    def update(self, params, grads):\n",
        "        for key in params.keys():\n",
        "            params[key] -= self.lr * grads[key]"
      ],
      "execution_count": 15,
      "outputs": []
    },
    {
      "cell_type": "markdown",
      "metadata": {
        "id": "uyijqO_f523A"
      },
      "source": [
        "#### **6.1.4 모멘텀(Momentum)**\n",
        "\n",
        " - v라는 변수가 추가됨\n",
        " - v는 물리에서 말하는 속도의 개념\n",
        " - SGD와 비교해 '지그재그 정도'가 덜함\n",
        " - 전체적으로 SGD보다 x축 방향으로 빠르게 다가가 지그재그 움직임이 줄어듬"
      ]
    },
    {
      "cell_type": "code",
      "metadata": {
        "id": "Wigwz0BQ5Ny7"
      },
      "source": [
        "class Momentum:\n",
        "    def __init__(self, lr=0.01, momentum=0.9):\n",
        "        self.lr = lr\n",
        "        self.momentum = momentum\n",
        "        self.v = None\n",
        "\n",
        "    def update(self, params, grads):\n",
        "        if self.v is None:\n",
        "            self.v = {}\n",
        "            for key, val in params.items():\n",
        "                self.v[key] = np.zeros_like(val)\n",
        "\n",
        "        for key in params.keys():\n",
        "            self.v[key] = self.momentum * self.v[key] - self.lr * grads[key]\n",
        "            params[key] += self.v[key]"
      ],
      "execution_count": 16,
      "outputs": []
    },
    {
      "cell_type": "markdown",
      "metadata": {
        "id": "jEmHre1c9wgM"
      },
      "source": [
        "#### **6.1.5 AdaGrad**\n",
        "\n",
        " - '각각의' 매개변수에 '맞춤형' 값을 만들어줌\n",
        " - 개별 매개변수에 적응적으로(adaptive) 학습률을 조정하며 학습을 진행\n",
        " - h라는 변수 추가\n",
        " - 매개변수의 원소 중에 크게 갱신된 원소의 학습률이 낮아짐\n",
        " - 갱신량이 0이 되는 문제 발생\n",
        " - 이를 극복한 것이 RMSProp으로 먼 과거의 기울기를 서서히 잊고 새로운 기울기 정보를 크게 반영함"
      ]
    },
    {
      "cell_type": "code",
      "metadata": {
        "id": "JLo6k0Jn7FJU"
      },
      "source": [
        "class AdaGrad:\n",
        "    def __init__(self, lr=0.01):\n",
        "        self.lr = lr\n",
        "        self.h = None\n",
        "\n",
        "    def update(self, params, grads):\n",
        "        if self.h is None:\n",
        "            self.h = {}\n",
        "            for key, val in params.items():\n",
        "                self.h[key] = np.zeros_like(val)\n",
        "        \n",
        "        for key in params.keys():\n",
        "            self.h[key] += grad[key] * grads[key]\n",
        "            # 1e-7을 통해 0으로 나뉘는 상황을 막아줌\n",
        "            params[key] -= self.lr * gards[key] / (np.sqrt(self.h[key]) + 1e-7)"
      ],
      "execution_count": 17,
      "outputs": []
    },
    {
      "cell_type": "markdown",
      "metadata": {
        "id": "oo-iKIaGDZH0"
      },
      "source": [
        "### **6.2 가중치의 초기값**\n",
        "\n",
        " - 가중치의 초기값을 무엇으로 설정하냐에 따라 신경망 학습의 성패를 가름"
      ]
    },
    {
      "cell_type": "markdown",
      "metadata": {
        "id": "kUzc3ZyXDhND"
      },
      "source": [
        "#### **6.2.2. 은닉층의 활성화값 분포**\n",
        "\n",
        " - 가중치의 초기값에 따라 은닉층 활성화값이 어떻게 변화하는지 확인"
      ]
    },
    {
      "cell_type": "code",
      "metadata": {
        "colab": {
          "base_uri": "https://localhost:8080/",
          "height": 281
        },
        "id": "QSsrNqA0-40G",
        "outputId": "23408205-fae3-46c1-b1e0-5766f949c45a"
      },
      "source": [
        "def sigmoid(x):\n",
        "    return 1 / (1 + np.exp(-x))\n",
        "\n",
        "x = np.random.randn(1000, 100) # 1000개의 랜덤값\n",
        "node_num = 100 # 은닉층의 노드 수\n",
        "hidden_layer_num = 5 # 은닉층의 개수\n",
        "activations = {} # 활성화값 저장\n",
        "\n",
        "for i in range(hidden_layer_num):\n",
        "    if i != 0:\n",
        "        x = activations[i-1]\n",
        "    \n",
        "    w = np.random.randn(node_num, node_num) * 1\n",
        "    a = np.dot(x, w)\n",
        "    z = sigmoid(a)\n",
        "    activations[i] = z\n",
        "\n",
        "# 히스토그램\n",
        "for i, a in activations.items():\n",
        "    plt.subplot(1, len(activations), i+1)\n",
        "    plt.title(str(i+1) + '-layer')\n",
        "    plt.hist(a.flatten(), 30, range=(0,1))\n",
        "plt.show()"
      ],
      "execution_count": 20,
      "outputs": [
        {
          "output_type": "display_data",
          "data": {
            "image/png": "[encoded data removed]",
            "text/plain": [
              "<Figure size 432x288 with 5 Axes>"
            ]
          },
          "metadata": {
            "tags": [],
            "needs_background": "light"
          }
        }
      ]
    },
    {
      "cell_type": "markdown",
      "metadata": {
        "id": "cfmLpz-uR-pi"
      },
      "source": [
        "### **6.4 바른 학습을 위해**"
      ]
    },
    {
      "cell_type": "markdown",
      "metadata": {
        "id": "nWm5G0P6SBLH"
      },
      "source": [
        "#### **6.4.1 오버피팅**\n",
        "\n",
        " - 매개변수가 많고 표현력이 높은 모델\n",
        " - 훈련 데이터가 적음"
      ]
    },
    {
      "cell_type": "code",
      "metadata": {
        "colab": {
          "base_uri": "https://localhost:8080/"
        },
        "id": "lT2gATsLEuKt",
        "outputId": "41896cde-225f-4fae-cb46-055879e535d4"
      },
      "source": [
        "from common.multi_layer_net import *\n",
        "\n",
        "(x_train, t_train), (x_test, t_test) = \\\n",
        "    load_mnist(normalize=True)\n",
        "\n",
        "# 오버피팅을 재현하기 위해 데이터 수를 줄임\n",
        "x_train = x_train[:300]\n",
        "t_train = t_train[:300]\n",
        "\n",
        "network = MultiLayerNet(input_size=784, hidden_size_list=[100, 100, 100,\n",
        "                        100, 100, 100], output_size=10)\n",
        "optimizer = SGD(lr=0.01)\n",
        "max_epochs = 201\n",
        "train_size = x_train.shape[0]\n",
        "batch_size = 100\n",
        "\n",
        "iter_per_epoch = max(train_size / batch_size, 1)\n",
        "epoch_cnt = 0\n",
        "\n",
        "train_loss_list = []\n",
        "train_acc_list = []\n",
        "test_acc_list = []\n",
        "\n",
        "for i in tqdm(range(10000000)):\n",
        "    batch_mask = np.random.choice(train_size, batch_size)\n",
        "    x_batch = x_train[batch_mask]\n",
        "    t_batch = t_train[batch_mask]\n",
        "\n",
        "    grads = network.gradient(x_batch, t_batch)\n",
        "    optimizer.update(network.params, grads)\n",
        "\n",
        "    if i % iter_per_epoch == 0:\n",
        "        train_acc = network.accuracy(x_train, t_train)\n",
        "        test_acc = network.accuracy(x_test, t_test)\n",
        "        train_acc_list.append(train_acc)\n",
        "        test_acc_list.append(test_acc)\n",
        "\n",
        "        epoch_cnt += 1\n",
        "        if epoch_cnt >= max_epochs:\n",
        "            break"
      ],
      "execution_count": 23,
      "outputs": [
        {
          "output_type": "stream",
          "text": [
            "  0%|          | 598/10000000 [00:58<266:10:55, 10.44it/s]"
          ],
          "name": "stderr"
        }
      ]
    },
    {
      "cell_type": "code",
      "metadata": {
        "colab": {
          "base_uri": "https://localhost:8080/",
          "height": 279
        },
        "id": "tGiWaEKBTvvw",
        "outputId": "73cc7a23-95d7-464f-9419-ab6ec1b302e9"
      },
      "source": [
        "# 오버피팅 확인\n",
        "x = np.arange(0, 201, 1)\n",
        "y1 = train_acc_list\n",
        "y2 = test_acc_list\n",
        "\n",
        "plt.plot(x, y1, label='train')\n",
        "plt.plot(x, y2, label='test')\n",
        "\n",
        "plt.xlabel('epochs')\n",
        "plt.ylabel('accuracy')\n",
        "plt.legend(loc='lower right')\n",
        "plt.show()"
      ],
      "execution_count": 41,
      "outputs": [
        {
          "output_type": "display_data",
          "data": {
            "image/png": "[encoded data removed]",
            "text/plain": [
              "<Figure size 432x288 with 1 Axes>"
            ]
          },
          "metadata": {
            "tags": [],
            "needs_background": "light"
          }
        }
      ]
    },
    {
      "cell_type": "markdown",
      "metadata": {
        "id": "9MCCU7yOWlIL"
      },
      "source": [
        "#### **6.4.3 드롭아웃**\n",
        "\n",
        " - 오버피팅을 억제하는 방법 : 가중치 감소(Weight Decay), 드롭아웃(Drop Out)\n",
        " - 뉴런을 임의로 삭제하며 학습하는 방법\n",
        " - 훈련 때, 삭제할 뉴런을 무작위로 선택. 시험 때, 모든 뉴런에 신호 전달\n",
        " - 시험 때, 각 뉴런의 출력에 훈련 때 삭제 안한 비율을 곱하여 출력"
      ]
    },
    {
      "cell_type": "code",
      "metadata": {
        "id": "s0fN_mYIUiCm"
      },
      "source": [
        "class Dropout:\n",
        "    def __init__(self, dropout_ratio=0.5):\n",
        "        self.dropout_ratio = dropout_ratio\n",
        "        self.mask = None\n",
        "    \n",
        "    def forward(self, x, train_flg=True):\n",
        "        if train_flg:\n",
        "            self.mask = np.random.rand(*x.shape) > self.dropout_ratio\n",
        "            return x * self.mask\n",
        "        else:\n",
        "            return x * (1.0 - self.dropout_ratio)\n",
        "    \n",
        "    def backward(self, dout):\n",
        "        return dout * self.mask"
      ],
      "execution_count": 42,
      "outputs": []
    },
    {
      "cell_type": "markdown",
      "metadata": {
        "id": "Z8uIqoQnYl8K"
      },
      "source": [
        "### **6.5 적절한 하이퍼파라미터 값 찾기**"
      ]
    },
    {
      "cell_type": "markdown",
      "metadata": {
        "id": "cFibnCQxYrM8"
      },
      "source": [
        "#### **6.5.1 검증 데이터(Validation Data)**\n",
        "\n",
        " - Train Data : 매개변수 학습\n",
        " - Validation Data : 하이퍼파라미터 성능 평가\n",
        " - Test Data : 신경망의 범용 성능 평가"
      ]
    },
    {
      "cell_type": "code",
      "metadata": {
        "colab": {
          "base_uri": "https://localhost:8080/"
        },
        "id": "eJVwkMpxXbPV",
        "outputId": "f8acc9e9-6f82-4ccc-8f21-0396b2947e0a"
      },
      "source": [
        "from common.util import shuffle_dataset\n",
        "\n",
        "(x_train, t_train), (x_test, t_test) = load_mnist()\n",
        "\n",
        "# 훈련 데이터를 섞음\n",
        "x_train, t_train = shuffle_dataset(x_train, t_train)\n",
        "\n",
        "# 20%를 검증 데이터로 분할\n",
        "validation_rate = 0.2\n",
        "validation_num = int(x_train.shape[0] * validation_rate)\n",
        "\n",
        "x_val = x_train[:validation_num]\n",
        "t_val = t_train[:validation_num]\n",
        "x_train = x_train[validation_num:]\n",
        "t_train = t_train[validation_num:]\n",
        "\n",
        "len(x_val), len(t_val), len(x_train), len(t_train)"
      ],
      "execution_count": 44,
      "outputs": [
        {
          "output_type": "execute_result",
          "data": {
            "text/plain": [
              "(12000, 12000, 48000, 48000)"
            ]
          },
          "metadata": {
            "tags": []
          },
          "execution_count": 44
        }
      ]
    }
  ]
}