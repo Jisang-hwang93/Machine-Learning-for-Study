{
  "nbformat": 4,
  "nbformat_minor": 0,
  "metadata": {
    "colab": {
      "name": "모두의_딥러닝.ipynb",
      "provenance": [],
      "collapsed_sections": [],
      "authorship_tag": "ABX9TyOYMhah9FNmU2BSNPtXPtJI",
      "include_colab_link": true
    },
    "kernelspec": {
      "name": "python3",
      "display_name": "Python 3"
    },
    "accelerator": "GPU"
  },
  "cells": [
    {
      "cell_type": "markdown",
      "metadata": {
        "id": "view-in-github",
        "colab_type": "text"
      },
      "source": [
        "<a href=\"https://colab.research.google.com/github/Jisang-hwang93/Machine-Learning-for-Study/blob/master/01%20%EB%AA%A8%EB%91%90%EC%9D%98%20%EB%94%A5%EB%9F%AC%EB%8B%9D.ipynb\" target=\"_parent\"><img src=\"https://colab.research.google.com/assets/colab-badge.svg\" alt=\"Open In Colab\"/></a>"
      ]
    },
    {
      "cell_type": "markdown",
      "metadata": {
        "id": "NGjJZKeZgTVa",
        "colab_type": "text"
      },
      "source": [
        "# **[모두의 딥러닝]**\n",
        "저자 : 조태호 / 출판사 : 깃벗"
      ]
    },
    {
      "cell_type": "markdown",
      "metadata": {
        "id": "sRJYndVhWGDA",
        "colab_type": "text"
      },
      "source": [
        "# **1장 폐얌 수술 환자의 생존율 예측하기**"
      ]
    },
    {
      "cell_type": "code",
      "metadata": {
        "id": "VeGMAFlQWC45",
        "colab_type": "code",
        "colab": {}
      },
      "source": [
        "# 케라스 함수 호출\n",
        "from tensorflow.keras.models import Sequential\n",
        "from tensorflow.keras.layers import Dense\n",
        "\n",
        "# 라이브러리 호출\n",
        "import numpy as np\n",
        "import tensorflow as tf"
      ],
      "execution_count": 1,
      "outputs": []
    },
    {
      "cell_type": "code",
      "metadata": {
        "id": "XA5YfA1ASk_Z",
        "colab_type": "code",
        "colab": {}
      },
      "source": [
        "# 같은 결과를 출력하기 위해 설정\n",
        "np.random.seed(3)\n",
        "tf.random.set_seed(3)"
      ],
      "execution_count": 2,
      "outputs": []
    },
    {
      "cell_type": "code",
      "metadata": {
        "id": "rlhamlsTS145",
        "colab_type": "code",
        "colab": {}
      },
      "source": [
        "# 데이터셋 불러오기\n",
        "data_set = np.loadtxt(\"/content/datasets/ThoraricSurgery.csv\", delimiter=\",\")\n",
        "\n",
        "# 환자의 기록 X, 수술 결과 Y로 구분하여 저장\n",
        "X = data_set[:, 0:17]\n",
        "Y = data_set[:, 17]"
      ],
      "execution_count": 3,
      "outputs": []
    },
    {
      "cell_type": "code",
      "metadata": {
        "id": "y7Sv9m4SUaq4",
        "colab_type": "code",
        "colab": {}
      },
      "source": [
        "# 모델 설정\n",
        "model = Sequential()\n",
        "model.add(Dense(30, input_dim=17, activation='relu'))\n",
        "model.add(Dense(1, activation='sigmoid'))"
      ],
      "execution_count": 4,
      "outputs": []
    },
    {
      "cell_type": "code",
      "metadata": {
        "id": "nUliOtS3VMMV",
        "colab_type": "code",
        "colab": {
          "base_uri": "https://localhost:8080/",
          "height": 386
        },
        "outputId": "bf6fb7d0-6804-42bd-90ce-4f1f698684b6"
      },
      "source": [
        "# 실행\n",
        "model.compile(loss='mean_squared_error', optimizer='adam', metrics=['accuracy'])\n",
        "model.fit(X, Y, epochs=10, batch_size = 10)"
      ],
      "execution_count": 5,
      "outputs": [
        {
          "output_type": "stream",
          "text": [
            "Epoch 1/10\n",
            "47/47 [==============================] - 0s 2ms/step - loss: 0.1485 - accuracy: 0.8426\n",
            "Epoch 2/10\n",
            "47/47 [==============================] - 0s 2ms/step - loss: 0.1402 - accuracy: 0.8511\n",
            "Epoch 3/10\n",
            "47/47 [==============================] - 0s 2ms/step - loss: 0.1433 - accuracy: 0.8489\n",
            "Epoch 4/10\n",
            "47/47 [==============================] - 0s 2ms/step - loss: 0.1395 - accuracy: 0.8511\n",
            "Epoch 5/10\n",
            "47/47 [==============================] - 0s 2ms/step - loss: 0.1386 - accuracy: 0.8468\n",
            "Epoch 6/10\n",
            "47/47 [==============================] - 0s 2ms/step - loss: 0.1407 - accuracy: 0.8511\n",
            "Epoch 7/10\n",
            "47/47 [==============================] - 0s 2ms/step - loss: 0.1336 - accuracy: 0.8489\n",
            "Epoch 8/10\n",
            "47/47 [==============================] - 0s 2ms/step - loss: 0.1384 - accuracy: 0.8511\n",
            "Epoch 9/10\n",
            "47/47 [==============================] - 0s 2ms/step - loss: 0.1377 - accuracy: 0.8383\n",
            "Epoch 10/10\n",
            "47/47 [==============================] - 0s 2ms/step - loss: 0.1438 - accuracy: 0.8447\n"
          ],
          "name": "stdout"
        },
        {
          "output_type": "execute_result",
          "data": {
            "text/plain": [
              "<tensorflow.python.keras.callbacks.History at 0x7f0d501ac9e8>"
            ]
          },
          "metadata": {
            "tags": []
          },
          "execution_count": 5
        }
      ]
    },
    {
      "cell_type": "markdown",
      "metadata": {
        "id": "890cPZcsZ0bA",
        "colab_type": "text"
      },
      "source": [
        "# **3장 선형 회귀**"
      ]
    },
    {
      "cell_type": "code",
      "metadata": {
        "id": "QCqz3VIVZ1j3",
        "colab_type": "code",
        "colab": {
          "base_uri": "https://localhost:8080/",
          "height": 87
        },
        "outputId": "f2818937-1b56-48fc-ad2e-968f62d64ff9"
      },
      "source": [
        "# 최소제곱법 구현하기\n",
        "import numpy as np\n",
        "\n",
        "# x, y 데이터\n",
        "x = [2, 4, 6, 8]\n",
        "y = [81, 93, 91, 97]\n",
        "\n",
        "# x, y 평균\n",
        "mx = np.mean(x)\n",
        "my = np.mean(y)\n",
        "\n",
        "# 최소 제곱근 공식의 분모 값 = x의 각 원소와 x의 평균값 차의 제곱합\n",
        "divisor = sum([(i - mx)**2 for i in x])\n",
        "\n",
        "# 최소 제곱근 공식의 분자 값 = x와 y의 편차를 곱해서 합한 값\n",
        "def top (x, mx, y, my):\n",
        "    d = 0\n",
        "    for i in range(len(x)):\n",
        "        d += (x[i] - mx) * (y[i] - my)\n",
        "    \n",
        "    return d\n",
        "dividend = top(x, mx, y, my)\n",
        "\n",
        "# 기울기 a\n",
        "a = dividend / divisor\n",
        "\n",
        "# 절편 b\n",
        "b = my - (mx*a)\n",
        "\n",
        "# 출력\n",
        "print(\"분모 : {}\".format(divisor))\n",
        "print(\"분자 : {}\".format(dividend))\n",
        "print(\"기울기 a : {}\".format(a))\n",
        "print(\"y절편 b : {}\".format(b))"
      ],
      "execution_count": 6,
      "outputs": [
        {
          "output_type": "stream",
          "text": [
            "분모 : 20.0\n",
            "분자 : 46.0\n",
            "기울기 a : 2.3\n",
            "y절편 b : 79.0\n"
          ],
          "name": "stdout"
        }
      ]
    },
    {
      "cell_type": "code",
      "metadata": {
        "id": "Qrn2c0-DcPK9",
        "colab_type": "code",
        "colab": {
          "base_uri": "https://localhost:8080/",
          "height": 105
        },
        "outputId": "813b982c-7114-430c-964f-c6264ec0b912"
      },
      "source": [
        "# 평균 제곱 오차(MSE) 구현하기\n",
        "\n",
        "# 임의로 기울기 a, y절편 b 지정\n",
        "fake_a_b = [3, 76]\n",
        "\n",
        "# x, y 데이터 생성\n",
        "data = [[2, 81], [4, 93], [6, 91], [8, 97]]\n",
        "x = [i[0] for i in data]\n",
        "y = [i[1] for i in data]\n",
        "\n",
        "# predict 함수 생성\n",
        "def predict(x):\n",
        "    return fake_a_b[0]*x + fake_a_b[1]\n",
        "\n",
        "# MSE 함수 생성\n",
        "def mse(y_hat, y):\n",
        "    return ((y_hat-y)**2).mean()\n",
        "\n",
        "# 예측 결과값 함수 생성\n",
        "def mse_val(predict_result, y):\n",
        "    return mse(np.array(predict_result), np.array(y))\n",
        "\n",
        "predict_result = []\n",
        "\n",
        "for i in range(len(x)):\n",
        "    predict_result.append(predict(x[i]))\n",
        "    print(\"공부시간 = {}, 실제 섬수 = {}, 예측 점수 = {}\".format(x[i], y[i], predict(x[i])))\n",
        "\n",
        "# 최종 MSE\n",
        "print(\"MSE 최종값 : \" + str(mse_val(predict_result, y)))"
      ],
      "execution_count": 7,
      "outputs": [
        {
          "output_type": "stream",
          "text": [
            "공부시간 = 2, 실제 섬수 = 81, 예측 점수 = 82\n",
            "공부시간 = 4, 실제 섬수 = 93, 예측 점수 = 88\n",
            "공부시간 = 6, 실제 섬수 = 91, 예측 점수 = 94\n",
            "공부시간 = 8, 실제 섬수 = 97, 예측 점수 = 100\n",
            "MSE 최종값 : 11.0\n"
          ],
          "name": "stdout"
        }
      ]
    },
    {
      "cell_type": "markdown",
      "metadata": {
        "id": "e-Qdj5nii7Po",
        "colab_type": "text"
      },
      "source": [
        "# **4장 경사 하강법**"
      ]
    },
    {
      "cell_type": "code",
      "metadata": {
        "id": "pRGs8Jydi9Cz",
        "colab_type": "code",
        "colab": {
          "base_uri": "https://localhost:8080/",
          "height": 320
        },
        "outputId": "497152c0-98db-4846-cda7-64e8676316da"
      },
      "source": [
        "# 경사 하강법\n",
        "import numpy as np\n",
        "import pandas as pd\n",
        "import matplotlib.pyplot as plt\n",
        "\n",
        "# 공부시간 X, 성적 Y 데이터\n",
        "data = [[2, 81], [4, 93], [6, 91], [8, 97]]\n",
        "x = [i[0] for i in data]\n",
        "y = [i[1] for i in data]\n",
        "\n",
        "# 그래프\n",
        "plt.figure(figsize=(8,5))\n",
        "plt.scatter(x,y)\n",
        "plt.show()"
      ],
      "execution_count": 8,
      "outputs": [
        {
          "output_type": "display_data",
          "data": {
            "image/png": "[encoded data removed]",
            "text/plain": [
              "<Figure size 576x360 with 1 Axes>"
            ]
          },
          "metadata": {
            "tags": [],
            "needs_background": "light"
          }
        }
      ]
    },
    {
      "cell_type": "code",
      "metadata": {
        "id": "aRrNwVmltLzG",
        "colab_type": "code",
        "colab": {
          "base_uri": "https://localhost:8080/",
          "height": 441
        },
        "outputId": "c0ef6e0e-b782-442a-b6dd-ca90dbb16bc2"
      },
      "source": [
        "# x, y 배열 변경\n",
        "x_data = np.array(x)\n",
        "y_data = np.array(y)\n",
        "\n",
        "# 기울기 a, y절편 b 초기화\n",
        "a = 0\n",
        "b = 0\n",
        "\n",
        "# 학습률(alpha) 설정\n",
        "alpha = 0.05\n",
        "\n",
        "# 반복 횟수\n",
        "epochs = 1000\n",
        "\n",
        "# 경사 하강법\n",
        "for i in range(epochs):\n",
        "    y_pred = a * x_data + b\n",
        "    error = y_data - y_pred\n",
        "    # 오차 함수에서 a로 편미분\n",
        "    a_diff = -(1/len(x_data)) * sum(x_data * (error)) # 왜 2가 아닌 1을 곱하는지 왜 음수처리되는지 이해 x\n",
        "    # 오차 함수에서 b로 편미분\n",
        "    b_diff = -(1/len(x_data)) * sum(y_data - y_pred)\n",
        "    # a, b값 업데이트\n",
        "    a = a - alpha * a_diff\n",
        "    b = b - alpha * b_diff\n",
        "    # a, b값 출력\n",
        "    if i % 100 == 0:\n",
        "        print(\"epoch : {}, 기울기 = {}, y절편 = {}\".format(i, a, b))\n",
        "\n",
        "# 구한 기울기와 y절편을 이용한 그래프\n",
        "y_pred = a * x_data + b\n",
        "plt.scatter(x,y)\n",
        "plt.plot([min(x_data), max(x_data)], [min(y_pred), max(y_pred)])\n",
        "plt.show()"
      ],
      "execution_count": 9,
      "outputs": [
        {
          "output_type": "stream",
          "text": [
            "epoch : 0, 기울기 = 23.200000000000003, y절편 = 4.525\n",
            "epoch : 100, 기울기 = 7.931567860803662, y절편 = 45.39321145915032\n",
            "epoch : 200, 기울기 = 4.7952580810839684, y절편 = 64.1093669190256\n",
            "epoch : 300, 기울기 = 3.4056091385403784, y절편 = 72.40219749701195\n",
            "epoch : 400, 기울기 = 2.7898778112334544, y절편 = 76.07661872858483\n",
            "epoch : 500, 기울기 = 2.5170570607400276, y절편 = 77.70469629028896\n",
            "epoch : 600, 기울기 = 2.3961745287023133, y절편 = 78.42607154366186\n",
            "epoch : 700, 기울기 = 2.3426134028516565, y절편 = 78.7457014362538\n",
            "epoch : 800, 기울기 = 2.3188813205232144, y절편 = 78.88732435409113\n",
            "epoch : 900, 기울기 = 2.3083660125886047, y절편 = 78.95007521476352\n"
          ],
          "name": "stdout"
        },
        {
          "output_type": "display_data",
          "data": {
            "image/png": "[encoded data removed]",
            "text/plain": [
              "<Figure size 432x288 with 1 Axes>"
            ]
          },
          "metadata": {
            "tags": [],
            "needs_background": "light"
          }
        }
      ]
    },
    {
      "cell_type": "code",
      "metadata": {
        "id": "zCrPDYUgjkd6",
        "colab_type": "code",
        "colab": {
          "base_uri": "https://localhost:8080/",
          "height": 442
        },
        "outputId": "233092dd-3b63-4c20-8983-b06aac0d895b"
      },
      "source": [
        "# 다중 선형 회귀\n",
        "\n",
        "# 데이터 셋\n",
        "data = [[2, 0, 81], [4, 4, 93], [6, 2, 91], [8, 3, 97]]\n",
        "x1 = [i[0] for i in data]\n",
        "x2 = [i[1] for i in data]\n",
        "y = [i[2] for i in data]\n",
        "\n",
        "# 3D 그래프 출력\n",
        "import matplotlib.pyplot as plt\n",
        "from mpl_toolkits import mplot3d\n",
        "\n",
        "ax = plt.axes(projection = '3d')\n",
        "ax.set_xlabel('study_hours')\n",
        "ax.set_ylabel('private_class')\n",
        "ax.set_zlabel('Score')\n",
        "ax.scatter(x1, x2, y)\n",
        "plt.show()\n",
        "\n",
        "# 넘파이 배열\n",
        "x1_data = np.array(x1)\n",
        "x2_data = np.array(x2)\n",
        "y_data = np.array(y)\n",
        "\n",
        "# 기울기 a, y절편 초기화\n",
        "a1 = 0\n",
        "a2 = 0\n",
        "b = 0\n",
        "\n",
        "# 학습률\n",
        "lr = 0.05\n",
        "\n",
        "# 반복 횟수\n",
        "epochs = 101\n",
        "\n",
        "# 경사 하강법\n",
        "for i in range(epochs):\n",
        "    y_pred = a1*x1_data + a2*x2_data + b\n",
        "    error = y_data - y_pred\n",
        "\n",
        "    # 편미분 a1, a2, b\n",
        "    a1_diff = -(1/len(x1_data)) * sum(x1_data * error)\n",
        "    a2_diff = -(1/len(x2_data)) * sum(x2_data * error)\n",
        "    b_diff = -(1/len(x1_data)) * sum(error)\n",
        "\n",
        "    # 업데이트 a1, a2, b\n",
        "    a1 = a1 - lr*a1_diff\n",
        "    a2 = a2 - lr*a2_diff\n",
        "    b = b - lr*b_diff\n",
        "\n",
        "    if i % 10 == 0:\n",
        "        print(\"epoch : {}, 기울기1 = {}, 기울기2 = {}, y절편 = {}\".format(i, a1, a2, b))"
      ],
      "execution_count": 10,
      "outputs": [
        {
          "output_type": "display_data",
          "data": {
            "image/png": "[encoded data removed]",
            "text/plain": [
              "<Figure size 432x288 with 1 Axes>"
            ]
          },
          "metadata": {
            "tags": [],
            "needs_background": "light"
          }
        },
        {
          "output_type": "stream",
          "text": [
            "epoch : 0, 기울기1 = 23.200000000000003, 기울기2 = 10.5625, y절편 = 4.525\n",
            "epoch : 10, 기울기1 = 13.466726172284988, 기울기2 = 6.429698487945293, y절편 = 8.786250518309092\n",
            "epoch : 20, 기울기1 = 11.16842473366212, 기울기2 = 5.56632810103147, y절편 = 13.844209760436728\n",
            "epoch : 30, 기울기1 = 10.185153147750025, 기울기2 = 5.245095721184715, y절편 = 18.70487408325936\n",
            "epoch : 40, 기울기1 = 9.474390715685113, 기울기2 = 5.0176991433260065, y절편 = 23.225708678107445\n",
            "epoch : 50, 기울기1 = 8.853805855621124, 기울기2 = 4.8138830022314805, y절편 = 27.406034806250627\n",
            "epoch : 60, 기울기1 = 8.287994008521752, 기울기2 = 4.6239711215704995, y절편 = 31.26736829302509\n",
            "epoch : 70, 기울기1 = 7.767331052578328, 기울기2 = 4.446948669011705, y절편 = 34.83333655173105\n",
            "epoch : 80, 기울기1 = 7.28713577107621, 기울기2 = 4.282521940701446, y절편 = 38.12640350895015\n",
            "epoch : 90, 기울기1 = 6.843950500471186, 기울기2 = 4.130183863764953, y절편 = 41.1674278373613\n",
            "epoch : 100, 기울기1 = 6.434805446608685, 기울기2 = 3.98925524892891, y절편 = 43.97569356791496\n"
          ],
          "name": "stdout"
        }
      ]
    },
    {
      "cell_type": "markdown",
      "metadata": {
        "id": "wOeM0r67sQdv",
        "colab_type": "text"
      },
      "source": [
        "# **5장 로지스틱 회귀**"
      ]
    },
    {
      "cell_type": "code",
      "metadata": {
        "id": "Bsx_fduWsQpT",
        "colab_type": "code",
        "colab": {
          "base_uri": "https://localhost:8080/",
          "height": 282
        },
        "outputId": "d7902f2a-3769-49ba-d488-1696602cb8a8"
      },
      "source": [
        "import numpy as np\n",
        "import pandas as pd\n",
        "import matplotlib.pyplot as plt\n",
        "\n",
        "# 공부시간 X, 합격 여부 Y 데이터셋\n",
        "data = [[2, 0], [4, 0], [6, 0], [8, 1], [10, 1], [12, 1], [14, 1]]\n",
        "\n",
        "x_data = [i[0] for i in data]\n",
        "y_data = [i[1] for i in data]\n",
        "\n",
        "# 그래프 출력\n",
        "plt.scatter(x_data, y_data)\n",
        "plt.xlim(0, 15)\n",
        "plt.ylim(-.1, 1.1)"
      ],
      "execution_count": 11,
      "outputs": [
        {
          "output_type": "execute_result",
          "data": {
            "text/plain": [
              "(-0.1, 1.1)"
            ]
          },
          "metadata": {
            "tags": []
          },
          "execution_count": 11
        },
        {
          "output_type": "display_data",
          "data": {
            "image/png": "[encoded data removed]",
            "text/plain": [
              "<Figure size 432x288 with 1 Axes>"
            ]
          },
          "metadata": {
            "tags": [],
            "needs_background": "light"
          }
        }
      ]
    },
    {
      "cell_type": "code",
      "metadata": {
        "id": "hwAZEjmNtAKM",
        "colab_type": "code",
        "colab": {
          "base_uri": "https://localhost:8080/",
          "height": 458
        },
        "outputId": "604dd084-9996-498b-b954-db3ffdfc9553"
      },
      "source": [
        "# 기울기 a, y절편 b 초기화\n",
        "a = 0\n",
        "b = 0\n",
        "\n",
        "# 학습률 설정\n",
        "lr = 0.05\n",
        "\n",
        "# 시그모이드 함수 정의\n",
        "def sigmoid(x):\n",
        "    return (1 / (1 + np.e**(-x)))\n",
        "\n",
        "# 경사 하강법\n",
        "for i in range (101):\n",
        "    for x_data, y_data in data:\n",
        "        # 기울기 a, y절편 b 편미분\n",
        "        a_diff = x_data * (sigmoid(a*x_data + b) - y_data)\n",
        "        b_diff = sigmoid(a*x_data) - y_data\n",
        "        \n",
        "        # 업데이트 기울기 a, y절편 b\n",
        "        a = a - lr * a_diff\n",
        "        b = b - lr * b_diff\n",
        "\n",
        "    if i % 10 == 0:\n",
        "        print(\"epoch : {}, 기울기 a = {}, y절편 b = {}\".format(i, a, b))\n",
        "\n",
        "# 그래프 출력\n",
        "plt.scatter(x,y)\n",
        "plt.xlim(0, 15)\n",
        "plt.ylim(-.1, 1.1)\n",
        "x_range = (np.arange(0, 15, 0.1))\n",
        "plt.plot(np.arange(0, 15, 0.1), np.array([sigmoid(a*x + b) for x in x_range]))\n",
        "plt.show()"
      ],
      "execution_count": 12,
      "outputs": [
        {
          "output_type": "stream",
          "text": [
            "epoch : 0, 기울기 a = 0.28614859821686867, y절편 b = -0.004268789453254262\n",
            "epoch : 10, 기울기 a = 0.3586121237826652, y절편 b = -0.6669174068924866\n",
            "epoch : 20, 기울기 a = 0.45679696453160923, y절편 b = -1.6059167950263658\n",
            "epoch : 30, 기울기 a = 0.5892706539729232, y절편 b = -2.791333599052746\n",
            "epoch : 40, 기울기 a = 0.7457909298162035, y절편 b = -4.1166389260136205\n",
            "epoch : 50, 기울기 a = 0.9167254395099746, y절편 b = -5.508461669339117\n",
            "epoch : 60, 기울기 a = 1.0971636882546743, y절편 b = -6.936875948950712\n",
            "epoch : 70, 기울기 a = 1.2844478515786426, y절편 b = -8.388528883465973\n",
            "epoch : 80, 기울기 a = 1.4767667467136092, y절편 b = -9.855796306217027\n",
            "epoch : 90, 기울기 a = 1.6727030100962264, y절편 b = -11.333695943679494\n",
            "epoch : 100, 기울기 a = 1.8711016106835927, y절편 b = -12.81882698664439\n"
          ],
          "name": "stdout"
        },
        {
          "output_type": "display_data",
          "data": {
            "image/png": "[encoded data removed]",
            "text/plain": [
              "<Figure size 432x288 with 1 Axes>"
            ]
          },
          "metadata": {
            "tags": [],
            "needs_background": "light"
          }
        }
      ]
    },
    {
      "cell_type": "markdown",
      "metadata": {
        "id": "oPc7HDhCvwM6",
        "colab_type": "text"
      },
      "source": [
        "# **7장 다층 퍼셉트론**"
      ]
    },
    {
      "cell_type": "code",
      "metadata": {
        "id": "f33SW-8xvwgj",
        "colab_type": "code",
        "colab": {
          "base_uri": "https://localhost:8080/",
          "height": 87
        },
        "outputId": "1cdeeb80-cd2e-4637-c93c-0303810db3c8"
      },
      "source": [
        "import numpy as np\n",
        "\n",
        "# 가중치와 바이어스\n",
        "w11 = np.array([-2, -2])\n",
        "w12 = np.array([2, 2])\n",
        "w2 = np.array([1, 1])\n",
        "b1 = 3\n",
        "b2 = -1\n",
        "b3 = -1\n",
        "\n",
        "# 다층 퍼셉트론 함수\n",
        "def MLP(x, w, b):\n",
        "    y = np.sum(w*x) + b\n",
        "    if y <= 0:\n",
        "        return 0\n",
        "    else:\n",
        "        return 1\n",
        "\n",
        "# NAND 게이트\n",
        "def NAND(x1, x2):\n",
        "    return MLP(np.array([x1, x2]), w11, b1)\n",
        "\n",
        "# OR 게이트\n",
        "def OR(x1, x2):\n",
        "    return MLP(np.array([x1, x2]), w12, b2)\n",
        "\n",
        "# AND 게이트\n",
        "def AND(x1, x2):\n",
        "    return MLP(np.array([x1, x2]), w2, b3)\n",
        "\n",
        "# XOR 게이트\n",
        "def XOR(x1, x2):\n",
        "    return AND(NAND(x1, x2), OR(x1, x2))\n",
        "\n",
        "# 최종값 출력\n",
        "if __name__ == '__main__':\n",
        "    for x in [(0, 0), (1, 0), (0, 1), (1, 1)]:\n",
        "        y = XOR(x[0], x[1])\n",
        "        print(\"입력값 : {}, 출력값 : {}\".format(str(x), str(y)))"
      ],
      "execution_count": 13,
      "outputs": [
        {
          "output_type": "stream",
          "text": [
            "입력값 : (0, 0), 출력값 : 0\n",
            "입력값 : (1, 0), 출력값 : 1\n",
            "입력값 : (0, 1), 출력값 : 1\n",
            "입력값 : (1, 1), 출력값 : 0\n"
          ],
          "name": "stdout"
        }
      ]
    },
    {
      "cell_type": "markdown",
      "metadata": {
        "id": "Sbzc2e7z6Ci0",
        "colab_type": "text"
      },
      "source": [
        "# **11장 피마 인디언 데이터 분석**"
      ]
    },
    {
      "cell_type": "code",
      "metadata": {
        "id": "lkF6iSvm6SS7",
        "colab_type": "code",
        "colab": {
          "base_uri": "https://localhost:8080/",
          "height": 402
        },
        "outputId": "85534e41-6956-4a71-b8e4-a1317ebf9c58"
      },
      "source": [
        "# 피마 인디언 데이터 불러오기\n",
        "import pandas as pd\n",
        "df = pd.read_csv('/content/datasets/pima-indians-diabetes.csv',\n",
        "                 names = [\"pregnant\", \"plasma\", \"pressure\", \"thickness\", \"insulin\", \"BMI\",\n",
        "                          \"pedigree\", \"age\", \"class\"])\n",
        "df"
      ],
      "execution_count": 14,
      "outputs": [
        {
          "output_type": "execute_result",
          "data": {
            "text/html": [
              "<div>\n",
              "<style scoped>\n",
              "    .dataframe tbody tr th:only-of-type {\n",
              "        vertical-align: middle;\n",
              "    }\n",
              "\n",
              "    .dataframe tbody tr th {\n",
              "        vertical-align: top;\n",
              "    }\n",
              "\n",
              "    .dataframe thead th {\n",
              "        text-align: right;\n",
              "    }\n",
              "</style>\n",
              "<table border=\"1\" class=\"dataframe\">\n",
              "  <thead>\n",
              "    <tr style=\"text-align: right;\">\n",
              "      <th></th>\n",
              "      <th>pregnant</th>\n",
              "      <th>plasma</th>\n",
              "      <th>pressure</th>\n",
              "      <th>thickness</th>\n",
              "      <th>insulin</th>\n",
              "      <th>BMI</th>\n",
              "      <th>pedigree</th>\n",
              "      <th>age</th>\n",
              "      <th>class</th>\n",
              "    </tr>\n",
              "  </thead>\n",
              "  <tbody>\n",
              "    <tr>\n",
              "      <th>0</th>\n",
              "      <td>6</td>\n",
              "      <td>148</td>\n",
              "      <td>72</td>\n",
              "      <td>35</td>\n",
              "      <td>0</td>\n",
              "      <td>33.6</td>\n",
              "      <td>0.627</td>\n",
              "      <td>50</td>\n",
              "      <td>1</td>\n",
              "    </tr>\n",
              "    <tr>\n",
              "      <th>1</th>\n",
              "      <td>1</td>\n",
              "      <td>85</td>\n",
              "      <td>66</td>\n",
              "      <td>29</td>\n",
              "      <td>0</td>\n",
              "      <td>26.6</td>\n",
              "      <td>0.351</td>\n",
              "      <td>31</td>\n",
              "      <td>0</td>\n",
              "    </tr>\n",
              "    <tr>\n",
              "      <th>2</th>\n",
              "      <td>8</td>\n",
              "      <td>183</td>\n",
              "      <td>64</td>\n",
              "      <td>0</td>\n",
              "      <td>0</td>\n",
              "      <td>23.3</td>\n",
              "      <td>0.672</td>\n",
              "      <td>32</td>\n",
              "      <td>1</td>\n",
              "    </tr>\n",
              "    <tr>\n",
              "      <th>3</th>\n",
              "      <td>1</td>\n",
              "      <td>89</td>\n",
              "      <td>66</td>\n",
              "      <td>23</td>\n",
              "      <td>94</td>\n",
              "      <td>28.1</td>\n",
              "      <td>0.167</td>\n",
              "      <td>21</td>\n",
              "      <td>0</td>\n",
              "    </tr>\n",
              "    <tr>\n",
              "      <th>4</th>\n",
              "      <td>0</td>\n",
              "      <td>137</td>\n",
              "      <td>40</td>\n",
              "      <td>35</td>\n",
              "      <td>168</td>\n",
              "      <td>43.1</td>\n",
              "      <td>2.288</td>\n",
              "      <td>33</td>\n",
              "      <td>1</td>\n",
              "    </tr>\n",
              "    <tr>\n",
              "      <th>...</th>\n",
              "      <td>...</td>\n",
              "      <td>...</td>\n",
              "      <td>...</td>\n",
              "      <td>...</td>\n",
              "      <td>...</td>\n",
              "      <td>...</td>\n",
              "      <td>...</td>\n",
              "      <td>...</td>\n",
              "      <td>...</td>\n",
              "    </tr>\n",
              "    <tr>\n",
              "      <th>763</th>\n",
              "      <td>10</td>\n",
              "      <td>101</td>\n",
              "      <td>76</td>\n",
              "      <td>48</td>\n",
              "      <td>180</td>\n",
              "      <td>32.9</td>\n",
              "      <td>0.171</td>\n",
              "      <td>63</td>\n",
              "      <td>0</td>\n",
              "    </tr>\n",
              "    <tr>\n",
              "      <th>764</th>\n",
              "      <td>2</td>\n",
              "      <td>122</td>\n",
              "      <td>70</td>\n",
              "      <td>27</td>\n",
              "      <td>0</td>\n",
              "      <td>36.8</td>\n",
              "      <td>0.340</td>\n",
              "      <td>27</td>\n",
              "      <td>0</td>\n",
              "    </tr>\n",
              "    <tr>\n",
              "      <th>765</th>\n",
              "      <td>5</td>\n",
              "      <td>121</td>\n",
              "      <td>72</td>\n",
              "      <td>23</td>\n",
              "      <td>112</td>\n",
              "      <td>26.2</td>\n",
              "      <td>0.245</td>\n",
              "      <td>30</td>\n",
              "      <td>0</td>\n",
              "    </tr>\n",
              "    <tr>\n",
              "      <th>766</th>\n",
              "      <td>1</td>\n",
              "      <td>126</td>\n",
              "      <td>60</td>\n",
              "      <td>0</td>\n",
              "      <td>0</td>\n",
              "      <td>30.1</td>\n",
              "      <td>0.349</td>\n",
              "      <td>47</td>\n",
              "      <td>1</td>\n",
              "    </tr>\n",
              "    <tr>\n",
              "      <th>767</th>\n",
              "      <td>1</td>\n",
              "      <td>93</td>\n",
              "      <td>70</td>\n",
              "      <td>31</td>\n",
              "      <td>0</td>\n",
              "      <td>30.4</td>\n",
              "      <td>0.315</td>\n",
              "      <td>23</td>\n",
              "      <td>0</td>\n",
              "    </tr>\n",
              "  </tbody>\n",
              "</table>\n",
              "<p>768 rows × 9 columns</p>\n",
              "</div>"
            ],
            "text/plain": [
              "     pregnant  plasma  pressure  thickness  insulin   BMI  pedigree  age  class\n",
              "0           6     148        72         35        0  33.6     0.627   50      1\n",
              "1           1      85        66         29        0  26.6     0.351   31      0\n",
              "2           8     183        64          0        0  23.3     0.672   32      1\n",
              "3           1      89        66         23       94  28.1     0.167   21      0\n",
              "4           0     137        40         35      168  43.1     2.288   33      1\n",
              "..        ...     ...       ...        ...      ...   ...       ...  ...    ...\n",
              "763        10     101        76         48      180  32.9     0.171   63      0\n",
              "764         2     122        70         27        0  36.8     0.340   27      0\n",
              "765         5     121        72         23      112  26.2     0.245   30      0\n",
              "766         1     126        60          0        0  30.1     0.349   47      1\n",
              "767         1      93        70         31        0  30.4     0.315   23      0\n",
              "\n",
              "[768 rows x 9 columns]"
            ]
          },
          "metadata": {
            "tags": []
          },
          "execution_count": 14
        }
      ]
    },
    {
      "cell_type": "code",
      "metadata": {
        "id": "rFKRf_wW6lSy",
        "colab_type": "code",
        "colab": {
          "base_uri": "https://localhost:8080/",
          "height": 298
        },
        "outputId": "942cd260-1ef1-451d-e919-84717c605a90"
      },
      "source": [
        "# 데이터셋 정보\n",
        "df.info()"
      ],
      "execution_count": 15,
      "outputs": [
        {
          "output_type": "stream",
          "text": [
            "<class 'pandas.core.frame.DataFrame'>\n",
            "RangeIndex: 768 entries, 0 to 767\n",
            "Data columns (total 9 columns):\n",
            " #   Column     Non-Null Count  Dtype  \n",
            "---  ------     --------------  -----  \n",
            " 0   pregnant   768 non-null    int64  \n",
            " 1   plasma     768 non-null    int64  \n",
            " 2   pressure   768 non-null    int64  \n",
            " 3   thickness  768 non-null    int64  \n",
            " 4   insulin    768 non-null    int64  \n",
            " 5   BMI        768 non-null    float64\n",
            " 6   pedigree   768 non-null    float64\n",
            " 7   age        768 non-null    int64  \n",
            " 8   class      768 non-null    int64  \n",
            "dtypes: float64(2), int64(7)\n",
            "memory usage: 54.1 KB\n"
          ],
          "name": "stdout"
        }
      ]
    },
    {
      "cell_type": "code",
      "metadata": {
        "id": "ik1x4Of16uDc",
        "colab_type": "code",
        "colab": {
          "base_uri": "https://localhost:8080/",
          "height": 284
        },
        "outputId": "e87f28c2-cb04-44cf-939a-4276c795b046"
      },
      "source": [
        "# 데이터셋 특징\n",
        "df.describe()"
      ],
      "execution_count": 16,
      "outputs": [
        {
          "output_type": "execute_result",
          "data": {
            "text/html": [
              "<div>\n",
              "<style scoped>\n",
              "    .dataframe tbody tr th:only-of-type {\n",
              "        vertical-align: middle;\n",
              "    }\n",
              "\n",
              "    .dataframe tbody tr th {\n",
              "        vertical-align: top;\n",
              "    }\n",
              "\n",
              "    .dataframe thead th {\n",
              "        text-align: right;\n",
              "    }\n",
              "</style>\n",
              "<table border=\"1\" class=\"dataframe\">\n",
              "  <thead>\n",
              "    <tr style=\"text-align: right;\">\n",
              "      <th></th>\n",
              "      <th>pregnant</th>\n",
              "      <th>plasma</th>\n",
              "      <th>pressure</th>\n",
              "      <th>thickness</th>\n",
              "      <th>insulin</th>\n",
              "      <th>BMI</th>\n",
              "      <th>pedigree</th>\n",
              "      <th>age</th>\n",
              "      <th>class</th>\n",
              "    </tr>\n",
              "  </thead>\n",
              "  <tbody>\n",
              "    <tr>\n",
              "      <th>count</th>\n",
              "      <td>768.000000</td>\n",
              "      <td>768.000000</td>\n",
              "      <td>768.000000</td>\n",
              "      <td>768.000000</td>\n",
              "      <td>768.000000</td>\n",
              "      <td>768.000000</td>\n",
              "      <td>768.000000</td>\n",
              "      <td>768.000000</td>\n",
              "      <td>768.000000</td>\n",
              "    </tr>\n",
              "    <tr>\n",
              "      <th>mean</th>\n",
              "      <td>3.845052</td>\n",
              "      <td>120.894531</td>\n",
              "      <td>69.105469</td>\n",
              "      <td>20.536458</td>\n",
              "      <td>79.799479</td>\n",
              "      <td>31.992578</td>\n",
              "      <td>0.471876</td>\n",
              "      <td>33.240885</td>\n",
              "      <td>0.348958</td>\n",
              "    </tr>\n",
              "    <tr>\n",
              "      <th>std</th>\n",
              "      <td>3.369578</td>\n",
              "      <td>31.972618</td>\n",
              "      <td>19.355807</td>\n",
              "      <td>15.952218</td>\n",
              "      <td>115.244002</td>\n",
              "      <td>7.884160</td>\n",
              "      <td>0.331329</td>\n",
              "      <td>11.760232</td>\n",
              "      <td>0.476951</td>\n",
              "    </tr>\n",
              "    <tr>\n",
              "      <th>min</th>\n",
              "      <td>0.000000</td>\n",
              "      <td>0.000000</td>\n",
              "      <td>0.000000</td>\n",
              "      <td>0.000000</td>\n",
              "      <td>0.000000</td>\n",
              "      <td>0.000000</td>\n",
              "      <td>0.078000</td>\n",
              "      <td>21.000000</td>\n",
              "      <td>0.000000</td>\n",
              "    </tr>\n",
              "    <tr>\n",
              "      <th>25%</th>\n",
              "      <td>1.000000</td>\n",
              "      <td>99.000000</td>\n",
              "      <td>62.000000</td>\n",
              "      <td>0.000000</td>\n",
              "      <td>0.000000</td>\n",
              "      <td>27.300000</td>\n",
              "      <td>0.243750</td>\n",
              "      <td>24.000000</td>\n",
              "      <td>0.000000</td>\n",
              "    </tr>\n",
              "    <tr>\n",
              "      <th>50%</th>\n",
              "      <td>3.000000</td>\n",
              "      <td>117.000000</td>\n",
              "      <td>72.000000</td>\n",
              "      <td>23.000000</td>\n",
              "      <td>30.500000</td>\n",
              "      <td>32.000000</td>\n",
              "      <td>0.372500</td>\n",
              "      <td>29.000000</td>\n",
              "      <td>0.000000</td>\n",
              "    </tr>\n",
              "    <tr>\n",
              "      <th>75%</th>\n",
              "      <td>6.000000</td>\n",
              "      <td>140.250000</td>\n",
              "      <td>80.000000</td>\n",
              "      <td>32.000000</td>\n",
              "      <td>127.250000</td>\n",
              "      <td>36.600000</td>\n",
              "      <td>0.626250</td>\n",
              "      <td>41.000000</td>\n",
              "      <td>1.000000</td>\n",
              "    </tr>\n",
              "    <tr>\n",
              "      <th>max</th>\n",
              "      <td>17.000000</td>\n",
              "      <td>199.000000</td>\n",
              "      <td>122.000000</td>\n",
              "      <td>99.000000</td>\n",
              "      <td>846.000000</td>\n",
              "      <td>67.100000</td>\n",
              "      <td>2.420000</td>\n",
              "      <td>81.000000</td>\n",
              "      <td>1.000000</td>\n",
              "    </tr>\n",
              "  </tbody>\n",
              "</table>\n",
              "</div>"
            ],
            "text/plain": [
              "         pregnant      plasma    pressure  ...    pedigree         age       class\n",
              "count  768.000000  768.000000  768.000000  ...  768.000000  768.000000  768.000000\n",
              "mean     3.845052  120.894531   69.105469  ...    0.471876   33.240885    0.348958\n",
              "std      3.369578   31.972618   19.355807  ...    0.331329   11.760232    0.476951\n",
              "min      0.000000    0.000000    0.000000  ...    0.078000   21.000000    0.000000\n",
              "25%      1.000000   99.000000   62.000000  ...    0.243750   24.000000    0.000000\n",
              "50%      3.000000  117.000000   72.000000  ...    0.372500   29.000000    0.000000\n",
              "75%      6.000000  140.250000   80.000000  ...    0.626250   41.000000    1.000000\n",
              "max     17.000000  199.000000  122.000000  ...    2.420000   81.000000    1.000000\n",
              "\n",
              "[8 rows x 9 columns]"
            ]
          },
          "metadata": {
            "tags": []
          },
          "execution_count": 16
        }
      ]
    },
    {
      "cell_type": "code",
      "metadata": {
        "id": "c8YJcvG560gw",
        "colab_type": "code",
        "colab": {
          "base_uri": "https://localhost:8080/",
          "height": 579
        },
        "outputId": "f011c051-883c-4cdd-cce6-72b910c03900"
      },
      "source": [
        "# 상관관계 그래프 출력\n",
        "import matplotlib.pyplot as plt\n",
        "import seaborn as sns\n",
        "\n",
        "# 그래프 크기 설정\n",
        "plt.figure(figsize = (8,8))\n",
        "\n",
        "# seaborn 라이브러리 사용 - 상관관계 그래프\n",
        "sns.heatmap(df.corr(), linewidths=0.1, vmax=0.5, cmap=plt.cm.gist_heat,\n",
        "            linecolor='white', annot=True)\n",
        "plt.show()"
      ],
      "execution_count": 17,
      "outputs": [
        {
          "output_type": "stream",
          "text": [
            "/usr/local/lib/python3.6/dist-packages/statsmodels/tools/_testing.py:19: FutureWarning: pandas.util.testing is deprecated. Use the functions in the public API at pandas.testing instead.\n",
            "  import pandas.util.testing as tm\n"
          ],
          "name": "stderr"
        },
        {
          "output_type": "display_data",
          "data": {
            "image/png": "[encoded data removed]",
            "text/plain": [
              "<Figure size 576x576 with 2 Axes>"
            ]
          },
          "metadata": {
            "tags": [],
            "needs_background": "light"
          }
        }
      ]
    },
    {
      "cell_type": "code",
      "metadata": {
        "id": "hJYDPNA37g-f",
        "colab_type": "code",
        "colab": {
          "base_uri": "https://localhost:8080/",
          "height": 225
        },
        "outputId": "60d8b711-ca08-452d-93e4-59b3f46af765"
      },
      "source": [
        "# plasma 정보와 class 관계 그래프 출력\n",
        "import matplotlib.pyplot as plt\n",
        "import seaborn as sns\n",
        "\n",
        "grid = sns.FacetGrid(df, col='class')\n",
        "grid.map(plt.hist, 'plasma', bins=10)\n",
        "plt.show()"
      ],
      "execution_count": 18,
      "outputs": [
        {
          "output_type": "display_data",
          "data": {
            "image/png": "[encoded data removed]",
            "text/plain": [
              "<Figure size 432x216 with 2 Axes>"
            ]
          },
          "metadata": {
            "tags": [],
            "needs_background": "light"
          }
        }
      ]
    },
    {
      "cell_type": "code",
      "metadata": {
        "id": "I0UalaaN8I5r",
        "colab_type": "code",
        "colab": {
          "base_uri": "https://localhost:8080/",
          "height": 1000
        },
        "outputId": "38cf36fb-d51d-4e5b-d38e-cd6a06d4fec2"
      },
      "source": [
        "# 피마 인디언의 당뇨병 예측\n",
        "from tensorflow.keras.models import Sequential\n",
        "from tensorflow.keras.layers import Dense\n",
        "import numpy as np\n",
        "import tensorflow as tf\n",
        "\n",
        "# seed값 생성\n",
        "np.random.seed(3)\n",
        "tf.random.set_seed(3)\n",
        "\n",
        "# 데이터 불러오기\n",
        "dataset = np.loadtxt('/content/datasets/pima-indians-diabetes.csv', delimiter =',')\n",
        "X = dataset[:, 0:8]\n",
        "Y = dataset[:, 8]\n",
        "\n",
        "# 모델 설정\n",
        "model = Sequential()\n",
        "model.add(Dense(12, input_dim=8, activation='relu'))\n",
        "model.add(Dense(8, activation = 'relu'))\n",
        "model.add(Dense(1, activation = 'sigmoid'))\n",
        "\n",
        "# 모델 컴파일\n",
        "model.compile(loss = 'binary_crossentropy', optimizer = 'adam', metrics = ['accuracy'])\n",
        "\n",
        "# 모델 실행\n",
        "model.fit(X, Y, epochs=50, batch_size=10)\n",
        "\n",
        "# 결과 출력\n",
        "print(\"\\n Accuracy : {}\".format(model.evaluate(X, Y)[1]))"
      ],
      "execution_count": 20,
      "outputs": [
        {
          "output_type": "stream",
          "text": [
            "Epoch 1/50\n",
            "77/77 [==============================] - 0s 2ms/step - loss: 10.5440 - accuracy: 0.6159\n",
            "Epoch 2/50\n",
            "77/77 [==============================] - 0s 2ms/step - loss: 5.4366 - accuracy: 0.6029\n",
            "Epoch 3/50\n",
            "77/77 [==============================] - 0s 2ms/step - loss: 2.9292 - accuracy: 0.5208\n",
            "Epoch 4/50\n",
            "77/77 [==============================] - 0s 2ms/step - loss: 1.5346 - accuracy: 0.5208\n",
            "Epoch 5/50\n",
            "77/77 [==============================] - 0s 2ms/step - loss: 0.8896 - accuracy: 0.5000\n",
            "Epoch 6/50\n",
            "77/77 [==============================] - 0s 2ms/step - loss: 0.8072 - accuracy: 0.5234\n",
            "Epoch 7/50\n",
            "77/77 [==============================] - 0s 3ms/step - loss: 0.7655 - accuracy: 0.6549\n",
            "Epoch 8/50\n",
            "77/77 [==============================] - 0s 2ms/step - loss: 0.7306 - accuracy: 0.6628\n",
            "Epoch 9/50\n",
            "77/77 [==============================] - 0s 3ms/step - loss: 0.6943 - accuracy: 0.6706\n",
            "Epoch 10/50\n",
            "77/77 [==============================] - 0s 2ms/step - loss: 0.6656 - accuracy: 0.6758\n",
            "Epoch 11/50\n",
            "77/77 [==============================] - 0s 2ms/step - loss: 0.6390 - accuracy: 0.6797\n",
            "Epoch 12/50\n",
            "77/77 [==============================] - 0s 2ms/step - loss: 0.6198 - accuracy: 0.6823\n",
            "Epoch 13/50\n",
            "77/77 [==============================] - 0s 3ms/step - loss: 0.6072 - accuracy: 0.6979\n",
            "Epoch 14/50\n",
            "77/77 [==============================] - 0s 2ms/step - loss: 0.6112 - accuracy: 0.6966\n",
            "Epoch 15/50\n",
            "77/77 [==============================] - 0s 2ms/step - loss: 0.5993 - accuracy: 0.7005\n",
            "Epoch 16/50\n",
            "77/77 [==============================] - 0s 2ms/step - loss: 0.5894 - accuracy: 0.6940\n",
            "Epoch 17/50\n",
            "77/77 [==============================] - 0s 2ms/step - loss: 0.5915 - accuracy: 0.7057\n",
            "Epoch 18/50\n",
            "77/77 [==============================] - 0s 3ms/step - loss: 0.5854 - accuracy: 0.7122\n",
            "Epoch 19/50\n",
            "77/77 [==============================] - 0s 2ms/step - loss: 0.5873 - accuracy: 0.6992\n",
            "Epoch 20/50\n",
            "77/77 [==============================] - 0s 2ms/step - loss: 0.5820 - accuracy: 0.7070\n",
            "Epoch 21/50\n",
            "77/77 [==============================] - 0s 2ms/step - loss: 0.5838 - accuracy: 0.6810\n",
            "Epoch 22/50\n",
            "77/77 [==============================] - 0s 2ms/step - loss: 0.5759 - accuracy: 0.7109\n",
            "Epoch 23/50\n",
            "77/77 [==============================] - 0s 3ms/step - loss: 0.5752 - accuracy: 0.7148\n",
            "Epoch 24/50\n",
            "77/77 [==============================] - 0s 2ms/step - loss: 0.5767 - accuracy: 0.7070\n",
            "Epoch 25/50\n",
            "77/77 [==============================] - 0s 2ms/step - loss: 0.5737 - accuracy: 0.7122\n",
            "Epoch 26/50\n",
            "77/77 [==============================] - 0s 2ms/step - loss: 0.5664 - accuracy: 0.7161\n",
            "Epoch 27/50\n",
            "77/77 [==============================] - 0s 2ms/step - loss: 0.5801 - accuracy: 0.7057\n",
            "Epoch 28/50\n",
            "77/77 [==============================] - 0s 3ms/step - loss: 0.5755 - accuracy: 0.7174\n",
            "Epoch 29/50\n",
            "77/77 [==============================] - 0s 2ms/step - loss: 0.5654 - accuracy: 0.7161\n",
            "Epoch 30/50\n",
            "77/77 [==============================] - 0s 2ms/step - loss: 0.5635 - accuracy: 0.7188\n",
            "Epoch 31/50\n",
            "77/77 [==============================] - 0s 2ms/step - loss: 0.5602 - accuracy: 0.7122\n",
            "Epoch 32/50\n",
            "77/77 [==============================] - 0s 2ms/step - loss: 0.5683 - accuracy: 0.7109\n",
            "Epoch 33/50\n",
            "77/77 [==============================] - 0s 3ms/step - loss: 0.5661 - accuracy: 0.7018\n",
            "Epoch 34/50\n",
            "77/77 [==============================] - 0s 3ms/step - loss: 0.5578 - accuracy: 0.7214\n",
            "Epoch 35/50\n",
            "77/77 [==============================] - 0s 2ms/step - loss: 0.5563 - accuracy: 0.7305\n",
            "Epoch 36/50\n",
            "77/77 [==============================] - 0s 2ms/step - loss: 0.5657 - accuracy: 0.7122\n",
            "Epoch 37/50\n",
            "77/77 [==============================] - 0s 2ms/step - loss: 0.5529 - accuracy: 0.7070\n",
            "Epoch 38/50\n",
            "77/77 [==============================] - 0s 3ms/step - loss: 0.5537 - accuracy: 0.7227\n",
            "Epoch 39/50\n",
            "77/77 [==============================] - 0s 3ms/step - loss: 0.5552 - accuracy: 0.7174\n",
            "Epoch 40/50\n",
            "77/77 [==============================] - 0s 2ms/step - loss: 0.5539 - accuracy: 0.7292\n",
            "Epoch 41/50\n",
            "77/77 [==============================] - 0s 2ms/step - loss: 0.5523 - accuracy: 0.7253\n",
            "Epoch 42/50\n",
            "77/77 [==============================] - 0s 2ms/step - loss: 0.5533 - accuracy: 0.7227\n",
            "Epoch 43/50\n",
            "77/77 [==============================] - 0s 2ms/step - loss: 0.5535 - accuracy: 0.7201\n",
            "Epoch 44/50\n",
            "77/77 [==============================] - 0s 3ms/step - loss: 0.5433 - accuracy: 0.7240\n",
            "Epoch 45/50\n",
            "77/77 [==============================] - 0s 2ms/step - loss: 0.5648 - accuracy: 0.7122\n",
            "Epoch 46/50\n",
            "77/77 [==============================] - 0s 3ms/step - loss: 0.5478 - accuracy: 0.7161\n",
            "Epoch 47/50\n",
            "77/77 [==============================] - 0s 2ms/step - loss: 0.5480 - accuracy: 0.7266\n",
            "Epoch 48/50\n",
            "77/77 [==============================] - 0s 2ms/step - loss: 0.5413 - accuracy: 0.7318\n",
            "Epoch 49/50\n",
            "77/77 [==============================] - 0s 3ms/step - loss: 0.5410 - accuracy: 0.7253\n",
            "Epoch 50/50\n",
            "77/77 [==============================] - 0s 2ms/step - loss: 0.5396 - accuracy: 0.7318\n",
            "24/24 [==============================] - 0s 2ms/step - loss: 0.5258 - accuracy: 0.7383\n",
            "\n",
            " Accuracy : 0.73828125\n"
          ],
          "name": "stdout"
        }
      ]
    },
    {
      "cell_type": "markdown",
      "metadata": {
        "id": "QxWRifvbOhM5",
        "colab_type": "text"
      },
      "source": [
        "# **12장 아이리스 품종 예측하기**"
      ]
    },
    {
      "cell_type": "code",
      "metadata": {
        "id": "jQyYbdKeO_JW",
        "colab_type": "code",
        "colab": {
          "base_uri": "https://localhost:8080/",
          "height": 748
        },
        "outputId": "6bc2de49-a313-4faa-9b35-2d0e9242fba2"
      },
      "source": [
        "# 아이리스 품종 예측하기\n",
        "from tensorflow.keras.models import Sequential\n",
        "from tensorflow.keras.layers import Dense\n",
        "from sklearn.preprocessing import LabelEncoder\n",
        "\n",
        "import pandas as pd\n",
        "import numpy as np\n",
        "import seaborn as sns\n",
        "import matplotlib.pyplot as plt\n",
        "import tensorflow as tf\n",
        "\n",
        "# seed 값 설정\n",
        "np.random.seed(3)\n",
        "tf.random.set_seed(3)\n",
        "\n",
        "# 데이터 입력\n",
        "df = pd.read_csv('/content/datasets/iris.csv', names=['sepal_length', 'sepal_width', 'petal_length', 'petal_width', 'species'])\n",
        "\n",
        "# 상관도 그래프 출력\n",
        "sns.pairplot(df, hue='species')\n",
        "plt.show()"
      ],
      "execution_count": 21,
      "outputs": [
        {
          "output_type": "display_data",
          "data": {
            "image/png": "[encoded data removed]",
            "text/plain": [
              "<Figure size 823.25x720 with 20 Axes>"
            ]
          },
          "metadata": {
            "tags": [],
            "needs_background": "light"
          }
        }
      ]
    },
    {
      "cell_type": "code",
      "metadata": {
        "id": "wVnBfl54QlC-",
        "colab_type": "code",
        "colab": {}
      },
      "source": [
        "# 데이터 분류\n",
        "dataset = df.values\n",
        "X = dataset[:, 0:4].astype(float)\n",
        "Y_obj = dataset[:, 4]\n",
        "\n",
        "# 클래스(Y) 이름 숫자 형태로 변환\n",
        "e = LabelEncoder()\n",
        "e.fit(Y_obj)\n",
        "Y = e.transform(Y_obj)\n",
        "\n",
        "# Y값을 0과 1로 변환\n",
        "Y_encoded = tf.keras.utils.to_categorical(Y)"
      ],
      "execution_count": 22,
      "outputs": []
    },
    {
      "cell_type": "code",
      "metadata": {
        "id": "n_WdDUJwTgMf",
        "colab_type": "code",
        "colab": {
          "base_uri": "https://localhost:8080/",
          "height": 950
        },
        "outputId": "4986deb9-4cc9-460e-f54e-779a5c111f86"
      },
      "source": [
        "# 모델 설정\n",
        "model = Sequential()\n",
        "model.add(Dense(16, input_dim=4, activation='relu'))\n",
        "model.add(Dense(3, activation='softmax'))\n",
        "\n",
        "# 모델 컴파일\n",
        "model.compile(loss='categorical_crossentropy', optimizer='adam', metrics=['accuracy'])\n",
        "\n",
        "# 모델 실행\n",
        "model.fit(X, Y_encoded, epochs = 25, batch_size = 1)\n",
        "\n",
        "# 결과 출력\n",
        "print(\"\\n Accuracy : {}\".format(model.evaluate(X, Y_encoded)[1]))"
      ],
      "execution_count": 23,
      "outputs": [
        {
          "output_type": "stream",
          "text": [
            "Epoch 1/25\n",
            "150/150 [==============================] - 0s 2ms/step - loss: 1.3259 - accuracy: 0.3333\n",
            "Epoch 2/25\n",
            "150/150 [==============================] - 0s 2ms/step - loss: 0.8409 - accuracy: 0.6333\n",
            "Epoch 3/25\n",
            "150/150 [==============================] - 0s 2ms/step - loss: 0.7110 - accuracy: 0.7267\n",
            "Epoch 4/25\n",
            "150/150 [==============================] - 0s 2ms/step - loss: 0.6229 - accuracy: 0.6867\n",
            "Epoch 5/25\n",
            "150/150 [==============================] - 0s 2ms/step - loss: 0.5542 - accuracy: 0.7933\n",
            "Epoch 6/25\n",
            "150/150 [==============================] - 0s 2ms/step - loss: 0.4988 - accuracy: 0.9067\n",
            "Epoch 7/25\n",
            "150/150 [==============================] - 0s 2ms/step - loss: 0.4562 - accuracy: 0.9133\n",
            "Epoch 8/25\n",
            "150/150 [==============================] - 0s 2ms/step - loss: 0.4287 - accuracy: 0.9067\n",
            "Epoch 9/25\n",
            "150/150 [==============================] - 0s 2ms/step - loss: 0.4006 - accuracy: 0.9267\n",
            "Epoch 10/25\n",
            "150/150 [==============================] - 0s 2ms/step - loss: 0.3773 - accuracy: 0.9733\n",
            "Epoch 11/25\n",
            "150/150 [==============================] - 0s 2ms/step - loss: 0.3569 - accuracy: 0.9267\n",
            "Epoch 12/25\n",
            "150/150 [==============================] - 0s 2ms/step - loss: 0.3367 - accuracy: 0.9333\n",
            "Epoch 13/25\n",
            "150/150 [==============================] - 0s 2ms/step - loss: 0.3272 - accuracy: 0.9600\n",
            "Epoch 14/25\n",
            "150/150 [==============================] - 0s 2ms/step - loss: 0.3060 - accuracy: 0.9667\n",
            "Epoch 15/25\n",
            "150/150 [==============================] - 0s 2ms/step - loss: 0.2920 - accuracy: 0.9667\n",
            "Epoch 16/25\n",
            "150/150 [==============================] - 0s 2ms/step - loss: 0.2784 - accuracy: 0.9600\n",
            "Epoch 17/25\n",
            "150/150 [==============================] - 0s 2ms/step - loss: 0.2697 - accuracy: 0.9600\n",
            "Epoch 18/25\n",
            "150/150 [==============================] - 0s 2ms/step - loss: 0.2639 - accuracy: 0.9533\n",
            "Epoch 19/25\n",
            "150/150 [==============================] - 0s 2ms/step - loss: 0.2473 - accuracy: 0.9733\n",
            "Epoch 20/25\n",
            "150/150 [==============================] - 0s 2ms/step - loss: 0.2359 - accuracy: 0.9733\n",
            "Epoch 21/25\n",
            "150/150 [==============================] - 0s 2ms/step - loss: 0.2274 - accuracy: 0.9733\n",
            "Epoch 22/25\n",
            "150/150 [==============================] - 0s 2ms/step - loss: 0.2225 - accuracy: 0.9733\n",
            "Epoch 23/25\n",
            "150/150 [==============================] - 0s 2ms/step - loss: 0.2106 - accuracy: 0.9733\n",
            "Epoch 24/25\n",
            "150/150 [==============================] - 0s 2ms/step - loss: 0.2062 - accuracy: 0.9667\n",
            "Epoch 25/25\n",
            "150/150 [==============================] - 0s 2ms/step - loss: 0.1939 - accuracy: 0.9800\n",
            "5/5 [==============================] - 0s 2ms/step - loss: 0.1892 - accuracy: 0.9667\n",
            "\n",
            " Accuracy : 0.9666666388511658\n"
          ],
          "name": "stdout"
        }
      ]
    },
    {
      "cell_type": "markdown",
      "metadata": {
        "id": "IL0Fm6dnU28N",
        "colab_type": "text"
      },
      "source": [
        "# **13장 초음파 광물 예측하기**"
      ]
    },
    {
      "cell_type": "code",
      "metadata": {
        "id": "8UdR4mJdY7FE",
        "colab_type": "code",
        "colab": {
          "base_uri": "https://localhost:8080/",
          "height": 1000
        },
        "outputId": "a02fb062-6f47-4f54-971b-0e47e0c37499"
      },
      "source": [
        "from keras.models import Sequential\n",
        "from keras.layers.core import Dense\n",
        "from sklearn.preprocessing import LabelEncoder\n",
        "from sklearn.model_selection import StratifiedKFold\n",
        "\n",
        "import numpy as np\n",
        "import pandas as pd\n",
        "import tensorflow as tf\n",
        "\n",
        "# seed 값 설정\n",
        "seed = 0\n",
        "np.random.seed(seed)\n",
        "tf.random.set_seed(3)\n",
        "\n",
        "# 데이터 입력\n",
        "df = pd.read_csv('/content/datasets/sonar.csv', header = None)\n",
        "\n",
        "# X, Y 데이터 입력\n",
        "dataset = df.values\n",
        "X = dataset[:, 0:60]\n",
        "Y_obj = dataset[:, 60]\n",
        "\n",
        "# 라벨 부여\n",
        "e = LabelEncoder()\n",
        "e.fit(Y_obj)\n",
        "Y = e.transform(Y_obj)\n",
        "\n",
        "# 10개의 파일로 데이터셋 조깨기\n",
        "n_fold = 10\n",
        "skf = StratifiedKFold(n_splits=n_fold, shuffle=True, random_state=seed)\n",
        "\n",
        "# accuracy 리스트\n",
        "accuracy = []\n",
        "\n",
        "# 모델 설정, 컴파일, 실행\n",
        "for train, test in skf.split(X, Y):\n",
        "    model = Sequential()\n",
        "    model.add(Dense(24, input_dim=60, activation='relu'))\n",
        "    model.add(Dense(10, activation='relu'))\n",
        "    model.add(Dense(1, activation='sigmoid'))\n",
        "    model.compile(loss='mean_squared_error', optimizer='adam', metrics=['accuracy'])\n",
        "    model.fit(X[train], Y[train], epochs=10, batch_size=5)\n",
        "    # K겹 교차 검증(K-Fold CV)\n",
        "    K_accuracy = model.evaluate(X[test], Y[test])[1]\n",
        "    accuracy.append(K_accuracy)\n",
        "\n",
        "print(\"\\n fold_accuracy : {}\".format(n_fold, accuracy))"
      ],
      "execution_count": 27,
      "outputs": [
        {
          "output_type": "stream",
          "text": [
            "Epoch 1/10\n",
            "187/187 [==============================] - 0s 1ms/step - loss: 0.2470 - accuracy: 0.5348\n",
            "Epoch 2/10\n",
            "187/187 [==============================] - 0s 599us/step - loss: 0.2290 - accuracy: 0.7433\n",
            "Epoch 3/10\n",
            "187/187 [==============================] - 0s 587us/step - loss: 0.2170 - accuracy: 0.6684\n",
            "Epoch 4/10\n",
            "187/187 [==============================] - 0s 555us/step - loss: 0.1976 - accuracy: 0.7166\n",
            "Epoch 5/10\n",
            "187/187 [==============================] - 0s 551us/step - loss: 0.1883 - accuracy: 0.7701\n",
            "Epoch 6/10\n",
            "187/187 [==============================] - 0s 566us/step - loss: 0.1745 - accuracy: 0.7968\n",
            "Epoch 7/10\n",
            "187/187 [==============================] - 0s 638us/step - loss: 0.1625 - accuracy: 0.8182\n",
            "Epoch 8/10\n",
            "187/187 [==============================] - 0s 564us/step - loss: 0.1552 - accuracy: 0.7968\n",
            "Epoch 9/10\n",
            "187/187 [==============================] - 0s 547us/step - loss: 0.1472 - accuracy: 0.8128\n",
            "Epoch 10/10\n",
            "187/187 [==============================] - 0s 590us/step - loss: 0.1391 - accuracy: 0.8289\n",
            "21/21 [==============================] - 0s 787us/step\n",
            "Epoch 1/10\n",
            "187/187 [==============================] - 0s 1ms/step - loss: 0.2352 - accuracy: 0.5668\n",
            "Epoch 2/10\n",
            "187/187 [==============================] - 0s 599us/step - loss: 0.2219 - accuracy: 0.6791\n",
            "Epoch 3/10\n",
            "187/187 [==============================] - 0s 560us/step - loss: 0.2122 - accuracy: 0.7059\n",
            "Epoch 4/10\n",
            "187/187 [==============================] - 0s 577us/step - loss: 0.2004 - accuracy: 0.7005\n",
            "Epoch 5/10\n",
            "187/187 [==============================] - 0s 575us/step - loss: 0.1963 - accuracy: 0.7380\n",
            "Epoch 6/10\n",
            "187/187 [==============================] - 0s 553us/step - loss: 0.1812 - accuracy: 0.7861\n",
            "Epoch 7/10\n",
            "187/187 [==============================] - 0s 548us/step - loss: 0.1724 - accuracy: 0.7701\n",
            "Epoch 8/10\n",
            "187/187 [==============================] - 0s 549us/step - loss: 0.1630 - accuracy: 0.8182\n",
            "Epoch 9/10\n",
            "187/187 [==============================] - 0s 543us/step - loss: 0.1614 - accuracy: 0.8021\n",
            "Epoch 10/10\n",
            "187/187 [==============================] - 0s 557us/step - loss: 0.1469 - accuracy: 0.8342\n",
            "21/21 [==============================] - 0s 867us/step\n",
            "Epoch 1/10\n",
            "187/187 [==============================] - 0s 1ms/step - loss: 0.2544 - accuracy: 0.5080\n",
            "Epoch 2/10\n",
            "187/187 [==============================] - 0s 582us/step - loss: 0.2422 - accuracy: 0.5615\n",
            "Epoch 3/10\n",
            "187/187 [==============================] - 0s 559us/step - loss: 0.2366 - accuracy: 0.5936\n",
            "Epoch 4/10\n",
            "187/187 [==============================] - 0s 543us/step - loss: 0.2276 - accuracy: 0.6684\n",
            "Epoch 5/10\n",
            "187/187 [==============================] - 0s 617us/step - loss: 0.2184 - accuracy: 0.6791\n",
            "Epoch 6/10\n",
            "187/187 [==============================] - 0s 547us/step - loss: 0.2096 - accuracy: 0.6738\n",
            "Epoch 7/10\n",
            "187/187 [==============================] - 0s 565us/step - loss: 0.2019 - accuracy: 0.6524\n",
            "Epoch 8/10\n",
            "187/187 [==============================] - 0s 561us/step - loss: 0.1988 - accuracy: 0.7005\n",
            "Epoch 9/10\n",
            "187/187 [==============================] - 0s 536us/step - loss: 0.1901 - accuracy: 0.7326\n",
            "Epoch 10/10\n",
            "187/187 [==============================] - 0s 549us/step - loss: 0.1828 - accuracy: 0.7059\n",
            "21/21 [==============================] - 0s 743us/step\n",
            "Epoch 1/10\n",
            "187/187 [==============================] - 0s 1ms/step - loss: 0.2534 - accuracy: 0.5134\n",
            "Epoch 2/10\n",
            "187/187 [==============================] - 0s 561us/step - loss: 0.2386 - accuracy: 0.6257\n",
            "Epoch 3/10\n",
            "187/187 [==============================] - 0s 569us/step - loss: 0.2277 - accuracy: 0.6684\n",
            "Epoch 4/10\n",
            "187/187 [==============================] - 0s 545us/step - loss: 0.2177 - accuracy: 0.6791\n",
            "Epoch 5/10\n",
            "187/187 [==============================] - 0s 532us/step - loss: 0.2023 - accuracy: 0.7326\n",
            "Epoch 6/10\n",
            "187/187 [==============================] - 0s 515us/step - loss: 0.1913 - accuracy: 0.7540\n",
            "Epoch 7/10\n",
            "187/187 [==============================] - 0s 517us/step - loss: 0.1803 - accuracy: 0.7914\n",
            "Epoch 8/10\n",
            "187/187 [==============================] - 0s 529us/step - loss: 0.1721 - accuracy: 0.7861\n",
            "Epoch 9/10\n",
            "187/187 [==============================] - 0s 524us/step - loss: 0.1666 - accuracy: 0.7807\n",
            "Epoch 10/10\n",
            "187/187 [==============================] - 0s 580us/step - loss: 0.1550 - accuracy: 0.8235\n",
            "21/21 [==============================] - 0s 715us/step\n",
            "Epoch 1/10\n",
            "187/187 [==============================] - 0s 980us/step - loss: 0.2422 - accuracy: 0.5348\n",
            "Epoch 2/10\n",
            "187/187 [==============================] - 0s 563us/step - loss: 0.2370 - accuracy: 0.5508\n",
            "Epoch 3/10\n",
            "187/187 [==============================] - 0s 604us/step - loss: 0.2304 - accuracy: 0.6257\n",
            "Epoch 4/10\n",
            "187/187 [==============================] - 0s 561us/step - loss: 0.2214 - accuracy: 0.7433\n",
            "Epoch 5/10\n",
            "187/187 [==============================] - 0s 560us/step - loss: 0.2114 - accuracy: 0.7701\n",
            "Epoch 6/10\n",
            "187/187 [==============================] - 0s 583us/step - loss: 0.1999 - accuracy: 0.7914\n",
            "Epoch 7/10\n",
            "187/187 [==============================] - 0s 552us/step - loss: 0.1882 - accuracy: 0.7754\n",
            "Epoch 8/10\n",
            "187/187 [==============================] - 0s 541us/step - loss: 0.1832 - accuracy: 0.7540\n",
            "Epoch 9/10\n",
            "187/187 [==============================] - 0s 534us/step - loss: 0.1695 - accuracy: 0.8128\n",
            "Epoch 10/10\n",
            "187/187 [==============================] - 0s 533us/step - loss: 0.1613 - accuracy: 0.8289\n",
            "21/21 [==============================] - 0s 759us/step\n",
            "Epoch 1/10\n",
            "187/187 [==============================] - 0s 1ms/step - loss: 0.2615 - accuracy: 0.4492\n",
            "Epoch 2/10\n",
            "187/187 [==============================] - 0s 576us/step - loss: 0.2393 - accuracy: 0.6310\n",
            "Epoch 3/10\n",
            "187/187 [==============================] - 0s 574us/step - loss: 0.2283 - accuracy: 0.6364\n",
            "Epoch 4/10\n",
            "187/187 [==============================] - 0s 635us/step - loss: 0.2171 - accuracy: 0.6578\n",
            "Epoch 5/10\n",
            "187/187 [==============================] - 0s 542us/step - loss: 0.2067 - accuracy: 0.6738\n",
            "Epoch 6/10\n",
            "187/187 [==============================] - 0s 541us/step - loss: 0.1965 - accuracy: 0.6952\n",
            "Epoch 7/10\n",
            "187/187 [==============================] - 0s 582us/step - loss: 0.1898 - accuracy: 0.7166\n",
            "Epoch 8/10\n",
            "187/187 [==============================] - 0s 510us/step - loss: 0.1839 - accuracy: 0.7433\n",
            "Epoch 9/10\n",
            "187/187 [==============================] - 0s 524us/step - loss: 0.1718 - accuracy: 0.7807\n",
            "Epoch 10/10\n",
            "187/187 [==============================] - 0s 586us/step - loss: 0.1638 - accuracy: 0.7807\n",
            "21/21 [==============================] - 0s 790us/step\n",
            "Epoch 1/10\n",
            "187/187 [==============================] - 0s 965us/step - loss: 0.2480 - accuracy: 0.5615\n",
            "Epoch 2/10\n",
            "187/187 [==============================] - 0s 600us/step - loss: 0.2423 - accuracy: 0.5348\n",
            "Epoch 3/10\n",
            "187/187 [==============================] - 0s 557us/step - loss: 0.2373 - accuracy: 0.6203\n",
            "Epoch 4/10\n",
            "187/187 [==============================] - 0s 617us/step - loss: 0.2303 - accuracy: 0.6524\n",
            "Epoch 5/10\n",
            "187/187 [==============================] - 0s 558us/step - loss: 0.2247 - accuracy: 0.6738\n",
            "Epoch 6/10\n",
            "187/187 [==============================] - 0s 545us/step - loss: 0.2169 - accuracy: 0.7112\n",
            "Epoch 7/10\n",
            "187/187 [==============================] - 0s 560us/step - loss: 0.2063 - accuracy: 0.7647\n",
            "Epoch 8/10\n",
            "187/187 [==============================] - 0s 560us/step - loss: 0.1961 - accuracy: 0.7433\n",
            "Epoch 9/10\n",
            "187/187 [==============================] - 0s 616us/step - loss: 0.1851 - accuracy: 0.7540\n",
            "Epoch 10/10\n",
            "187/187 [==============================] - 0s 560us/step - loss: 0.1754 - accuracy: 0.7540\n",
            "21/21 [==============================] - 0s 1ms/step\n",
            "Epoch 1/10\n",
            "187/187 [==============================] - 0s 1ms/step - loss: 0.2454 - accuracy: 0.6364\n",
            "Epoch 2/10\n",
            "187/187 [==============================] - 0s 545us/step - loss: 0.2313 - accuracy: 0.6738\n",
            "Epoch 3/10\n",
            "187/187 [==============================] - 0s 562us/step - loss: 0.2240 - accuracy: 0.6791\n",
            "Epoch 4/10\n",
            "187/187 [==============================] - 0s 557us/step - loss: 0.2137 - accuracy: 0.7273\n",
            "Epoch 5/10\n",
            "187/187 [==============================] - 0s 555us/step - loss: 0.2063 - accuracy: 0.7380\n",
            "Epoch 6/10\n",
            "187/187 [==============================] - 0s 595us/step - loss: 0.1927 - accuracy: 0.7540\n",
            "Epoch 7/10\n",
            "187/187 [==============================] - 0s 592us/step - loss: 0.1865 - accuracy: 0.7326\n",
            "Epoch 8/10\n",
            "187/187 [==============================] - 0s 604us/step - loss: 0.1762 - accuracy: 0.7968\n",
            "Epoch 9/10\n",
            "187/187 [==============================] - 0s 564us/step - loss: 0.1703 - accuracy: 0.7914\n",
            "Epoch 10/10\n",
            "187/187 [==============================] - 0s 573us/step - loss: 0.1601 - accuracy: 0.8075\n",
            "21/21 [==============================] - 0s 756us/step\n",
            "Epoch 1/10\n",
            "188/188 [==============================] - 0s 991us/step - loss: 0.2431 - accuracy: 0.5266\n",
            "Epoch 2/10\n",
            "188/188 [==============================] - 0s 590us/step - loss: 0.2324 - accuracy: 0.5532\n",
            "Epoch 3/10\n",
            "188/188 [==============================] - 0s 602us/step - loss: 0.2269 - accuracy: 0.6170\n",
            "Epoch 4/10\n",
            "188/188 [==============================] - 0s 602us/step - loss: 0.2209 - accuracy: 0.6596\n",
            "Epoch 5/10\n",
            "188/188 [==============================] - 0s 556us/step - loss: 0.2113 - accuracy: 0.6915\n",
            "Epoch 6/10\n",
            "188/188 [==============================] - 0s 565us/step - loss: 0.1971 - accuracy: 0.7500\n",
            "Epoch 7/10\n",
            "188/188 [==============================] - 0s 537us/step - loss: 0.1895 - accuracy: 0.7394\n",
            "Epoch 8/10\n",
            "188/188 [==============================] - 0s 546us/step - loss: 0.1780 - accuracy: 0.7660\n",
            "Epoch 9/10\n",
            "188/188 [==============================] - 0s 543us/step - loss: 0.1764 - accuracy: 0.7766\n",
            "Epoch 10/10\n",
            "188/188 [==============================] - 0s 612us/step - loss: 0.1692 - accuracy: 0.7926\n",
            "20/20 [==============================] - 0s 778us/step\n",
            "Epoch 1/10\n",
            "188/188 [==============================] - 0s 1ms/step - loss: 0.2371 - accuracy: 0.5851\n",
            "Epoch 2/10\n",
            "188/188 [==============================] - 0s 585us/step - loss: 0.2252 - accuracy: 0.6915\n",
            "Epoch 3/10\n",
            "188/188 [==============================] - 0s 563us/step - loss: 0.2170 - accuracy: 0.6862\n",
            "Epoch 4/10\n",
            "188/188 [==============================] - 0s 620us/step - loss: 0.2070 - accuracy: 0.6915\n",
            "Epoch 5/10\n",
            "188/188 [==============================] - 0s 571us/step - loss: 0.1957 - accuracy: 0.7553\n",
            "Epoch 6/10\n",
            "188/188 [==============================] - 0s 649us/step - loss: 0.1838 - accuracy: 0.7713\n",
            "Epoch 7/10\n",
            "188/188 [==============================] - 0s 663us/step - loss: 0.1771 - accuracy: 0.7660\n",
            "Epoch 8/10\n",
            "188/188 [==============================] - 0s 575us/step - loss: 0.1780 - accuracy: 0.7394\n",
            "Epoch 9/10\n",
            "188/188 [==============================] - 0s 537us/step - loss: 0.1648 - accuracy: 0.7819\n",
            "Epoch 10/10\n",
            "188/188 [==============================] - 0s 581us/step - loss: 0.1529 - accuracy: 0.8245\n",
            "20/20 [==============================] - 0s 881us/step\n",
            "\n",
            " fold_accuracy : 10\n"
          ],
          "name": "stdout"
        }
      ]
    },
    {
      "cell_type": "markdown",
      "metadata": {
        "id": "JTv8vAv5Dw7-",
        "colab_type": "text"
      },
      "source": [
        "# **14장 와인의 종류 예측하기**"
      ]
    },
    {
      "cell_type": "code",
      "metadata": {
        "id": "8YJ9qKZIEBuL",
        "colab_type": "code",
        "colab": {
          "base_uri": "https://localhost:8080/",
          "height": 386
        },
        "outputId": "9da3da0e-62cd-479e-a727-c41ecec74952"
      },
      "source": [
        "from keras.models import Sequential\n",
        "from keras.layers import Dense\n",
        "from keras.callbacks import ModelCheckpoint\n",
        "\n",
        "import pandas as pd\n",
        "import numpy as np\n",
        "import tensorflow as tf\n",
        "import os\n",
        "\n",
        "# seed 값 설정\n",
        "seed = 0\n",
        "np.random.seed(seed)\n",
        "tf.random.set_seed(3)\n",
        "\n",
        "# 데이터 입력\n",
        "df_pre = pd.read_csv('/content/datasets/wine.csv', header=None)\n",
        "df = df_pre.sample(frac=1) # frac=1은 원본 데이터를 랜덤으로 100% 불러오라는 의미\n",
        "dataset = df.values\n",
        "\n",
        "# X, Y 설정\n",
        "X = dataset[:, 0:12]\n",
        "Y = dataset[:, 12]\n",
        "\n",
        "# 모델 설정\n",
        "model = Sequential()\n",
        "model.add(Dense(30, input_dim=12, activation='relu'))\n",
        "model.add(Dense(12, activation='relu'))\n",
        "model.add(Dense(8, activation='relu'))\n",
        "model.add(Dense(1, activation='sigmoid'))\n",
        "\n",
        "# 모델 컴파일\n",
        "model.compile(loss='binary_crossentropy', optimizer='adam', metrics=['accuracy'])\n",
        "\n",
        "# 모델 저장 폴더 설정\n",
        "model_dir = '/content/model/'\n",
        "if not os.path.exists(model_dir):\n",
        "    os.mkdir(model_dir)\n",
        "\n",
        "# 모델 저장 조건 설정\n",
        "modelpath = \"/content/model/{epoch:02d}-{val_loss:.4f}.hdf5\"\n",
        "checkpointer = ModelCheckpoint(filepath=modelpath, monitor='val_loss', verbose=1, save_best_only=True)\n",
        "\n",
        "# 모델 실행 및 저장\n",
        "model.fit(X, Y, validation_split=0.2, epochs=10, batch_size=200, verbose=0, callbacks=[checkpointer])"
      ],
      "execution_count": 29,
      "outputs": [
        {
          "output_type": "stream",
          "text": [
            "\n",
            "Epoch 00001: val_loss improved from inf to 1.72119, saving model to /content/model/01-1.7212.hdf5\n",
            "\n",
            "Epoch 00002: val_loss improved from 1.72119 to 0.30135, saving model to /content/model/02-0.3013.hdf5\n",
            "\n",
            "Epoch 00003: val_loss improved from 0.30135 to 0.23678, saving model to /content/model/03-0.2368.hdf5\n",
            "\n",
            "Epoch 00004: val_loss improved from 0.23678 to 0.21831, saving model to /content/model/04-0.2183.hdf5\n",
            "\n",
            "Epoch 00005: val_loss improved from 0.21831 to 0.20798, saving model to /content/model/05-0.2080.hdf5\n",
            "\n",
            "Epoch 00006: val_loss improved from 0.20798 to 0.20367, saving model to /content/model/06-0.2037.hdf5\n",
            "\n",
            "Epoch 00007: val_loss improved from 0.20367 to 0.20001, saving model to /content/model/07-0.2000.hdf5\n",
            "\n",
            "Epoch 00008: val_loss improved from 0.20001 to 0.19788, saving model to /content/model/08-0.1979.hdf5\n",
            "\n",
            "Epoch 00009: val_loss improved from 0.19788 to 0.19546, saving model to /content/model/09-0.1955.hdf5\n",
            "\n",
            "Epoch 00010: val_loss did not improve from 0.19546\n"
          ],
          "name": "stdout"
        },
        {
          "output_type": "execute_result",
          "data": {
            "text/plain": [
              "<keras.callbacks.callbacks.History at 0x7f0ce4d75a90>"
            ]
          },
          "metadata": {
            "tags": []
          },
          "execution_count": 29
        }
      ]
    },
    {
      "cell_type": "code",
      "metadata": {
        "id": "3YI17jQVi-Qz",
        "colab_type": "code",
        "colab": {
          "base_uri": "https://localhost:8080/",
          "height": 634
        },
        "outputId": "f4f98ad0-a0d9-4152-ccfe-e20759d064d0"
      },
      "source": [
        "# 모델 실행 및 저장\n",
        "history = model.fit(X, Y, validation_split=0.33, epochs=10, batch_size=500)\n",
        "\n",
        "# y_vloss에 테스트셋으로 실험 결과의 오차 값을 저장\n",
        "y_vloss = history.history['val_loss']\n",
        "\n",
        "# y_acc에 테스트셋으로 측정한 정확도의 값을 저장\n",
        "y_acc = history.history['accuracy']\n",
        "\n",
        "# x값을 지정하고 정확도를 파란색으로, 오차를 빨간색으로 표시\n",
        "x_len = np.arange(len(y_acc))\n",
        "plt.plot(x_len, y_vloss, \"o\", c='red', markersize=3)\n",
        "plt.plot(x_len, y_acc, \"o\", c='blue', markersize=3)\n",
        "\n",
        "plt.show()"
      ],
      "execution_count": 30,
      "outputs": [
        {
          "output_type": "stream",
          "text": [
            "Train on 4352 samples, validate on 2145 samples\n",
            "Epoch 1/10\n",
            "4352/4352 [==============================] - 0s 11us/step - loss: 0.1954 - accuracy: 0.9318 - val_loss: 0.1838 - val_accuracy: 0.9361\n",
            "Epoch 2/10\n",
            "4352/4352 [==============================] - 0s 10us/step - loss: 0.1948 - accuracy: 0.9304 - val_loss: 0.1829 - val_accuracy: 0.9361\n",
            "Epoch 3/10\n",
            "4352/4352 [==============================] - 0s 10us/step - loss: 0.1940 - accuracy: 0.9308 - val_loss: 0.1828 - val_accuracy: 0.9352\n",
            "Epoch 4/10\n",
            "4352/4352 [==============================] - 0s 10us/step - loss: 0.1933 - accuracy: 0.9313 - val_loss: 0.1822 - val_accuracy: 0.9361\n",
            "Epoch 5/10\n",
            "4352/4352 [==============================] - 0s 9us/step - loss: 0.1927 - accuracy: 0.9311 - val_loss: 0.1818 - val_accuracy: 0.9361\n",
            "Epoch 6/10\n",
            "4352/4352 [==============================] - 0s 10us/step - loss: 0.1920 - accuracy: 0.9320 - val_loss: 0.1816 - val_accuracy: 0.9352\n",
            "Epoch 7/10\n",
            "4352/4352 [==============================] - 0s 10us/step - loss: 0.1914 - accuracy: 0.9315 - val_loss: 0.1806 - val_accuracy: 0.9361\n",
            "Epoch 8/10\n",
            "4352/4352 [==============================] - 0s 9us/step - loss: 0.1909 - accuracy: 0.9320 - val_loss: 0.1809 - val_accuracy: 0.9361\n",
            "Epoch 9/10\n",
            "4352/4352 [==============================] - 0s 10us/step - loss: 0.1903 - accuracy: 0.9324 - val_loss: 0.1800 - val_accuracy: 0.9371\n",
            "Epoch 10/10\n",
            "4352/4352 [==============================] - 0s 10us/step - loss: 0.1897 - accuracy: 0.9320 - val_loss: 0.1794 - val_accuracy: 0.9371\n"
          ],
          "name": "stdout"
        },
        {
          "output_type": "display_data",
          "data": {
            "image/png": "[encoded data removed]",
            "text/plain": [
              "<Figure size 432x288 with 1 Axes>"
            ]
          },
          "metadata": {
            "tags": [],
            "needs_background": "light"
          }
        }
      ]
    },
    {
      "cell_type": "markdown",
      "metadata": {
        "id": "b9eHJbQ3oNEY",
        "colab_type": "text"
      },
      "source": [
        "# **15장 선형 회귀 적용하기**"
      ]
    },
    {
      "cell_type": "code",
      "metadata": {
        "id": "1rXz6o-ekrhV",
        "colab_type": "code",
        "colab": {
          "base_uri": "https://localhost:8080/",
          "height": 897
        },
        "outputId": "f72d6b3b-0468-44e7-9e7b-5c9380fc510b"
      },
      "source": [
        "# 보스턴 집값 예측하기\n",
        "from keras.models import Sequential\n",
        "from keras.layers import Dense\n",
        "from sklearn.model_selection import train_test_split\n",
        "\n",
        "import numpy as np\n",
        "import pandas as pd\n",
        "import tensorflow as tf\n",
        "\n",
        "# seed값 설정하기\n",
        "seed = 0\n",
        "np.random.seed(seed)\n",
        "tf.random.set_seed(3)\n",
        "\n",
        "# 데이터 불러오기\n",
        "df = pd.read_csv('/content/datasets/housing.csv', delim_whitespace=True, header=None)\n",
        "dataset = df.values\n",
        "\n",
        "# X, Y 값 설정\n",
        "X = dataset[:, 0:13]\n",
        "Y = dataset[:, 13]\n",
        "\n",
        "# train_set, test_set 구분하기\n",
        "X_train, X_test, Y_train, Y_test = train_test_split(X, Y, test_size=0.3, random_state=seed)\n",
        "\n",
        "# 모델링\n",
        "model = Sequential()\n",
        "model.add(Dense(30, input_dim=13, activation='relu'))\n",
        "model.add(Dense(6, activation='relu'))\n",
        "model.add(Dense(1))\n",
        "\n",
        "# 모델 컴파일\n",
        "model.compile(loss='mean_squared_error', optimizer='adam')\n",
        "\n",
        "# 모델 피팅\n",
        "model.fit(X_train, Y_train, epochs=20, batch_size=10)\n",
        "\n",
        "# 예측 값과 실제 값 비교\n",
        "Y_prediction = model.predict(X_test).flatten()\n",
        "for i in range(10):\n",
        "    label = Y_test[i]\n",
        "    prediction = Y_prediction[i]\n",
        "    print(\"실제가격 : {:.3f}, 예상가격 : {:.3f}\".format(label, prediction))"
      ],
      "execution_count": 31,
      "outputs": [
        {
          "output_type": "stream",
          "text": [
            "Epoch 1/20\n",
            "354/354 [==============================] - 0s 495us/step - loss: 1788.5214\n",
            "Epoch 2/20\n",
            "354/354 [==============================] - 0s 261us/step - loss: 197.8171\n",
            "Epoch 3/20\n",
            "354/354 [==============================] - 0s 248us/step - loss: 113.0738\n",
            "Epoch 4/20\n",
            "354/354 [==============================] - 0s 253us/step - loss: 82.6328\n",
            "Epoch 5/20\n",
            "354/354 [==============================] - 0s 270us/step - loss: 68.4429\n",
            "Epoch 6/20\n",
            "354/354 [==============================] - 0s 253us/step - loss: 63.6600\n",
            "Epoch 7/20\n",
            "354/354 [==============================] - 0s 254us/step - loss: 58.5631\n",
            "Epoch 8/20\n",
            "354/354 [==============================] - 0s 255us/step - loss: 57.7878\n",
            "Epoch 9/20\n",
            "354/354 [==============================] - 0s 260us/step - loss: 55.6108\n",
            "Epoch 10/20\n",
            "354/354 [==============================] - 0s 254us/step - loss: 54.5901\n",
            "Epoch 11/20\n",
            "354/354 [==============================] - 0s 280us/step - loss: 52.8477\n",
            "Epoch 12/20\n",
            "354/354 [==============================] - 0s 264us/step - loss: 52.6377\n",
            "Epoch 13/20\n",
            "354/354 [==============================] - 0s 279us/step - loss: 54.4503\n",
            "Epoch 14/20\n",
            "354/354 [==============================] - 0s 248us/step - loss: 51.5048\n",
            "Epoch 15/20\n",
            "354/354 [==============================] - 0s 268us/step - loss: 52.0155\n",
            "Epoch 16/20\n",
            "354/354 [==============================] - 0s 264us/step - loss: 49.4036\n",
            "Epoch 17/20\n",
            "354/354 [==============================] - 0s 257us/step - loss: 50.5229\n",
            "Epoch 18/20\n",
            "354/354 [==============================] - 0s 254us/step - loss: 50.8321\n",
            "Epoch 19/20\n",
            "354/354 [==============================] - 0s 253us/step - loss: 48.8544\n",
            "Epoch 20/20\n",
            "354/354 [==============================] - 0s 278us/step - loss: 47.6059\n",
            "실제가격 : 22.600, 예상가격 : 23.381\n",
            "실제가격 : 50.000, 예상가격 : 20.397\n",
            "실제가격 : 23.000, 예상가격 : 25.324\n",
            "실제가격 : 8.300, 예상가격 : 17.517\n",
            "실제가격 : 21.200, 예상가격 : 21.761\n",
            "실제가격 : 19.900, 예상가격 : 23.422\n",
            "실제가격 : 20.600, 예상가격 : 25.409\n",
            "실제가격 : 18.700, 예상가격 : 25.979\n",
            "실제가격 : 16.100, 예상가격 : 17.713\n",
            "실제가격 : 18.600, 예상가격 : 7.761\n"
          ],
          "name": "stdout"
        }
      ]
    },
    {
      "cell_type": "markdown",
      "metadata": {
        "id": "JCtyjLhVwrR8",
        "colab_type": "text"
      },
      "source": [
        "# **16장 CNN 익히기**"
      ]
    },
    {
      "cell_type": "markdown",
      "metadata": {
        "id": "U5nmOgIE4Kt6",
        "colab_type": "text"
      },
      "source": [
        "## **딥러닝 기본 프레임 적용**"
      ]
    },
    {
      "cell_type": "code",
      "metadata": {
        "id": "niWea2Y_qBNl",
        "colab_type": "code",
        "colab": {
          "base_uri": "https://localhost:8080/",
          "height": 300
        },
        "outputId": "53a9392e-287a-450b-ccfd-792a228e2a4a"
      },
      "source": [
        "# 데이터 전처리\n",
        "from keras.models import Sequential\n",
        "from keras.layers import Dense, Dropout, Flatten, Conv2D, MaxPooling2D\n",
        "from keras.callbacks import ModelCheckpoint, EarlyStopping\n",
        "from keras.datasets import mnist\n",
        "from keras.utils import np_utils\n",
        "\n",
        "import numpy as np\n",
        "import os\n",
        "import sys\n",
        "import tensorflow as tf\n",
        "\n",
        "# seed 값 설정\n",
        "seed = 0\n",
        "np.random.seed(seed)\n",
        "tf.random.set_seed(3)\n",
        "\n",
        "# MNIST 데이터셋 불러오기\n",
        "(X_train, Y_class_train), (X_test, Y_class_test) = mnist.load_data()\n",
        "\n",
        "print(\"학습셋 이미지 개수 : {}개\".format(X_train.shape[0]))\n",
        "print(\"테스트셋 이미지 개수 : {}개\".format(X_test.shape[0]))\n",
        "\n",
        "# 그래프로 확인\n",
        "import matplotlib.pyplot as plt\n",
        "plt.imshow(X_train[0], cmap='Greys')\n",
        "plt.show()"
      ],
      "execution_count": 44,
      "outputs": [
        {
          "output_type": "stream",
          "text": [
            "학습셋 이미지 개수 : 60000개\n",
            "테스트셋 이미지 개수 : 10000개\n"
          ],
          "name": "stdout"
        },
        {
          "output_type": "display_data",
          "data": {
            "image/png": "[encoded data removed]",
            "text/plain": [
              "<Figure size 432x288 with 1 Axes>"
            ]
          },
          "metadata": {
            "tags": [],
            "needs_background": "light"
          }
        }
      ]
    },
    {
      "cell_type": "code",
      "metadata": {
        "id": "qEmCctmvz_ty",
        "colab_type": "code",
        "colab": {
          "base_uri": "https://localhost:8080/",
          "height": 530
        },
        "outputId": "1c7fdd94-5557-46ce-ba20-47c81957be56"
      },
      "source": [
        "# 확인\n",
        "for x in X_train[0]:\n",
        "    for i in x:\n",
        "        sys.stdout.write('{}\\t'.format(i))\n",
        "    sys.stdout.write('\\n')"
      ],
      "execution_count": 33,
      "outputs": [
        {
          "output_type": "stream",
          "text": [
            "0\t0\t0\t0\t0\t0\t0\t0\t0\t0\t0\t0\t0\t0\t0\t0\t0\t0\t0\t0\t0\t0\t0\t0\t0\t0\t0\t0\t\n",
            "0\t0\t0\t0\t0\t0\t0\t0\t0\t0\t0\t0\t0\t0\t0\t0\t0\t0\t0\t0\t0\t0\t0\t0\t0\t0\t0\t0\t\n",
            "0\t0\t0\t0\t0\t0\t0\t0\t0\t0\t0\t0\t0\t0\t0\t0\t0\t0\t0\t0\t0\t0\t0\t0\t0\t0\t0\t0\t\n",
            "0\t0\t0\t0\t0\t0\t0\t0\t0\t0\t0\t0\t0\t0\t0\t0\t0\t0\t0\t0\t0\t0\t0\t0\t0\t0\t0\t0\t\n",
            "0\t0\t0\t0\t0\t0\t0\t0\t0\t0\t0\t0\t0\t0\t0\t0\t0\t0\t0\t0\t0\t0\t0\t0\t0\t0\t0\t0\t\n",
            "0\t0\t0\t0\t0\t0\t0\t0\t0\t0\t0\t0\t3\t18\t18\t18\t126\t136\t175\t26\t166\t255\t247\t127\t0\t0\t0\t0\t\n",
            "0\t0\t0\t0\t0\t0\t0\t0\t30\t36\t94\t154\t170\t253\t253\t253\t253\t253\t225\t172\t253\t242\t195\t64\t0\t0\t0\t0\t\n",
            "0\t0\t0\t0\t0\t0\t0\t49\t238\t253\t253\t253\t253\t253\t253\t253\t253\t251\t93\t82\t82\t56\t39\t0\t0\t0\t0\t0\t\n",
            "0\t0\t0\t0\t0\t0\t0\t18\t219\t253\t253\t253\t253\t253\t198\t182\t247\t241\t0\t0\t0\t0\t0\t0\t0\t0\t0\t0\t\n",
            "0\t0\t0\t0\t0\t0\t0\t0\t80\t156\t107\t253\t253\t205\t11\t0\t43\t154\t0\t0\t0\t0\t0\t0\t0\t0\t0\t0\t\n",
            "0\t0\t0\t0\t0\t0\t0\t0\t0\t14\t1\t154\t253\t90\t0\t0\t0\t0\t0\t0\t0\t0\t0\t0\t0\t0\t0\t0\t\n",
            "0\t0\t0\t0\t0\t0\t0\t0\t0\t0\t0\t139\t253\t190\t2\t0\t0\t0\t0\t0\t0\t0\t0\t0\t0\t0\t0\t0\t\n",
            "0\t0\t0\t0\t0\t0\t0\t0\t0\t0\t0\t11\t190\t253\t70\t0\t0\t0\t0\t0\t0\t0\t0\t0\t0\t0\t0\t0\t\n",
            "0\t0\t0\t0\t0\t0\t0\t0\t0\t0\t0\t0\t35\t241\t225\t160\t108\t1\t0\t0\t0\t0\t0\t0\t0\t0\t0\t0\t\n",
            "0\t0\t0\t0\t0\t0\t0\t0\t0\t0\t0\t0\t0\t81\t240\t253\t253\t119\t25\t0\t0\t0\t0\t0\t0\t0\t0\t0\t\n",
            "0\t0\t0\t0\t0\t0\t0\t0\t0\t0\t0\t0\t0\t0\t45\t186\t253\t253\t150\t27\t0\t0\t0\t0\t0\t0\t0\t0\t\n",
            "0\t0\t0\t0\t0\t0\t0\t0\t0\t0\t0\t0\t0\t0\t0\t16\t93\t252\t253\t187\t0\t0\t0\t0\t0\t0\t0\t0\t\n",
            "0\t0\t0\t0\t0\t0\t0\t0\t0\t0\t0\t0\t0\t0\t0\t0\t0\t249\t253\t249\t64\t0\t0\t0\t0\t0\t0\t0\t\n",
            "0\t0\t0\t0\t0\t0\t0\t0\t0\t0\t0\t0\t0\t0\t46\t130\t183\t253\t253\t207\t2\t0\t0\t0\t0\t0\t0\t0\t\n",
            "0\t0\t0\t0\t0\t0\t0\t0\t0\t0\t0\t0\t39\t148\t229\t253\t253\t253\t250\t182\t0\t0\t0\t0\t0\t0\t0\t0\t\n",
            "0\t0\t0\t0\t0\t0\t0\t0\t0\t0\t24\t114\t221\t253\t253\t253\t253\t201\t78\t0\t0\t0\t0\t0\t0\t0\t0\t0\t\n",
            "0\t0\t0\t0\t0\t0\t0\t0\t23\t66\t213\t253\t253\t253\t253\t198\t81\t2\t0\t0\t0\t0\t0\t0\t0\t0\t0\t0\t\n",
            "0\t0\t0\t0\t0\t0\t18\t171\t219\t253\t253\t253\t253\t195\t80\t9\t0\t0\t0\t0\t0\t0\t0\t0\t0\t0\t0\t0\t\n",
            "0\t0\t0\t0\t55\t172\t226\t253\t253\t253\t253\t244\t133\t11\t0\t0\t0\t0\t0\t0\t0\t0\t0\t0\t0\t0\t0\t0\t\n",
            "0\t0\t0\t0\t136\t253\t253\t253\t212\t135\t132\t16\t0\t0\t0\t0\t0\t0\t0\t0\t0\t0\t0\t0\t0\t0\t0\t0\t\n",
            "0\t0\t0\t0\t0\t0\t0\t0\t0\t0\t0\t0\t0\t0\t0\t0\t0\t0\t0\t0\t0\t0\t0\t0\t0\t0\t0\t0\t\n",
            "0\t0\t0\t0\t0\t0\t0\t0\t0\t0\t0\t0\t0\t0\t0\t0\t0\t0\t0\t0\t0\t0\t0\t0\t0\t0\t0\t0\t\n",
            "0\t0\t0\t0\t0\t0\t0\t0\t0\t0\t0\t0\t0\t0\t0\t0\t0\t0\t0\t0\t0\t0\t0\t0\t0\t0\t0\t0\t\n"
          ],
          "name": "stdout"
        }
      ]
    },
    {
      "cell_type": "code",
      "metadata": {
        "id": "a6f7z9lH0AZk",
        "colab_type": "code",
        "colab": {}
      },
      "source": [
        "# 차원 변환 및 정규화\n",
        "X_train = X_train.reshape(X_train.shape[0], 784)\n",
        "X_train = X_train.astype('float64')\n",
        "X_train = X_train / 255\n",
        "X_test = X_test.reshape(X_test.shape[0], 784).astype('float64') / 255"
      ],
      "execution_count": 34,
      "outputs": []
    },
    {
      "cell_type": "code",
      "metadata": {
        "id": "ONka-wv7y3j-",
        "colab_type": "code",
        "colab": {
          "base_uri": "https://localhost:8080/",
          "height": 52
        },
        "outputId": "60c010bb-de42-4b98-a06c-0c93ece996a5"
      },
      "source": [
        "# 클래스 바이너리 화\n",
        "print(\"class : {}\".format(Y_class_train[0]))\n",
        "\n",
        "# 바이너리화 과정\n",
        "Y_train = np_utils.to_categorical(Y_class_train, 10)\n",
        "Y_test = np_utils.to_categorical(Y_class_test, 10)\n",
        "\n",
        "print(Y_train[0])"
      ],
      "execution_count": 35,
      "outputs": [
        {
          "output_type": "stream",
          "text": [
            "class : 5\n",
            "[0. 0. 0. 0. 0. 1. 0. 0. 0. 0.]\n"
          ],
          "name": "stdout"
        }
      ]
    },
    {
      "cell_type": "code",
      "metadata": {
        "id": "xqo_TsHm0Obh",
        "colab_type": "code",
        "colab": {}
      },
      "source": [
        "# 모델링\n",
        "model = Sequential()\n",
        "model.add(Dense(512, input_dim=784, activation='relu'))\n",
        "model.add(Dense(10, activation='softmax'))\n",
        "\n",
        "# 모델 컴파일\n",
        "model.compile(loss='categorical_crossentropy', optimizer='adam', metrics=['accuracy'])"
      ],
      "execution_count": 36,
      "outputs": []
    },
    {
      "cell_type": "code",
      "metadata": {
        "id": "t-PbRV8U0uKc",
        "colab_type": "code",
        "colab": {}
      },
      "source": [
        "# 모델 저장 경로\n",
        "model_dir = '/content/model'\n",
        "if not os.path.exists(model_dir):\n",
        "    os.mkdir(model_dir)\n",
        "\n",
        "modelpath = '/content/model/{epoch:02d}-{val_loss:4f}.hdf5'\n",
        "checkpointer = ModelCheckpoint(filepath=modelpath, monitor='val_loss', verbose=1, save_best_only=True)\n",
        "\n",
        "# 조기 종료\n",
        "early_stopping_callback = EarlyStopping(monitor='val_loss', patience=10)"
      ],
      "execution_count": 37,
      "outputs": []
    },
    {
      "cell_type": "code",
      "metadata": {
        "id": "8Qihjr851fNK",
        "colab_type": "code",
        "colab": {
          "base_uri": "https://localhost:8080/",
          "height": 422
        },
        "outputId": "0f954741-4127-44f9-9398-982da8c2c32c"
      },
      "source": [
        "# 모델 피팅\n",
        "history = model.fit(X_train, Y_train, validation_data=(X_test, Y_test), epochs=10, batch_size=200, verbose=0, callbacks=[early_stopping_callback, checkpointer])\n",
        "\n",
        "# 테스트 정확도 출력\n",
        "print('\\n Test Accuracy : {:.4f}'.format(model.evaluate(X_test, Y_test)[1]))"
      ],
      "execution_count": 38,
      "outputs": [
        {
          "output_type": "stream",
          "text": [
            "\n",
            "Epoch 00001: val_loss improved from inf to 0.15443, saving model to /content/model/01-0.154427.hdf5\n",
            "\n",
            "Epoch 00002: val_loss improved from 0.15443 to 0.10450, saving model to /content/model/02-0.104503.hdf5\n",
            "\n",
            "Epoch 00003: val_loss improved from 0.10450 to 0.08548, saving model to /content/model/03-0.085483.hdf5\n",
            "\n",
            "Epoch 00004: val_loss improved from 0.08548 to 0.07768, saving model to /content/model/04-0.077677.hdf5\n",
            "\n",
            "Epoch 00005: val_loss improved from 0.07768 to 0.06882, saving model to /content/model/05-0.068823.hdf5\n",
            "\n",
            "Epoch 00006: val_loss improved from 0.06882 to 0.06197, saving model to /content/model/06-0.061966.hdf5\n",
            "\n",
            "Epoch 00007: val_loss did not improve from 0.06197\n",
            "\n",
            "Epoch 00008: val_loss improved from 0.06197 to 0.05988, saving model to /content/model/08-0.059876.hdf5\n",
            "\n",
            "Epoch 00009: val_loss improved from 0.05988 to 0.05738, saving model to /content/model/09-0.057379.hdf5\n",
            "\n",
            "Epoch 00010: val_loss did not improve from 0.05738\n",
            "10000/10000 [==============================] - 1s 54us/step\n",
            "\n",
            " Test Accuracy : 0.9801\n"
          ],
          "name": "stdout"
        }
      ]
    },
    {
      "cell_type": "code",
      "metadata": {
        "id": "PxFWKaO61u29",
        "colab_type": "code",
        "colab": {
          "base_uri": "https://localhost:8080/",
          "height": 279
        },
        "outputId": "74c2f636-2c86-4ec3-e136-51090cdcb838"
      },
      "source": [
        "# testset 오차\n",
        "y_vloss = history.history['val_loss']\n",
        "\n",
        "# trainset 오차\n",
        "y_loss = history.history['loss']\n",
        "\n",
        "# 그래프로 표현\n",
        "x_len = np.arange(len(y_loss))\n",
        "plt.plot(x_len, y_vloss, marker='.', c='red', label='Testset_loss')\n",
        "plt.plot(x_len, y_loss, marker='.', c='blue', label='Trainset_loss')\n",
        "\n",
        "# 그래프 레이블 표시\n",
        "plt.legend(loc='upper right')\n",
        "plt.grid()\n",
        "plt.xlabel('epoch')\n",
        "plt.ylabel('loss')\n",
        "plt.show()"
      ],
      "execution_count": 39,
      "outputs": [
        {
          "output_type": "display_data",
          "data": {
            "image/png": "[encoded data removed]",
            "text/plain": [
              "<Figure size 432x288 with 1 Axes>"
            ]
          },
          "metadata": {
            "tags": [],
            "needs_background": "light"
          }
        }
      ]
    },
    {
      "cell_type": "markdown",
      "metadata": {
        "id": "d29P3Hdo4Pls",
        "colab_type": "text"
      },
      "source": [
        "## **CNN 적용**"
      ]
    },
    {
      "cell_type": "code",
      "metadata": {
        "id": "ruNZvavF3D5v",
        "colab_type": "code",
        "colab": {
          "base_uri": "https://localhost:8080/",
          "height": 34
        },
        "outputId": "976692a6-ff28-4c1e-f7a9-812df1d1105e"
      },
      "source": [
        "from keras.datasets import mnist\n",
        "from keras.utils import np_utils\n",
        "from keras.models import Sequential\n",
        "from keras.layers import Dense, Dropout, Flatten, Conv2D, MaxPooling2D\n",
        "from keras.callbacks import ModelCheckpoint, EarlyStopping\n",
        "\n",
        "import numpy as np\n",
        "import os\n",
        "import tensorflow as tf\n",
        "\n",
        "# seed 값 설정\n",
        "seed = 0\n",
        "np.random.seed(seed)\n",
        "tf.random.set_seed(3)\n",
        "\n",
        "# MNist 데이터 불러오기\n",
        "(X_train, Y_train), (X_test, Y_test) = mnist.load_data()\n",
        "X_train = X_train.reshape(X_train.shape[0], 28, 28, 1).astype('float32') / 255\n",
        "X_test = X_test.reshape(X_test.shape[0], 28, 28, 1).astype('float32') / 255\n",
        "Y_train = np_utils.to_categorical(Y_train)\n",
        "Y_test = np_utils.to_categorical(Y_test)\n",
        "\n",
        "X_train.shape, Y_train.shape"
      ],
      "execution_count": 47,
      "outputs": [
        {
          "output_type": "execute_result",
          "data": {
            "text/plain": [
              "((60000, 28, 28, 1), (60000, 10))"
            ]
          },
          "metadata": {
            "tags": []
          },
          "execution_count": 47
        }
      ]
    },
    {
      "cell_type": "code",
      "metadata": {
        "id": "bemRCJLl4x_S",
        "colab_type": "code",
        "colab": {}
      },
      "source": [
        "# 모델링\n",
        "model = Sequential()\n",
        "model.add(Conv2D(32, kernel_size=(3, 3), input_shape=(28, 28, 1), activation='relu'))\n",
        "model.add(Conv2D(64, (3,3), activation='relu'))\n",
        "model.add(MaxPooling2D(pool_size=2))\n",
        "model.add(Dropout(0.25))\n",
        "\n",
        "model.add(Flatten())\n",
        "model.add(Dense(128, activation='relu'))\n",
        "model.add(Dropout(0.5))\n",
        "\n",
        "model.add(Dense(10, activation='softmax'))"
      ],
      "execution_count": 48,
      "outputs": []
    },
    {
      "cell_type": "code",
      "metadata": {
        "id": "lA3ThdSR5Xr1",
        "colab_type": "code",
        "colab": {}
      },
      "source": [
        "# 모델 컴파일\n",
        "model.compile(loss='categorical_crossentropy', optimizer='adam', metrics=['accuracy'])"
      ],
      "execution_count": 49,
      "outputs": []
    },
    {
      "cell_type": "code",
      "metadata": {
        "id": "SBT8wa_S5gC4",
        "colab_type": "code",
        "colab": {
          "base_uri": "https://localhost:8080/",
          "height": 774
        },
        "outputId": "31510d0b-6f58-4eb5-90a7-b999a0eb259e"
      },
      "source": [
        "# 모델 저장 경로\n",
        "model_dir = '/content/model'\n",
        "if not os.path.exists(model_dir):\n",
        "    os.mkdir(model_dir)\n",
        "\n",
        "modelpath = '/content/model/{epoch:02d}-{val_loss:.4f}.hdf5'\n",
        "checkpointer = ModelCheckpoint(filepath=modelpath, monitor='val_loss', verbose=1, save_best_only=True)\n",
        "\n",
        "# 조기 종료\n",
        "early_stopping_callback = EarlyStopping(monitor='val_loss', patience=10)\n",
        "\n",
        "# 모델 피팅\n",
        "history = model.fit(X_train, Y_train, validation_data=(X_test, Y_test), epochs=20, batch_size=200, verbose=0, callbacks=[early_stopping_callback, checkpointer])\n",
        "\n",
        "# 테스트 정확도 출력\n",
        "print(\"\\n Test Accuracy : {:.4f}\".format(model.evaluate(X_test, Y_test)[1]))"
      ],
      "execution_count": 50,
      "outputs": [
        {
          "output_type": "stream",
          "text": [
            "\n",
            "Epoch 00001: val_loss improved from inf to 0.05508, saving model to /content/model/01-0.0551.hdf5\n",
            "\n",
            "Epoch 00002: val_loss improved from 0.05508 to 0.04125, saving model to /content/model/02-0.0412.hdf5\n",
            "\n",
            "Epoch 00003: val_loss improved from 0.04125 to 0.03246, saving model to /content/model/03-0.0325.hdf5\n",
            "\n",
            "Epoch 00004: val_loss did not improve from 0.03246\n",
            "\n",
            "Epoch 00005: val_loss improved from 0.03246 to 0.03218, saving model to /content/model/05-0.0322.hdf5\n",
            "\n",
            "Epoch 00006: val_loss improved from 0.03218 to 0.02823, saving model to /content/model/06-0.0282.hdf5\n",
            "\n",
            "Epoch 00007: val_loss did not improve from 0.02823\n",
            "\n",
            "Epoch 00008: val_loss did not improve from 0.02823\n",
            "\n",
            "Epoch 00009: val_loss improved from 0.02823 to 0.02709, saving model to /content/model/09-0.0271.hdf5\n",
            "\n",
            "Epoch 00010: val_loss did not improve from 0.02709\n",
            "\n",
            "Epoch 00011: val_loss did not improve from 0.02709\n",
            "\n",
            "Epoch 00012: val_loss improved from 0.02709 to 0.02595, saving model to /content/model/12-0.0259.hdf5\n",
            "\n",
            "Epoch 00013: val_loss did not improve from 0.02595\n",
            "\n",
            "Epoch 00014: val_loss did not improve from 0.02595\n",
            "\n",
            "Epoch 00015: val_loss improved from 0.02595 to 0.02548, saving model to /content/model/15-0.0255.hdf5\n",
            "\n",
            "Epoch 00016: val_loss did not improve from 0.02548\n",
            "\n",
            "Epoch 00017: val_loss did not improve from 0.02548\n",
            "\n",
            "Epoch 00018: val_loss did not improve from 0.02548\n",
            "\n",
            "Epoch 00019: val_loss did not improve from 0.02548\n",
            "\n",
            "Epoch 00020: val_loss did not improve from 0.02548\n",
            "10000/10000 [==============================] - 1s 68us/step\n",
            "\n",
            " Test Accuracy : 0.9925\n"
          ],
          "name": "stdout"
        }
      ]
    },
    {
      "cell_type": "code",
      "metadata": {
        "id": "59ONvDcb5nAs",
        "colab_type": "code",
        "colab": {
          "base_uri": "https://localhost:8080/",
          "height": 279
        },
        "outputId": "e1ea5896-13b9-4661-d485-9b84add416a1"
      },
      "source": [
        "import matplotlib.pyplot as plt\n",
        "\n",
        "# Testset의 오차\n",
        "y_vloss = history.history['val_loss']\n",
        "\n",
        "# Testset의 오차\n",
        "y_loss = history.history['loss']\n",
        "\n",
        "# 그래프로 표현\n",
        "x_len = np.arange(len(y_loss))\n",
        "plt.plot(x_len, y_vloss, marker='.', c='red', label='Testset_loss')\n",
        "plt.plot(x_len, y_loss, marker='.', c='blue', label='Trainset_loss')\n",
        "\n",
        "# 그래프에 레이블 표시\n",
        "plt.legend(loc='upper right')\n",
        "plt.grid()\n",
        "plt.xlabel('epoch')\n",
        "plt.ylabel('loss')\n",
        "plt.show()"
      ],
      "execution_count": 51,
      "outputs": [
        {
          "output_type": "display_data",
          "data": {
            "image/png": "[encoded data removed]",
            "text/plain": [
              "<Figure size 432x288 with 1 Axes>"
            ]
          },
          "metadata": {
            "tags": [],
            "needs_background": "light"
          }
        }
      ]
    },
    {
      "cell_type": "markdown",
      "metadata": {
        "id": "o0W0gkIOb1f8",
        "colab_type": "text"
      },
      "source": [
        "# **17장 딥러닝을 이용한 자연어 처리**"
      ]
    },
    {
      "cell_type": "markdown",
      "metadata": {
        "id": "0ZWIoqhqcE7f",
        "colab_type": "text"
      },
      "source": [
        "## **주어진 문장을 '단어'로 토큰화하기**"
      ]
    },
    {
      "cell_type": "code",
      "metadata": {
        "id": "Ew6WmJcf558n",
        "colab_type": "code",
        "colab": {
          "base_uri": "https://localhost:8080/",
          "height": 122
        },
        "outputId": "7fbd7ce1-21ea-426c-d454-22237bccd02b"
      },
      "source": [
        "from tensorflow.keras.preprocessing.text import text_to_word_sequence\n",
        "\n",
        "# 전처리할 텍스트\n",
        "text = \"해보지 않으면 해낼 수 없다\"\n",
        "\n",
        "# 텍스트 토큰화\n",
        "result = text_to_word_sequence(text)\n",
        "print(\"\\n원문 :\\n\", text)\n",
        "print(\"\\n토큰화 :\\n\", result)"
      ],
      "execution_count": 52,
      "outputs": [
        {
          "output_type": "stream",
          "text": [
            "\n",
            "원문 :\n",
            " 해보지 않으면 해낼 수 없다\n",
            "\n",
            "토큰화 :\n",
            " ['해보지', '않으면', '해낼', '수', '없다']\n"
          ],
          "name": "stdout"
        }
      ]
    },
    {
      "cell_type": "code",
      "metadata": {
        "id": "KXrAyafdconU",
        "colab_type": "code",
        "colab": {
          "base_uri": "https://localhost:8080/",
          "height": 230
        },
        "outputId": "261128ae-230a-4a59-b54f-fc90d23f5e48"
      },
      "source": [
        "from keras.preprocessing.text import Tokenizer\n",
        "\n",
        "# 전처리할 문장\n",
        "docs = [\"먼저 텍스트의 각 단어를 나누어 토큰화 합니다.\",\n",
        "        \"텍스트의 단어로 토큰화 해야 딥러닝에서 인식됩니다.\",\n",
        "        \"토큰화 한 결과는 딥러닝에서 사용할 수 있습니다.\"]\n",
        "\n",
        "# 전처리 과정\n",
        "token = Tokenizer()\n",
        "token.fit_on_texts(docs)\n",
        "\n",
        "# 단어 빈도수를 계산한 결과 출력\n",
        "print('\\n단어 카운트 :\\n', token.word_counts)\n",
        "print('\\n문장 카운트 :', token.document_count)\n",
        "print('\\n각 단어가 몇 개의 문장에 포함되어 있는가 :\\n', token.word_docs)\n",
        "print('\\n각 단어에 매겨진 인덱스 값:\\n', token.word_index)"
      ],
      "execution_count": 53,
      "outputs": [
        {
          "output_type": "stream",
          "text": [
            "\n",
            "단어 카운트 :\n",
            " OrderedDict([('먼저', 1), ('텍스트의', 2), ('각', 1), ('단어를', 1), ('나누어', 1), ('토큰화', 3), ('합니다', 1), ('단어로', 1), ('해야', 1), ('딥러닝에서', 2), ('인식됩니다', 1), ('한', 1), ('결과는', 1), ('사용할', 1), ('수', 1), ('있습니다', 1)])\n",
            "\n",
            "문장 카운트 : 3\n",
            "\n",
            "각 단어가 몇 개의 문장에 포함되어 있는가 :\n",
            " defaultdict(<class 'int'>, {'단어를': 1, '토큰화': 3, '각': 1, '나누어': 1, '합니다': 1, '텍스트의': 2, '먼저': 1, '해야': 1, '단어로': 1, '인식됩니다': 1, '딥러닝에서': 2, '있습니다': 1, '한': 1, '사용할': 1, '수': 1, '결과는': 1})\n",
            "\n",
            "각 단어에 매겨진 인덱스 값:\n",
            " {'토큰화': 1, '텍스트의': 2, '딥러닝에서': 3, '먼저': 4, '각': 5, '단어를': 6, '나누어': 7, '합니다': 8, '단어로': 9, '해야': 10, '인식됩니다': 11, '한': 12, '결과는': 13, '사용할': 14, '수': 15, '있습니다': 16}\n"
          ],
          "name": "stdout"
        }
      ]
    },
    {
      "cell_type": "markdown",
      "metadata": {
        "id": "wpHZOlGtfxNi",
        "colab_type": "text"
      },
      "source": [
        "## **영화 리뷰가 긍정적인지 부정적인지 예측하기**"
      ]
    },
    {
      "cell_type": "code",
      "metadata": {
        "id": "dpJMikFqdyUQ",
        "colab_type": "code",
        "colab": {
          "base_uri": "https://localhost:8080/",
          "height": 54
        },
        "outputId": "c6a67714-7b54-4d3a-dc94-f85bf2bce32b"
      },
      "source": [
        "from numpy import array\n",
        "from tensorflow.keras.preprocessing.text import Tokenizer, text_to_word_sequence\n",
        "from tensorflow.keras.preprocessing.sequence import pad_sequences\n",
        "from tensorflow.keras.models import Sequential\n",
        "from tensorflow.keras.layers import Dense, Flatten, Embedding\n",
        "\n",
        "import numpy as np\n",
        "import tensorflow as tf\n",
        "\n",
        "# 텍스트 리뷰 자료 지정\n",
        "docs = ['너무 재밌네요', '최고에요', '참 잘 만든 영화에요', '추천하고 싶은 영화입니다', '한번 더 보고싶네요', '글쎄요', '별로에요', '생각보다 지루하네요',\n",
        "        '연기가 어색해요', '재미없어요']\n",
        "\n",
        "# 긍정 리뷰는 1, 부정 리뷰는 0으로 클래스 지정\n",
        "classes = array([1, 1, 1, 1, 1, 0, 0, 0, 0, 0])\n",
        "\n",
        "# 토큰화\n",
        "token = Tokenizer()\n",
        "token.fit_on_texts(docs)\n",
        "print(token.word_index)"
      ],
      "execution_count": 54,
      "outputs": [
        {
          "output_type": "stream",
          "text": [
            "{'너무': 1, '재밌네요': 2, '최고에요': 3, '참': 4, '잘': 5, '만든': 6, '영화에요': 7, '추천하고': 8, '싶은': 9, '영화입니다': 10, '한번': 11, '더': 12, '보고싶네요': 13, '글쎄요': 14, '별로에요': 15, '생각보다': 16, '지루하네요': 17, '연기가': 18, '어색해요': 19, '재미없어요': 20}\n"
          ],
          "name": "stdout"
        }
      ]
    },
    {
      "cell_type": "code",
      "metadata": {
        "id": "Fg9oc_Bygq36",
        "colab_type": "code",
        "colab": {
          "base_uri": "https://localhost:8080/",
          "height": 228
        },
        "outputId": "b3a1ca51-cebb-4268-e9c6-aec01b2bb010"
      },
      "source": [
        "# 서로 다른 길이의 데이터를 4로 맞춤\n",
        "x = token.texts_to_sequences(docs)\n",
        "padded_x = pad_sequences(x, 4)\n",
        "print(\"\\n패딩 결과 :\\n\", padded_x)"
      ],
      "execution_count": 55,
      "outputs": [
        {
          "output_type": "stream",
          "text": [
            "\n",
            "패딩 결과 :\n",
            " [[ 0  0  1  2]\n",
            " [ 0  0  0  3]\n",
            " [ 4  5  6  7]\n",
            " [ 0  8  9 10]\n",
            " [ 0 11 12 13]\n",
            " [ 0  0  0 14]\n",
            " [ 0  0  0 15]\n",
            " [ 0  0 16 17]\n",
            " [ 0  0 18 19]\n",
            " [ 0  0  0 20]]\n"
          ],
          "name": "stdout"
        }
      ]
    },
    {
      "cell_type": "code",
      "metadata": {
        "id": "yoYBnFmjg_3X",
        "colab_type": "code",
        "colab": {}
      },
      "source": [
        "# 임베딩에 입력될 단어 개수 지정\n",
        "word_size = len(token.word_index) + 1\n",
        "\n",
        "# 모델링\n",
        "model = Sequential()\n",
        "model.add(Embedding(word_size, 8, input_length=4))\n",
        "model.add(Flatten())\n",
        "model.add(Dense(1, activation='sigmoid'))\n",
        "\n",
        "# 모델 컴파일\n",
        "model.compile(optimizer='adam', loss='binary_crossentropy', metrics=['accuracy'])"
      ],
      "execution_count": 56,
      "outputs": []
    },
    {
      "cell_type": "code",
      "metadata": {
        "id": "kPhyBazQh7Yj",
        "colab_type": "code",
        "colab": {
          "base_uri": "https://localhost:8080/",
          "height": 738
        },
        "outputId": "4c744323-413f-44bb-fa8b-f35f18fbf0b2"
      },
      "source": [
        "# 모델 피팅\n",
        "model.fit(padded_x, classes, epochs=20)"
      ],
      "execution_count": 57,
      "outputs": [
        {
          "output_type": "stream",
          "text": [
            "Epoch 1/20\n",
            "1/1 [==============================] - 0s 1ms/step - loss: 0.6974 - accuracy: 0.3000\n",
            "Epoch 2/20\n",
            "1/1 [==============================] - 0s 1ms/step - loss: 0.6958 - accuracy: 0.4000\n",
            "Epoch 3/20\n",
            "1/1 [==============================] - 0s 3ms/step - loss: 0.6941 - accuracy: 0.4000\n",
            "Epoch 4/20\n",
            "1/1 [==============================] - 0s 843us/step - loss: 0.6924 - accuracy: 0.5000\n",
            "Epoch 5/20\n",
            "1/1 [==============================] - 0s 1ms/step - loss: 0.6908 - accuracy: 0.6000\n",
            "Epoch 6/20\n",
            "1/1 [==============================] - 0s 1ms/step - loss: 0.6891 - accuracy: 0.8000\n",
            "Epoch 7/20\n",
            "1/1 [==============================] - 0s 1ms/step - loss: 0.6874 - accuracy: 0.8000\n",
            "Epoch 8/20\n",
            "1/1 [==============================] - 0s 888us/step - loss: 0.6858 - accuracy: 0.8000\n",
            "Epoch 9/20\n",
            "1/1 [==============================] - 0s 2ms/step - loss: 0.6841 - accuracy: 0.8000\n",
            "Epoch 10/20\n",
            "1/1 [==============================] - 0s 913us/step - loss: 0.6824 - accuracy: 0.8000\n",
            "Epoch 11/20\n",
            "1/1 [==============================] - 0s 976us/step - loss: 0.6807 - accuracy: 0.9000\n",
            "Epoch 12/20\n",
            "1/1 [==============================] - 0s 720us/step - loss: 0.6791 - accuracy: 0.9000\n",
            "Epoch 13/20\n",
            "1/1 [==============================] - 0s 801us/step - loss: 0.6774 - accuracy: 0.9000\n",
            "Epoch 14/20\n",
            "1/1 [==============================] - 0s 950us/step - loss: 0.6757 - accuracy: 0.9000\n",
            "Epoch 15/20\n",
            "1/1 [==============================] - 0s 1ms/step - loss: 0.6740 - accuracy: 0.9000\n",
            "Epoch 16/20\n",
            "1/1 [==============================] - 0s 784us/step - loss: 0.6723 - accuracy: 0.9000\n",
            "Epoch 17/20\n",
            "1/1 [==============================] - 0s 858us/step - loss: 0.6706 - accuracy: 0.9000\n",
            "Epoch 18/20\n",
            "1/1 [==============================] - 0s 1ms/step - loss: 0.6689 - accuracy: 0.9000\n",
            "Epoch 19/20\n",
            "1/1 [==============================] - 0s 794us/step - loss: 0.6671 - accuracy: 0.9000\n",
            "Epoch 20/20\n",
            "1/1 [==============================] - 0s 819us/step - loss: 0.6654 - accuracy: 0.9000\n"
          ],
          "name": "stdout"
        },
        {
          "output_type": "execute_result",
          "data": {
            "text/plain": [
              "<tensorflow.python.keras.callbacks.History at 0x7f0ce5412630>"
            ]
          },
          "metadata": {
            "tags": []
          },
          "execution_count": 57
        }
      ]
    },
    {
      "cell_type": "code",
      "metadata": {
        "id": "iUxt6ivBh725",
        "colab_type": "code",
        "colab": {
          "base_uri": "https://localhost:8080/",
          "height": 70
        },
        "outputId": "77fde7d1-2ab8-4384-ab6e-2badb405ed64"
      },
      "source": [
        "# 결과\n",
        "print(\"\\n Accuracy : {:.4f}\".format(model.evaluate(padded_x, classes)[1]))"
      ],
      "execution_count": 58,
      "outputs": [
        {
          "output_type": "stream",
          "text": [
            "1/1 [==============================] - 0s 931us/step - loss: 0.6636 - accuracy: 0.9000\n",
            "\n",
            " Accuracy : 0.9000\n"
          ],
          "name": "stdout"
        }
      ]
    },
    {
      "cell_type": "markdown",
      "metadata": {
        "id": "wRfDglA_lPCo",
        "colab_type": "text"
      },
      "source": [
        "# **18장 시퀀스 배열로 다루는 순환 신경망(RNN)**"
      ]
    },
    {
      "cell_type": "markdown",
      "metadata": {
        "id": "6sYD9X-DlWA2",
        "colab_type": "text"
      },
      "source": [
        "## **LSTM을 이용해 로이터 뉴스 카테고리 분석**"
      ]
    },
    {
      "cell_type": "code",
      "metadata": {
        "id": "IFl0OgtRjrBm",
        "colab_type": "code",
        "colab": {
          "base_uri": "https://localhost:8080/",
          "height": 107
        },
        "outputId": "e3a4ed7f-0e6d-43cd-98ec-3460ab9fc9d7"
      },
      "source": [
        "from keras.datasets import reuters\n",
        "from keras.models import Sequential\n",
        "from keras.layers import Dense, LSTM, Embedding\n",
        "from keras.preprocessing import sequence\n",
        "from keras.utils import np_utils\n",
        "\n",
        "import numpy as np\n",
        "import tensorflow as tf\n",
        "import matplotlib.pyplot as plt\n",
        "\n",
        "# seed 값 설정\n",
        "seed = 0\n",
        "np.random.seed(seed)\n",
        "tf.random.set_seed(3)\n",
        "\n",
        "# Testset, Trainset 나누기\n",
        "(X_train, Y_train), (X_test, Y_test) = reuters.load_data(num_words=1000, test_split=0.2)\n",
        "\n",
        "# 데이터 확인\n",
        "category = np.max(Y_train) + 1\n",
        "print(category, '카테고리')\n",
        "print(len(X_train), '학습용 뉴스 기사')\n",
        "print(len(X_test), '테스트용 뉴스 기사')\n",
        "print(X_train[0])"
      ],
      "execution_count": 59,
      "outputs": [
        {
          "output_type": "stream",
          "text": [
            "46 카테고리\n",
            "8982 학습용 뉴스 기사\n",
            "2246 테스트용 뉴스 기사\n",
            "[1, 2, 2, 8, 43, 10, 447, 5, 25, 207, 270, 5, 2, 111, 16, 369, 186, 90, 67, 7, 89, 5, 19, 102, 6, 19, 124, 15, 90, 67, 84, 22, 482, 26, 7, 48, 4, 49, 8, 864, 39, 209, 154, 6, 151, 6, 83, 11, 15, 22, 155, 11, 15, 7, 48, 9, 2, 2, 504, 6, 258, 6, 272, 11, 15, 22, 134, 44, 11, 15, 16, 8, 197, 2, 90, 67, 52, 29, 209, 30, 32, 132, 6, 109, 15, 17, 12]\n"
          ],
          "name": "stdout"
        }
      ]
    },
    {
      "cell_type": "code",
      "metadata": {
        "id": "lSdb1KKqmKhY",
        "colab_type": "code",
        "colab": {}
      },
      "source": [
        "# 데이터 전처리\n",
        "x_train = sequence.pad_sequences(X_train, maxlen=100)\n",
        "x_test = sequence.pad_sequences(X_test, maxlen=100)\n",
        "y_train = np_utils.to_categorical(Y_train)\n",
        "y_test = np_utils.to_categorical(Y_test)"
      ],
      "execution_count": 60,
      "outputs": []
    },
    {
      "cell_type": "code",
      "metadata": {
        "id": "A1ocLjsYmjed",
        "colab_type": "code",
        "colab": {}
      },
      "source": [
        "# 모델링\n",
        "model = Sequential()\n",
        "model.add(Embedding(1000, 100))\n",
        "model.add(LSTM(100, activation='relu'))\n",
        "model.add(Dense(46, activation='softmax'))\n",
        "\n",
        "# 모델 컴파일\n",
        "model.compile(loss='categorical_crossentropy', optimizer='adam', metrics=['accuracy'])"
      ],
      "execution_count": 61,
      "outputs": []
    },
    {
      "cell_type": "code",
      "metadata": {
        "id": "iYU2VT19m3dv",
        "colab_type": "code",
        "colab": {
          "base_uri": "https://localhost:8080/",
          "height": 846
        },
        "outputId": "a9072337-2ef4-42b7-a840-5fa695002eb4"
      },
      "source": [
        "# 모델 피팅\n",
        "history = model.fit(x_train, y_train, batch_size=100, epochs=20, validation_data=(x_test, y_test))\n",
        "\n",
        "# 테스트 정확도 출력\n",
        "print(\"\\n Test Accuracy : {:.4f}\".format(model.evaluate(x_test, y_test)[1]))"
      ],
      "execution_count": 62,
      "outputs": [
        {
          "output_type": "stream",
          "text": [
            "/usr/local/lib/python3.6/dist-packages/tensorflow/python/framework/indexed_slices.py:434: UserWarning: Converting sparse IndexedSlices to a dense Tensor of unknown shape. This may consume a large amount of memory.\n",
            "  \"Converting sparse IndexedSlices to a dense Tensor of unknown shape. \"\n"
          ],
          "name": "stderr"
        },
        {
          "output_type": "stream",
          "text": [
            "Train on 8982 samples, validate on 2246 samples\n",
            "Epoch 1/20\n",
            "8982/8982 [==============================] - 16s 2ms/step - loss: 72.7510 - accuracy: 0.3488 - val_loss: 3.4048 - val_accuracy: 0.3620\n",
            "Epoch 2/20\n",
            "8982/8982 [==============================] - 16s 2ms/step - loss: 209.7728 - accuracy: 0.3517 - val_loss: 2.9049 - val_accuracy: 0.3620\n",
            "Epoch 3/20\n",
            "8982/8982 [==============================] - 16s 2ms/step - loss: 3.2506 - accuracy: 0.3516 - val_loss: 2.5980 - val_accuracy: 0.3620\n",
            "Epoch 4/20\n",
            "8982/8982 [==============================] - 16s 2ms/step - loss: 2.4972 - accuracy: 0.3517 - val_loss: 2.4113 - val_accuracy: 0.3620\n",
            "Epoch 5/20\n",
            "8982/8982 [==============================] - 16s 2ms/step - loss: 2.3489 - accuracy: 0.3517 - val_loss: 163.0830 - val_accuracy: 0.3615\n",
            "Epoch 6/20\n",
            "8982/8982 [==============================] - 16s 2ms/step - loss: 4.2427 - accuracy: 0.3516 - val_loss: 5340.9047 - val_accuracy: 0.3620\n",
            "Epoch 7/20\n",
            "8982/8982 [==============================] - 16s 2ms/step - loss: 2758.3483 - accuracy: 0.3525 - val_loss: 2.4361 - val_accuracy: 0.3620\n",
            "Epoch 8/20\n",
            "8982/8982 [==============================] - 16s 2ms/step - loss: 23158719.4945 - accuracy: 0.3511 - val_loss: 2.4539 - val_accuracy: 0.3620\n",
            "Epoch 9/20\n",
            "8982/8982 [==============================] - 16s 2ms/step - loss: 2.3591 - accuracy: 0.3517 - val_loss: 2.3715 - val_accuracy: 0.3620\n",
            "Epoch 10/20\n",
            "8982/8982 [==============================] - 16s 2ms/step - loss: 2.3382 - accuracy: 0.3517 - val_loss: 2.3591 - val_accuracy: 0.3624\n",
            "Epoch 11/20\n",
            "8982/8982 [==============================] - 16s 2ms/step - loss: 2.3268 - accuracy: 0.3520 - val_loss: 2.3499 - val_accuracy: 0.3624\n",
            "Epoch 12/20\n",
            "8982/8982 [==============================] - 15s 2ms/step - loss: 2.3165 - accuracy: 0.3525 - val_loss: 2.3423 - val_accuracy: 0.3624\n",
            "Epoch 13/20\n",
            "8982/8982 [==============================] - 15s 2ms/step - loss: 2.3069 - accuracy: 0.3534 - val_loss: 2.3343 - val_accuracy: 0.3633\n",
            "Epoch 14/20\n",
            "8982/8982 [==============================] - 16s 2ms/step - loss: 542.7850 - accuracy: 0.3543 - val_loss: 2.3323 - val_accuracy: 0.3638\n",
            "Epoch 15/20\n",
            "8982/8982 [==============================] - 16s 2ms/step - loss: 2.2949 - accuracy: 0.3558 - val_loss: 2.3298 - val_accuracy: 0.3638\n",
            "Epoch 16/20\n",
            "8982/8982 [==============================] - 16s 2ms/step - loss: 2.3015 - accuracy: 0.3562 - val_loss: 2.3251 - val_accuracy: 0.3651\n",
            "Epoch 17/20\n",
            "8982/8982 [==============================] - 16s 2ms/step - loss: 2.2900 - accuracy: 0.3570 - val_loss: 2.3894 - val_accuracy: 0.3655\n",
            "Epoch 18/20\n",
            "8982/8982 [==============================] - 16s 2ms/step - loss: 2.4120 - accuracy: 0.3583 - val_loss: 65.8742 - val_accuracy: 0.3646\n",
            "Epoch 19/20\n",
            "8982/8982 [==============================] - 16s 2ms/step - loss: 43.0733 - accuracy: 0.3584 - val_loss: 216626.8978 - val_accuracy: 0.3651\n",
            "Epoch 20/20\n",
            "8982/8982 [==============================] - 16s 2ms/step - loss: 1039192.5987 - accuracy: 0.3578 - val_loss: 117202.8787 - val_accuracy: 0.3624\n",
            "2246/2246 [==============================] - 1s 517us/step\n",
            "\n",
            " Test Accuracy : 0.3624\n"
          ],
          "name": "stdout"
        }
      ]
    },
    {
      "cell_type": "code",
      "metadata": {
        "id": "hklFSqM_nLQN",
        "colab_type": "code",
        "colab": {
          "base_uri": "https://localhost:8080/",
          "height": 290
        },
        "outputId": "773c00ab-5493-4b72-8e90-a9dc9ab98cf2"
      },
      "source": [
        "# Testset의 오차\n",
        "y_vloss = history.history['val_loss']\n",
        "\n",
        "# Trainset의 오차\n",
        "y_loss = history.history['loss']\n",
        "\n",
        "# 그래프로 표현\n",
        "x_len = np.arange(len(y_loss))\n",
        "plt.plot(x_len, y_vloss, marker='.', c='red', label='Testset_loss')\n",
        "plt.plot(x_len, y_loss, marker='.', c='blue', label='Trainset_loss')\n",
        "\n",
        "# 그리드 추가 및 레이블 표시\n",
        "plt.legend(loc='upper right')\n",
        "plt.grid()\n",
        "plt.xlabel('epoch')\n",
        "plt.ylabel('loss')\n",
        "plt.show()"
      ],
      "execution_count": 63,
      "outputs": [
        {
          "output_type": "display_data",
          "data": {
            "image/png": "[encoded data removed]",
            "text/plain": [
              "<Figure size 432x288 with 1 Axes>"
            ]
          },
          "metadata": {
            "tags": [],
            "needs_background": "light"
          }
        }
      ]
    },
    {
      "cell_type": "markdown",
      "metadata": {
        "id": "AEbb-nlWvkKX",
        "colab_type": "text"
      },
      "source": [
        "## **LSTM과 CNN을 조합해 영화 리뷰 분류하기**"
      ]
    },
    {
      "cell_type": "code",
      "metadata": {
        "id": "AuD9MQ-motq7",
        "colab_type": "code",
        "colab": {
          "base_uri": "https://localhost:8080/",
          "height": 122
        },
        "outputId": "2e19f8f0-8996-48ef-ce24-60fb835d760b"
      },
      "source": [
        "from keras.preprocessing import sequence\n",
        "from keras.models import Sequential\n",
        "from keras.layers import Dense, Dropout, Activation\n",
        "from keras.layers import Embedding\n",
        "from keras.layers import LSTM\n",
        "from keras.layers import Conv1D, MaxPooling1D\n",
        "from keras.datasets import imdb\n",
        "\n",
        "import numpy as np\n",
        "import tensorflow as tf\n",
        "import matplotlib.pyplot as plt\n",
        "\n",
        "# seed값 설정\n",
        "seed = 0\n",
        "np.random.seed(seed)\n",
        "tf.random.set_seed(3)\n",
        "\n",
        "# Trainset, Testset 나누기\n",
        "(X_train, Y_train), (X_test, Y_test) = imdb.load_data(num_words=5000)\n",
        "\n",
        "# 데이터 전처리\n",
        "x_train = sequence.pad_sequences(X_train, maxlen=100)\n",
        "x_test = sequence.pad_sequences(X_test, maxlen=100)\n",
        "\n",
        "x_train.shape, x_test.shape, Y_train, Y_test"
      ],
      "execution_count": 64,
      "outputs": [
        {
          "output_type": "stream",
          "text": [
            "Downloading data from https://s3.amazonaws.com/text-datasets/imdb.npz\n",
            "17465344/17464789 [==============================] - 1s 0us/step\n"
          ],
          "name": "stdout"
        },
        {
          "output_type": "execute_result",
          "data": {
            "text/plain": [
              "((25000, 100),\n",
              " (25000, 100),\n",
              " array([1, 0, 0, ..., 0, 1, 0]),\n",
              " array([0, 1, 1, ..., 0, 0, 0]))"
            ]
          },
          "metadata": {
            "tags": []
          },
          "execution_count": 64
        }
      ]
    },
    {
      "cell_type": "code",
      "metadata": {
        "id": "2FB6hG7NwZQi",
        "colab_type": "code",
        "colab": {
          "base_uri": "https://localhost:8080/",
          "height": 404
        },
        "outputId": "dd6b0b9f-d32a-477e-b6ad-4d234d71839e"
      },
      "source": [
        "# 모델링\n",
        "model = Sequential()\n",
        "model.add(Embedding(5000, 100))\n",
        "model.add(Dropout(0.5))\n",
        "\n",
        "model.add((Conv1D(64, 5, padding='valid', activation='relu', strides=1)))\n",
        "model.add(MaxPooling1D(pool_size=4))\n",
        "model.add(LSTM(55))\n",
        "model.add(Dense(1))\n",
        "model.add(Activation('sigmoid'))\n",
        "model.summary()"
      ],
      "execution_count": 65,
      "outputs": [
        {
          "output_type": "stream",
          "text": [
            "Model: \"sequential_35\"\n",
            "_________________________________________________________________\n",
            "Layer (type)                 Output Shape              Param #   \n",
            "=================================================================\n",
            "embedding_2 (Embedding)      (None, None, 100)         500000    \n",
            "_________________________________________________________________\n",
            "dropout_5 (Dropout)          (None, None, 100)         0         \n",
            "_________________________________________________________________\n",
            "conv1d_1 (Conv1D)            (None, None, 64)          32064     \n",
            "_________________________________________________________________\n",
            "max_pooling1d_1 (MaxPooling1 (None, None, 64)          0         \n",
            "_________________________________________________________________\n",
            "lstm_2 (LSTM)                (None, 55)                26400     \n",
            "_________________________________________________________________\n",
            "dense_100 (Dense)            (None, 1)                 56        \n",
            "_________________________________________________________________\n",
            "activation_1 (Activation)    (None, 1)                 0         \n",
            "=================================================================\n",
            "Total params: 558,520\n",
            "Trainable params: 558,520\n",
            "Non-trainable params: 0\n",
            "_________________________________________________________________\n"
          ],
          "name": "stdout"
        }
      ]
    },
    {
      "cell_type": "code",
      "metadata": {
        "id": "sm2QJazPxNnB",
        "colab_type": "code",
        "colab": {}
      },
      "source": [
        "# 모델 컴파일\n",
        "model.compile(loss='binary_crossentropy', optimizer='adam', metrics=['accuracy'])"
      ],
      "execution_count": 66,
      "outputs": []
    },
    {
      "cell_type": "code",
      "metadata": {
        "id": "1srpqATjxh72",
        "colab_type": "code",
        "colab": {
          "base_uri": "https://localhost:8080/",
          "height": 318
        },
        "outputId": "6028be6a-e935-4724-e23a-de97e44b9087"
      },
      "source": [
        "# 모델 피팅\n",
        "history = model.fit(x_train, Y_train, batch_size=100, epochs=5, validation_data=(x_test, Y_test))\n",
        "\n",
        "# 테스트 정확도 출력\n",
        "print(\"\\n Test Accuracy : {:.4f}\".format(model.evaluate(x_test, Y_test)[1]))"
      ],
      "execution_count": 67,
      "outputs": [
        {
          "output_type": "stream",
          "text": [
            "/usr/local/lib/python3.6/dist-packages/tensorflow/python/framework/indexed_slices.py:434: UserWarning: Converting sparse IndexedSlices to a dense Tensor of unknown shape. This may consume a large amount of memory.\n",
            "  \"Converting sparse IndexedSlices to a dense Tensor of unknown shape. \"\n"
          ],
          "name": "stderr"
        },
        {
          "output_type": "stream",
          "text": [
            "Train on 25000 samples, validate on 25000 samples\n",
            "Epoch 1/5\n",
            "25000/25000 [==============================] - 14s 563us/step - loss: 0.4510 - accuracy: 0.7672 - val_loss: 0.3348 - val_accuracy: 0.8520\n",
            "Epoch 2/5\n",
            "25000/25000 [==============================] - 13s 537us/step - loss: 0.2880 - accuracy: 0.8787 - val_loss: 0.3267 - val_accuracy: 0.8588\n",
            "Epoch 3/5\n",
            "25000/25000 [==============================] - 13s 536us/step - loss: 0.2471 - accuracy: 0.9003 - val_loss: 0.3336 - val_accuracy: 0.8571\n",
            "Epoch 4/5\n",
            "25000/25000 [==============================] - 13s 537us/step - loss: 0.2091 - accuracy: 0.9179 - val_loss: 0.3466 - val_accuracy: 0.8542\n",
            "Epoch 5/5\n",
            "25000/25000 [==============================] - 13s 529us/step - loss: 0.1786 - accuracy: 0.9297 - val_loss: 0.3566 - val_accuracy: 0.8527\n",
            "25000/25000 [==============================] - 4s 172us/step\n",
            "\n",
            " Test Accuracy : 0.8527\n"
          ],
          "name": "stdout"
        }
      ]
    },
    {
      "cell_type": "code",
      "metadata": {
        "id": "I9Vkwjj_x0Pu",
        "colab_type": "code",
        "colab": {
          "base_uri": "https://localhost:8080/",
          "height": 279
        },
        "outputId": "44c5327d-80e5-47aa-c8d6-1e896e003d60"
      },
      "source": [
        "# Testset의 오차\n",
        "y_vloss = history.history['val_loss']\n",
        "\n",
        "# Trainset의 오차\n",
        "y_loss = history.history['loss']\n",
        "\n",
        "# 그래프로 표현\n",
        "x_len = np.arange(len(y_loss))\n",
        "plt.plot(x_len, y_vloss, marker='.', c='red', label='Testset_loss')\n",
        "plt.plot(x_len, y_loss, marker='.', c='blue', label='Trainset_loss')\n",
        "\n",
        "# 그리드 및 레이블 표시\n",
        "plt.legend(loc='upper right')\n",
        "plt.grid()\n",
        "plt.xlabel('epoch')\n",
        "plt.ylabel('loss')\n",
        "plt.show()"
      ],
      "execution_count": 68,
      "outputs": [
        {
          "output_type": "display_data",
          "data": {
            "image/png": "[encoded data removed]",
            "text/plain": [
              "<Figure size 432x288 with 1 Axes>"
            ]
          },
          "metadata": {
            "tags": [],
            "needs_background": "light"
          }
        }
      ]
    },
    {
      "cell_type": "markdown",
      "metadata": {
        "id": "N7l8hbVa1HaL",
        "colab_type": "text"
      },
      "source": [
        "# **19장 GAN, AutoEncoder 이용하기**"
      ]
    },
    {
      "cell_type": "markdown",
      "metadata": {
        "id": "ssvFeo6s1V6U",
        "colab_type": "text"
      },
      "source": [
        "## **GAN 모델 만들기**"
      ]
    },
    {
      "cell_type": "code",
      "metadata": {
        "id": "NxUB-1ABygJF",
        "colab_type": "code",
        "colab": {}
      },
      "source": [
        "from tensorflow.keras.datasets import mnist\n",
        "from tensorflow.keras.layers import Input, Dense, Reshape, Flatten, Dropout\n",
        "from tensorflow.keras.layers import BatchNormalization, Activation, LeakyReLU, UpSampling2D, Conv2D\n",
        "from tensorflow.keras.models import Sequential, Model\n",
        "\n",
        "import numpy as np\n",
        "import matplotlib.pyplot as plt\n",
        "\n",
        "# 생성자 모델 만들기\n",
        "generator = Sequential()\n",
        "generator.add(Dense(128*7*7, input_dim=100, activation=LeakyReLU(0.2)))\n",
        "generator.add(BatchNormalization())\n",
        "generator.add(Reshape((7, 7, 128)))\n",
        "generator.add(UpSampling2D())\n",
        "\n",
        "generator.add(Conv2D(64, kernel_size=5, padding='same'))\n",
        "generator.add(BatchNormalization())\n",
        "generator.add(Activation(LeakyReLU(0.2)))\n",
        "generator.add(UpSampling2D())\n",
        "\n",
        "generator.add(Conv2D(1, kernel_size=5, padding='same', activation='tanh'))\n",
        "\n",
        "# 판별자 모델 만들기\n",
        "discriminator = Sequential()\n",
        "discriminator.add(Conv2D(64, kernel_size=5, strides=2, input_shape=(28, 28, 1), padding='same'))\n",
        "discriminator.add(Activation(LeakyReLU(0.2)))\n",
        "discriminator.add(Dropout(0.3))\n",
        "\n",
        "discriminator.add(Conv2D(128, kernel_size=5, strides=2, padding='same'))\n",
        "discriminator.add(Activation(LeakyReLU(0.2)))\n",
        "discriminator.add(Dropout(0.3))\n",
        "discriminator.add(Flatten())\n",
        "\n",
        "discriminator.add(Dense(1, activation='sigmoid'))\n",
        "\n",
        "# 판별자 모델 컴파일\n",
        "discriminator.compile(loss='binary_crossentropy', optimizer='adam')\n",
        "discriminator.trainable = False # 학습하지 않게 설정"
      ],
      "execution_count": 69,
      "outputs": []
    },
    {
      "cell_type": "code",
      "metadata": {
        "id": "-ALogcEk1UHo",
        "colab_type": "code",
        "colab": {
          "base_uri": "https://localhost:8080/",
          "height": 263
        },
        "outputId": "e22f0df9-6bb9-4d2b-f637-dc8bef6963cf"
      },
      "source": [
        "# 생성자와 판별자 모델을 연결 시키는 GAN 모델\n",
        "ginput = Input(shape=(100,))\n",
        "\n",
        "dis_output = discriminator(generator(ginput))\n",
        "gan = Model(ginput, dis_output)\n",
        "\n",
        "# GAN 모델 컴파일\n",
        "gan.compile(loss='binary_crossentropy', optimizer='adam')\n",
        "gan.summary()"
      ],
      "execution_count": 70,
      "outputs": [
        {
          "output_type": "stream",
          "text": [
            "Model: \"model\"\n",
            "_________________________________________________________________\n",
            "Layer (type)                 Output Shape              Param #   \n",
            "=================================================================\n",
            "input_1 (InputLayer)         [(None, 100)]             0         \n",
            "_________________________________________________________________\n",
            "sequential_5 (Sequential)    (None, 28, 28, 1)         865281    \n",
            "_________________________________________________________________\n",
            "sequential_6 (Sequential)    (None, 1)                 212865    \n",
            "=================================================================\n",
            "Total params: 1,078,146\n",
            "Trainable params: 852,609\n",
            "Non-trainable params: 225,537\n",
            "_________________________________________________________________\n"
          ],
          "name": "stdout"
        }
      ]
    },
    {
      "cell_type": "code",
      "metadata": {
        "id": "-RfhAuhs4td9",
        "colab_type": "code",
        "colab": {}
      },
      "source": [
        "# GAN을 실행하는 함수\n",
        "def gan_train(epoch, batch_size, saving_interval):\n",
        "\n",
        "    # MNIST 데이터 불러오기\n",
        "    (X_train, _), (_, _) = mnist.load_data()\n",
        "    X_train = X_train.reshape(X_train.shape[0], 28, 28, 1).astype('float32')\n",
        "    # 데이터 정규분포화\n",
        "    X_train = (X_train - 127.5) / 127.5\n",
        "    true = np.ones((batch_size, 1))\n",
        "    fake = np.zeros((batch_size, 1))\n",
        "\n",
        "    for i in range(epoch):\n",
        "        # 실제 이미지를 판별자에 입력\n",
        "        idx = np.random.randint(0, X_train.shape[0], batch_size)\n",
        "        imgs = X_train[idx]\n",
        "        d_loss_real = discriminator.train_on_batch(imgs, true)\n",
        "\n",
        "        # 가상 이미지를 판별자에 입력\n",
        "        noise = np.random.normal(0, 1, (batch_size, 100))\n",
        "        gen_imgs = generator.predict(noise)\n",
        "        d_loss_fake = discriminator.train_on_batch(gen_imgs, fake)\n",
        "\n",
        "        # 판별자와 생성자의 오차 계산\n",
        "        d_loss = 0.5 * np.add(d_loss_real, d_loss_fake)\n",
        "        g_loss = gan.train_on_batch(noise, true)\n",
        "\n",
        "        print('Epoch : {}, d_loss : {:.4f}, g_loss : {:.4f}'.format(i, d_loss, g_loss))\n",
        "\n",
        "        # 중간 과정을 이미지로 저장\n",
        "        if i % saving_interval == 0:\n",
        "            # r, c = 5, 5\n",
        "            noise = np.random.normal(0, 1, (25, 100))\n",
        "            gen_imgs = generator.predict(noise)\n",
        "\n",
        "            # 이미지 Rescale\n",
        "            gen_imgs = 0.5 * gen_imgs + 0.5\n",
        "\n",
        "            # 이미지 출력\n",
        "            fig, axs = plt.subplots(5, 5)\n",
        "            count = 0\n",
        "            for j in range(5):\n",
        "                for k in range(5):\n",
        "                    axs[j, k].imshow(gen_imgs[count, :, :, 0], cmap='gray')\n",
        "                    axs[j, k].axis('off')\n",
        "            count += 1\n",
        "            fig.savefig('/content/gan_images/gan_mnist_{}.png'.format(i))"
      ],
      "execution_count": 73,
      "outputs": []
    },
    {
      "cell_type": "code",
      "metadata": {
        "id": "FSzra0wv7lX-",
        "colab_type": "code",
        "colab": {
          "base_uri": "https://localhost:8080/",
          "height": 1000
        },
        "outputId": "5e17b896-7cb9-4be9-bb5b-490881bcae11"
      },
      "source": [
        "gan_train(51, 32, 200) # 책에서는 4001회를 하라했지만, 여기서는 51회만 실시함"
      ],
      "execution_count": 76,
      "outputs": [
        {
          "output_type": "stream",
          "text": [
            "Epoch : 0, d_loss : 0.4210, g_loss : 1.5015\n",
            "Epoch : 1, d_loss : 0.6302, g_loss : 1.5416\n",
            "Epoch : 2, d_loss : 0.5736, g_loss : 1.4481\n",
            "Epoch : 3, d_loss : 0.3547, g_loss : 1.7889\n",
            "Epoch : 4, d_loss : 0.4485, g_loss : 1.7639\n",
            "Epoch : 5, d_loss : 0.4849, g_loss : 1.6211\n",
            "Epoch : 6, d_loss : 0.5828, g_loss : 1.6695\n",
            "Epoch : 7, d_loss : 0.4822, g_loss : 1.6575\n",
            "Epoch : 8, d_loss : 0.6177, g_loss : 1.7289\n",
            "Epoch : 9, d_loss : 0.5593, g_loss : 1.5389\n",
            "Epoch : 10, d_loss : 0.5822, g_loss : 1.4529\n",
            "Epoch : 11, d_loss : 0.4519, g_loss : 1.6032\n",
            "Epoch : 12, d_loss : 0.5041, g_loss : 1.6172\n",
            "Epoch : 13, d_loss : 0.3369, g_loss : 1.4288\n",
            "Epoch : 14, d_loss : 0.5068, g_loss : 1.3808\n",
            "Epoch : 15, d_loss : 0.4378, g_loss : 1.7188\n",
            "Epoch : 16, d_loss : 0.5434, g_loss : 1.4546\n",
            "Epoch : 17, d_loss : 0.5274, g_loss : 1.6875\n",
            "Epoch : 18, d_loss : 0.6220, g_loss : 1.5214\n",
            "Epoch : 19, d_loss : 0.4682, g_loss : 1.8115\n",
            "Epoch : 20, d_loss : 0.5659, g_loss : 1.5195\n",
            "Epoch : 21, d_loss : 0.5763, g_loss : 1.1552\n",
            "Epoch : 22, d_loss : 0.5674, g_loss : 1.2589\n",
            "Epoch : 23, d_loss : 0.4573, g_loss : 1.5497\n",
            "Epoch : 24, d_loss : 0.4365, g_loss : 1.9086\n",
            "Epoch : 25, d_loss : 0.5402, g_loss : 1.8020\n",
            "Epoch : 26, d_loss : 0.5046, g_loss : 1.4544\n",
            "Epoch : 27, d_loss : 0.6732, g_loss : 1.5624\n",
            "Epoch : 28, d_loss : 0.5065, g_loss : 1.7804\n",
            "Epoch : 29, d_loss : 0.4462, g_loss : 1.6199\n",
            "Epoch : 30, d_loss : 0.4821, g_loss : 1.6190\n",
            "Epoch : 31, d_loss : 0.6270, g_loss : 1.2505\n",
            "Epoch : 32, d_loss : 0.5871, g_loss : 1.2797\n",
            "Epoch : 33, d_loss : 0.5280, g_loss : 1.5197\n",
            "Epoch : 34, d_loss : 0.4382, g_loss : 1.8927\n",
            "Epoch : 35, d_loss : 0.4599, g_loss : 2.3311\n",
            "Epoch : 36, d_loss : 0.5007, g_loss : 1.8743\n",
            "Epoch : 37, d_loss : 0.5177, g_loss : 1.6922\n",
            "Epoch : 38, d_loss : 0.4729, g_loss : 1.9055\n",
            "Epoch : 39, d_loss : 0.5597, g_loss : 1.3012\n",
            "Epoch : 40, d_loss : 0.6130, g_loss : 1.2025\n",
            "Epoch : 41, d_loss : 0.4935, g_loss : 1.3182\n",
            "Epoch : 42, d_loss : 0.4212, g_loss : 1.8342\n",
            "Epoch : 43, d_loss : 0.4444, g_loss : 1.7307\n",
            "Epoch : 44, d_loss : 0.4678, g_loss : 2.0174\n",
            "Epoch : 45, d_loss : 0.6041, g_loss : 1.9518\n",
            "Epoch : 46, d_loss : 0.6158, g_loss : 1.4769\n",
            "Epoch : 47, d_loss : 0.4710, g_loss : 1.3015\n",
            "Epoch : 48, d_loss : 0.5038, g_loss : 1.4300\n",
            "Epoch : 49, d_loss : 0.4683, g_loss : 1.4663\n",
            "Epoch : 50, d_loss : 0.4789, g_loss : 1.8305\n"
          ],
          "name": "stdout"
        },
        {
          "output_type": "display_data",
          "data": {
            "image/png": "[encoded data removed]",
            "text/plain": [
              "<Figure size 432x288 with 25 Axes>"
            ]
          },
          "metadata": {
            "tags": [],
            "needs_background": "light"
          }
        }
      ]
    },
    {
      "cell_type": "markdown",
      "metadata": {
        "id": "5QB6GqCZn4L2",
        "colab_type": "text"
      },
      "source": [
        "## **AutoEncoder 만들기**"
      ]
    },
    {
      "cell_type": "code",
      "metadata": {
        "id": "ZNPkZ90fnFj8",
        "colab_type": "code",
        "colab": {}
      },
      "source": [
        "from tensorflow.keras.datasets import mnist\n",
        "from tensorflow.keras.models import Sequential, Model\n",
        "from tensorflow.keras.layers import Input, Dense,Conv2D, MaxPooling2D, UpSampling2D, Flatten, Reshape\n",
        "\n",
        "import matplotlib.pyplot as plt\n",
        "import numpy as np\n",
        "\n",
        "# MNist 데이터 셋 호출\n",
        "(X_train, _), (X_test, _) = mnist.load_data()\n",
        "X_train = X_train.reshape(X_train.shape[0], 28, 28, 1).astype('float32') / 255\n",
        "X_test = X_test.reshape(X_test.shape[0], 28, 28, 1).astype('float32') / 255"
      ],
      "execution_count": 84,
      "outputs": []
    },
    {
      "cell_type": "code",
      "metadata": {
        "id": "YM99HQjWowXF",
        "colab_type": "code",
        "colab": {
          "base_uri": "https://localhost:8080/",
          "height": 580
        },
        "outputId": "17372d55-f63e-420c-bb00-3668f68b298a"
      },
      "source": [
        "# 생성자 모델 만들기\n",
        "autoencoder = Sequential()\n",
        "\n",
        "# 인코딩 부분\n",
        "autoencoder.add(Conv2D(16, kernel_size=3, padding='same', input_shape=(28,28,1), activation='relu'))\n",
        "autoencoder.add(MaxPooling2D(pool_size=2, padding='same'))\n",
        "autoencoder.add(Conv2D(8, kernel_size=3, activation='relu', padding='same'))\n",
        "autoencoder.add(MaxPooling2D(pool_size=2, padding='same'))\n",
        "autoencoder.add(Conv2D(8, kernel_size=3, strides=2, padding='same', activation='relu'))\n",
        "\n",
        "# 디코딩 부분\n",
        "autoencoder.add(Conv2D(8, kernel_size=3, padding='same', activation='relu'))\n",
        "autoencoder.add(UpSampling2D())\n",
        "autoencoder.add(Conv2D(8, kernel_size=3, padding='same', activation='relu'))\n",
        "autoencoder.add(UpSampling2D())\n",
        "autoencoder.add(Conv2D(16, kernel_size=3, activation='relu'))\n",
        "autoencoder.add(UpSampling2D())\n",
        "autoencoder.add(Conv2D(1, kernel_size=3, padding='same', activation='sigmoid'))\n",
        "\n",
        "# 구조 확인\n",
        "autoencoder.summary()"
      ],
      "execution_count": 87,
      "outputs": [
        {
          "output_type": "stream",
          "text": [
            "Model: \"sequential_9\"\n",
            "_________________________________________________________________\n",
            "Layer (type)                 Output Shape              Param #   \n",
            "=================================================================\n",
            "conv2d_9 (Conv2D)            (None, 28, 28, 16)        160       \n",
            "_________________________________________________________________\n",
            "max_pooling2d_2 (MaxPooling2 (None, 14, 14, 16)        0         \n",
            "_________________________________________________________________\n",
            "conv2d_10 (Conv2D)           (None, 14, 14, 8)         1160      \n",
            "_________________________________________________________________\n",
            "max_pooling2d_3 (MaxPooling2 (None, 7, 7, 8)           0         \n",
            "_________________________________________________________________\n",
            "conv2d_11 (Conv2D)           (None, 4, 4, 8)           584       \n",
            "_________________________________________________________________\n",
            "conv2d_12 (Conv2D)           (None, 4, 4, 8)           584       \n",
            "_________________________________________________________________\n",
            "up_sampling2d_3 (UpSampling2 (None, 8, 8, 8)           0         \n",
            "_________________________________________________________________\n",
            "conv2d_13 (Conv2D)           (None, 8, 8, 8)           584       \n",
            "_________________________________________________________________\n",
            "up_sampling2d_4 (UpSampling2 (None, 16, 16, 8)         0         \n",
            "_________________________________________________________________\n",
            "conv2d_14 (Conv2D)           (None, 14, 14, 16)        1168      \n",
            "_________________________________________________________________\n",
            "up_sampling2d_5 (UpSampling2 (None, 28, 28, 16)        0         \n",
            "_________________________________________________________________\n",
            "conv2d_15 (Conv2D)           (None, 28, 28, 1)         145       \n",
            "=================================================================\n",
            "Total params: 4,385\n",
            "Trainable params: 4,385\n",
            "Non-trainable params: 0\n",
            "_________________________________________________________________\n"
          ],
          "name": "stdout"
        }
      ]
    },
    {
      "cell_type": "code",
      "metadata": {
        "id": "P0pvpbqfu0L_",
        "colab_type": "code",
        "colab": {
          "base_uri": "https://localhost:8080/",
          "height": 738
        },
        "outputId": "4ee18c64-b204-4a1e-bc7a-ad5a05a545e3"
      },
      "source": [
        "# 모델 컴파일\n",
        "autoencoder.compile(optimizer='adam', loss='binary_crossentropy')\n",
        "autoencoder.fit(X_train, X_train, epochs=20, batch_size=128, validation_data=(X_test, X_test))"
      ],
      "execution_count": 88,
      "outputs": [
        {
          "output_type": "stream",
          "text": [
            "Epoch 1/20\n",
            "469/469 [==============================] - 3s 6ms/step - loss: 0.2074 - val_loss: 0.1390\n",
            "Epoch 2/20\n",
            "469/469 [==============================] - 2s 5ms/step - loss: 0.1278 - val_loss: 0.1186\n",
            "Epoch 3/20\n",
            "469/469 [==============================] - 2s 5ms/step - loss: 0.1158 - val_loss: 0.1108\n",
            "Epoch 4/20\n",
            "469/469 [==============================] - 2s 5ms/step - loss: 0.1096 - val_loss: 0.1063\n",
            "Epoch 5/20\n",
            "469/469 [==============================] - 2s 5ms/step - loss: 0.1056 - val_loss: 0.1025\n",
            "Epoch 6/20\n",
            "469/469 [==============================] - 2s 5ms/step - loss: 0.1024 - val_loss: 0.1007\n",
            "Epoch 7/20\n",
            "469/469 [==============================] - 2s 5ms/step - loss: 0.0998 - val_loss: 0.0979\n",
            "Epoch 8/20\n",
            "469/469 [==============================] - 2s 5ms/step - loss: 0.0977 - val_loss: 0.0954\n",
            "Epoch 9/20\n",
            "469/469 [==============================] - 2s 5ms/step - loss: 0.0959 - val_loss: 0.0939\n",
            "Epoch 10/20\n",
            "469/469 [==============================] - 2s 5ms/step - loss: 0.0944 - val_loss: 0.0925\n",
            "Epoch 11/20\n",
            "469/469 [==============================] - 2s 5ms/step - loss: 0.0932 - val_loss: 0.0913\n",
            "Epoch 12/20\n",
            "469/469 [==============================] - 2s 5ms/step - loss: 0.0922 - val_loss: 0.0916\n",
            "Epoch 13/20\n",
            "469/469 [==============================] - 2s 5ms/step - loss: 0.0914 - val_loss: 0.0899\n",
            "Epoch 14/20\n",
            "469/469 [==============================] - 2s 5ms/step - loss: 0.0907 - val_loss: 0.0891\n",
            "Epoch 15/20\n",
            "469/469 [==============================] - 2s 5ms/step - loss: 0.0901 - val_loss: 0.0887\n",
            "Epoch 16/20\n",
            "469/469 [==============================] - 2s 5ms/step - loss: 0.0896 - val_loss: 0.0887\n",
            "Epoch 17/20\n",
            "469/469 [==============================] - 2s 5ms/step - loss: 0.0891 - val_loss: 0.0886\n",
            "Epoch 18/20\n",
            "469/469 [==============================] - 2s 5ms/step - loss: 0.0887 - val_loss: 0.0873\n",
            "Epoch 19/20\n",
            "469/469 [==============================] - 2s 5ms/step - loss: 0.0882 - val_loss: 0.0873\n",
            "Epoch 20/20\n",
            "469/469 [==============================] - 2s 5ms/step - loss: 0.0879 - val_loss: 0.0865\n"
          ],
          "name": "stdout"
        },
        {
          "output_type": "execute_result",
          "data": {
            "text/plain": [
              "<tensorflow.python.keras.callbacks.History at 0x7f0c9fff1630>"
            ]
          },
          "metadata": {
            "tags": []
          },
          "execution_count": 88
        }
      ]
    },
    {
      "cell_type": "code",
      "metadata": {
        "id": "6C3Cqi_jvVjy",
        "colab_type": "code",
        "colab": {}
      },
      "source": [
        "# 학습 결과 출력\n",
        "random_test = np.random.randint(X_test.shape[0], size=5)"
      ],
      "execution_count": 89,
      "outputs": []
    },
    {
      "cell_type": "code",
      "metadata": {
        "id": "zBLqDvXdv6Kh",
        "colab_type": "code",
        "colab": {
          "base_uri": "https://localhost:8080/",
          "height": 138
        },
        "outputId": "55e75ac0-9d23-4914-ea50-c81ad2c35e46"
      },
      "source": [
        "# 테스트 이미지 호출\n",
        "ae_imgs = autoencoder.predict(X_test) # 오토 인코더 모델에 넣기\n",
        "\n",
        "plt.figure(figsize=(7, 2)) # 출력 이미지 크기 설정\n",
        "\n",
        "for i, image_idx in enumerate(random_test):\n",
        "    # 랜덤으로 뽑은 이미지 차례로 나열\n",
        "    ax = plt.subplot(2, 7, i+1)\n",
        "    # 테스트할 이미지 먼저 보여줌\n",
        "    plt.imshow(X_test[image_idx].reshape(28, 28))\n",
        "    ax.axis('off')\n",
        "    ax = plt.subplot(2, 7, 7+i+1)\n",
        "    # 오토인코딩 결과를 다음 열에 출력\n",
        "    plt.imshow(ae_imgs[image_idx].reshape(28, 28))\n",
        "    ax.axis('off')\n",
        "\n",
        "plt.show()"
      ],
      "execution_count": 90,
      "outputs": [
        {
          "output_type": "display_data",
          "data": {
            "image/png": "[encoded data removed]",
            "text/plain": [
              "<Figure size 504x144 with 10 Axes>"
            ]
          },
          "metadata": {
            "tags": [],
            "needs_background": "light"
          }
        }
      ]
    },
    {
      "cell_type": "markdown",
      "metadata": {
        "id": "qDP8db5Mw3C5",
        "colab_type": "text"
      },
      "source": [
        "## **20장 전이학습을 통해 딥러닝 성능 극대화하기**"
      ]
    },
    {
      "cell_type": "markdown",
      "metadata": {
        "id": "HPdSIbWNx1nM",
        "colab_type": "text"
      },
      "source": [
        "### **치매 환자와 일반인 환자의 뇌 구분**"
      ]
    },
    {
      "cell_type": "code",
      "metadata": {
        "id": "tFN13x9gwiDK",
        "colab_type": "code",
        "colab": {
          "base_uri": "https://localhost:8080/",
          "height": 52
        },
        "outputId": "d294eae1-51c5-4967-db76-a1d419c14542"
      },
      "source": [
        "from tensorflow.keras.models import Sequential\n",
        "from tensorflow.keras.layers import Dense, Activation, Dropout, Flatten, Dense, Conv2D, MaxPooling2D\n",
        "from tensorflow.keras.preprocessing.image import ImageDataGenerator\n",
        "from tensorflow.keras import optimizers, initializers, regularizers, metrics\n",
        "\n",
        "import tensorflow as tf\n",
        "import numpy as np\n",
        "import matplotlib.pyplot as plt\n",
        "\n",
        "np.random.seed(3)\n",
        "tf.random.set_seed(3)\n",
        "\n",
        "train_datagen = ImageDataGenerator(rescale = 1./255,\n",
        "                                   horizontal_flip = True, # 수평 대칭 이미지를 50% 확률로 만듦\n",
        "                                   width_shift_range = 0.1, # 전체 크기의 10% 범위에서 좌우로 이동\n",
        "                                   height_shift_range = 0.1, # 전체 크기의 10% 범위에서 위아래로 이동\n",
        "                                   fill_mode = 'nearest')\n",
        "\n",
        "train_generator = train_datagen.flow_from_directory('/content/train',\n",
        "                                                    target_size = (150, 150),\n",
        "                                                    batch_size = 5,\n",
        "                                                    class_mode = 'binary')\n",
        "\n",
        "# 테스트셋은 이미 부풀리기를 하지 않음\n",
        "test_datagen = ImageDataGenerator(rescale = 1./255)\n",
        "\n",
        "test_generator = test_datagen.flow_from_directory('/content/test',\n",
        "                                                  target_size = (150, 150),\n",
        "                                                  batch_size = 5,\n",
        "                                                  class_mode = 'binary')"
      ],
      "execution_count": 3,
      "outputs": [
        {
          "output_type": "stream",
          "text": [
            "Found 160 images belonging to 3 classes.\n",
            "Found 120 images belonging to 3 classes.\n"
          ],
          "name": "stdout"
        }
      ]
    },
    {
      "cell_type": "code",
      "metadata": {
        "id": "_hvlb_lNy8JA",
        "colab_type": "code",
        "colab": {
          "base_uri": "https://localhost:8080/",
          "height": 686
        },
        "outputId": "1379fffb-2190-4713-9707-8cb8ddc5a7ad"
      },
      "source": [
        "# CNN 모델 적용\n",
        "model = Sequential()\n",
        "model.add(Conv2D(32, (3, 3), input_shape=(150, 150, 3)))\n",
        "model.add(Activation('relu'))\n",
        "model.add(MaxPooling2D(pool_size=(2, 2)))\n",
        "\n",
        "model.add(Conv2D(32, (3, 3)))\n",
        "model.add(Activation('relu'))\n",
        "model.add(MaxPooling2D(pool_size=(2, 2)))\n",
        "\n",
        "model.add(Conv2D(64, (3, 3)))\n",
        "model.add(Activation('relu'))\n",
        "model.add(MaxPooling2D(pool_size=(2, 2)))\n",
        "\n",
        "model.add(Flatten())\n",
        "model.add(Dense(64))\n",
        "model.add(Activation('relu'))\n",
        "model.add(Dropout(0.5))\n",
        "model.add(Dense(2))\n",
        "model.add(Activation('sigmoid'))\n",
        "\n",
        "model.summary()"
      ],
      "execution_count": 4,
      "outputs": [
        {
          "output_type": "stream",
          "text": [
            "Model: \"sequential\"\n",
            "_________________________________________________________________\n",
            "Layer (type)                 Output Shape              Param #   \n",
            "=================================================================\n",
            "conv2d (Conv2D)              (None, 148, 148, 32)      896       \n",
            "_________________________________________________________________\n",
            "activation (Activation)      (None, 148, 148, 32)      0         \n",
            "_________________________________________________________________\n",
            "max_pooling2d (MaxPooling2D) (None, 74, 74, 32)        0         \n",
            "_________________________________________________________________\n",
            "conv2d_1 (Conv2D)            (None, 72, 72, 32)        9248      \n",
            "_________________________________________________________________\n",
            "activation_1 (Activation)    (None, 72, 72, 32)        0         \n",
            "_________________________________________________________________\n",
            "max_pooling2d_1 (MaxPooling2 (None, 36, 36, 32)        0         \n",
            "_________________________________________________________________\n",
            "conv2d_2 (Conv2D)            (None, 34, 34, 64)        18496     \n",
            "_________________________________________________________________\n",
            "activation_2 (Activation)    (None, 34, 34, 64)        0         \n",
            "_________________________________________________________________\n",
            "max_pooling2d_2 (MaxPooling2 (None, 17, 17, 64)        0         \n",
            "_________________________________________________________________\n",
            "flatten (Flatten)            (None, 18496)             0         \n",
            "_________________________________________________________________\n",
            "dense (Dense)                (None, 64)                1183808   \n",
            "_________________________________________________________________\n",
            "activation_3 (Activation)    (None, 64)                0         \n",
            "_________________________________________________________________\n",
            "dropout (Dropout)            (None, 64)                0         \n",
            "_________________________________________________________________\n",
            "dense_1 (Dense)              (None, 2)                 130       \n",
            "_________________________________________________________________\n",
            "activation_4 (Activation)    (None, 2)                 0         \n",
            "=================================================================\n",
            "Total params: 1,212,578\n",
            "Trainable params: 1,212,578\n",
            "Non-trainable params: 0\n",
            "_________________________________________________________________\n"
          ],
          "name": "stdout"
        }
      ]
    },
    {
      "cell_type": "code",
      "metadata": {
        "id": "vbo8QgLE6AZl",
        "colab_type": "code",
        "colab": {}
      },
      "source": [
        "# 모델 컴파일\n",
        "model.compile(loss='sparse_categorical_crossentropy', optimizer=optimizers.Adam(learning_rate=0.0002), metrics=['accuracy'])"
      ],
      "execution_count": 5,
      "outputs": []
    },
    {
      "cell_type": "code",
      "metadata": {
        "id": "-92mJPwX6few",
        "colab_type": "code",
        "colab": {
          "base_uri": "https://localhost:8080/",
          "height": 142
        },
        "outputId": "4d8cdfda-7135-473b-c8cc-459c9f3ed4fe"
      },
      "source": [
        "# 모델 실행\n",
        "history = model.fit_generator(train_generator,\n",
        "                              steps_per_epoch = 100,\n",
        "                              epochs = 20,\n",
        "                              validation_data = test_generator,\n",
        "                              validation_steps = 4)"
      ],
      "execution_count": 6,
      "outputs": [
        {
          "output_type": "stream",
          "text": [
            "WARNING:tensorflow:From <ipython-input-6-ed0b3d649ee5>:6: Model.fit_generator (from tensorflow.python.keras.engine.training) is deprecated and will be removed in a future version.\n",
            "Instructions for updating:\n",
            "Please use Model.fit, which supports generators.\n",
            "Epoch 1/20\n",
            " 31/100 [========>.....................] - ETA: 1s - loss: nan - accuracy: 0.0000e+00WARNING:tensorflow:Your input ran out of data; interrupting training. Make sure that your dataset or generator can generate at least `steps_per_epoch * epochs` batches (in this case, 2000 batches). You may need to use the repeat() function when building your dataset.\n",
            " 32/100 [========>.....................] - 1s 34ms/step - loss: nan - accuracy: 0.0000e+00 - val_loss: nan - val_accuracy: 0.0000e+00\n"
          ],
          "name": "stdout"
        }
      ]
    },
    {
      "cell_type": "code",
      "metadata": {
        "id": "BwL6el6e6spp",
        "colab_type": "code",
        "colab": {
          "base_uri": "https://localhost:8080/",
          "height": 279
        },
        "outputId": "36ed2861-5674-431f-eb2a-4061637d9e8d"
      },
      "source": [
        "# 결과를 그래프로 표현\n",
        "acc = history.history['accuracy']\n",
        "val_acc = history.history['val_accuracy']\n",
        "y_vloss = history.history['val_loss']\n",
        "y_loss = history.history['loss']\n",
        "x_len = np.arange(len(y_loss))\n",
        "\n",
        "plt.plot(x_len, acc, marker='.', c='red', label='Trainset_acc')\n",
        "plt.plot(x_len, val_acc, marker='.', c='lightcoral', label='Testset_acc')\n",
        "plt.plot(x_len, y_vloss, marker='.', c='cornflowerblue', label='Testset_loss')\n",
        "plt.plot(x_len, y_loss, marker='.', c='blue', label='Trainset_loss')\n",
        "\n",
        "plt.legend(loc='upper right')\n",
        "plt.grid()\n",
        "plt.xlabel('epoch')\n",
        "plt.ylabel('loss/acc')\n",
        "plt.show()"
      ],
      "execution_count": 7,
      "outputs": [
        {
          "output_type": "display_data",
          "data": {
            "image/png": "[encoded data removed]",
            "text/plain": [
              "<Figure size 432x288 with 1 Axes>"
            ]
          },
          "metadata": {
            "tags": [],
            "needs_background": "light"
          }
        }
      ]
    },
    {
      "cell_type": "markdown",
      "metadata": {
        "id": "xLONFCjX_Ar3",
        "colab_type": "text"
      },
      "source": [
        "### **전이 학습으로 모델 성능 극대화**"
      ]
    },
    {
      "cell_type": "code",
      "metadata": {
        "id": "46aScZjV8Sce",
        "colab_type": "code",
        "colab": {
          "base_uri": "https://localhost:8080/",
          "height": 52
        },
        "outputId": "84b1c7d0-10e0-4a4f-8212-54566e2dbb2b"
      },
      "source": [
        "from tensorflow.keras.preprocessing.image import ImageDataGenerator\n",
        "from tensorflow.keras import Input, models, layers, optimizers, metrics\n",
        "from tensorflow.keras.layers import Dense, Flatten\n",
        "from tensorflow.keras.applications import VGG16\n",
        "\n",
        "import tensorflow as tf\n",
        "import numpy as np\n",
        "import matplotlib.pyplot as plt\n",
        "\n",
        "np.random.seed(3)\n",
        "tf.compat.v1.set_random_seed(3)\n",
        "\n",
        "train_datagen = ImageDataGenerator(rescale = 1./255,\n",
        "                                   horizontal_flip = True,\n",
        "                                   width_shift_range = 0.1,\n",
        "                                   fill_mode = 'nearest')\n",
        "\n",
        "train_generator = train_datagen.flow_from_directory('train',\n",
        "                                                    target_size = (150, 150),\n",
        "                                                    batch_size = 5,\n",
        "                                                    class_mode = 'binary')\n",
        "\n",
        "test_datagen = ImageDataGenerator(rescale = 1./255,\n",
        "                                  horizontal_flip = True,\n",
        "                                  width_shift_range = 0.1,\n",
        "                                  height_shift_range = 0.1,\n",
        "                                  fill_mode = 'nearest')\n",
        "\n",
        "test_generator = test_datagen.flow_from_directory('test',\n",
        "                                                  target_size = (150, 150),\n",
        "                                                  batch_size = 5,\n",
        "                                                  class_mode = 'binary')"
      ],
      "execution_count": 8,
      "outputs": [
        {
          "output_type": "stream",
          "text": [
            "Found 160 images belonging to 3 classes.\n",
            "Found 120 images belonging to 3 classes.\n"
          ],
          "name": "stdout"
        }
      ]
    },
    {
      "cell_type": "code",
      "metadata": {
        "id": "jIyi0uUyDBRN",
        "colab_type": "code",
        "colab": {
          "base_uri": "https://localhost:8080/",
          "height": 862
        },
        "outputId": "c1c0065e-5c9e-4433-eb00-e918a3227b85"
      },
      "source": [
        "# VGGNet 모델 받아오기\n",
        "transfer_model = VGG16(weights = 'imagenet', include_top = False, input_shape = (150, 150, 3))\n",
        "transfer_model.trainable = False\n",
        "transfer_model.summary()"
      ],
      "execution_count": 9,
      "outputs": [
        {
          "output_type": "stream",
          "text": [
            "Downloading data from https://storage.googleapis.com/tensorflow/keras-applications/vgg16/vgg16_weights_tf_dim_ordering_tf_kernels_notop.h5\n",
            "58892288/58889256 [==============================] - 0s 0us/step\n",
            "Model: \"vgg16\"\n",
            "_________________________________________________________________\n",
            "Layer (type)                 Output Shape              Param #   \n",
            "=================================================================\n",
            "input_1 (InputLayer)         [(None, 150, 150, 3)]     0         \n",
            "_________________________________________________________________\n",
            "block1_conv1 (Conv2D)        (None, 150, 150, 64)      1792      \n",
            "_________________________________________________________________\n",
            "block1_conv2 (Conv2D)        (None, 150, 150, 64)      36928     \n",
            "_________________________________________________________________\n",
            "block1_pool (MaxPooling2D)   (None, 75, 75, 64)        0         \n",
            "_________________________________________________________________\n",
            "block2_conv1 (Conv2D)        (None, 75, 75, 128)       73856     \n",
            "_________________________________________________________________\n",
            "block2_conv2 (Conv2D)        (None, 75, 75, 128)       147584    \n",
            "_________________________________________________________________\n",
            "block2_pool (MaxPooling2D)   (None, 37, 37, 128)       0         \n",
            "_________________________________________________________________\n",
            "block3_conv1 (Conv2D)        (None, 37, 37, 256)       295168    \n",
            "_________________________________________________________________\n",
            "block3_conv2 (Conv2D)        (None, 37, 37, 256)       590080    \n",
            "_________________________________________________________________\n",
            "block3_conv3 (Conv2D)        (None, 37, 37, 256)       590080    \n",
            "_________________________________________________________________\n",
            "block3_pool (MaxPooling2D)   (None, 18, 18, 256)       0         \n",
            "_________________________________________________________________\n",
            "block4_conv1 (Conv2D)        (None, 18, 18, 512)       1180160   \n",
            "_________________________________________________________________\n",
            "block4_conv2 (Conv2D)        (None, 18, 18, 512)       2359808   \n",
            "_________________________________________________________________\n",
            "block4_conv3 (Conv2D)        (None, 18, 18, 512)       2359808   \n",
            "_________________________________________________________________\n",
            "block4_pool (MaxPooling2D)   (None, 9, 9, 512)         0         \n",
            "_________________________________________________________________\n",
            "block5_conv1 (Conv2D)        (None, 9, 9, 512)         2359808   \n",
            "_________________________________________________________________\n",
            "block5_conv2 (Conv2D)        (None, 9, 9, 512)         2359808   \n",
            "_________________________________________________________________\n",
            "block5_conv3 (Conv2D)        (None, 9, 9, 512)         2359808   \n",
            "_________________________________________________________________\n",
            "block5_pool (MaxPooling2D)   (None, 4, 4, 512)         0         \n",
            "=================================================================\n",
            "Total params: 14,714,688\n",
            "Trainable params: 0\n",
            "Non-trainable params: 14,714,688\n",
            "_________________________________________________________________\n"
          ],
          "name": "stdout"
        }
      ]
    },
    {
      "cell_type": "code",
      "metadata": {
        "id": "Lliea2gMDRjh",
        "colab_type": "code",
        "colab": {
          "base_uri": "https://localhost:8080/",
          "height": 298
        },
        "outputId": "d012b450-cf04-47eb-aee8-2dfb186ed9ea"
      },
      "source": [
        "finetune_model = models.Sequential()\n",
        "finetune_model.add(transfer_model)\n",
        "finetune_model.add(Flatten())\n",
        "finetune_model.add(Dense(64, activation='relu'))\n",
        "finetune_model.add(Dense(2, activation='softmax'))\n",
        "finetune_model.summary()"
      ],
      "execution_count": 10,
      "outputs": [
        {
          "output_type": "stream",
          "text": [
            "Model: \"sequential_1\"\n",
            "_________________________________________________________________\n",
            "Layer (type)                 Output Shape              Param #   \n",
            "=================================================================\n",
            "vgg16 (Model)                (None, 4, 4, 512)         14714688  \n",
            "_________________________________________________________________\n",
            "flatten_1 (Flatten)          (None, 8192)              0         \n",
            "_________________________________________________________________\n",
            "dense_2 (Dense)              (None, 64)                524352    \n",
            "_________________________________________________________________\n",
            "dense_3 (Dense)              (None, 2)                 130       \n",
            "=================================================================\n",
            "Total params: 15,239,170\n",
            "Trainable params: 524,482\n",
            "Non-trainable params: 14,714,688\n",
            "_________________________________________________________________\n"
          ],
          "name": "stdout"
        }
      ]
    },
    {
      "cell_type": "code",
      "metadata": {
        "id": "_FgNZJg5DkPB",
        "colab_type": "code",
        "colab": {}
      },
      "source": [
        "# 모델 컴파일\n",
        "finetune_model.compile(loss='sparse_categorical_crossentropy', optimizer=optimizers.Adam(learning_rate=0.0002), metrics=['accuracy'])"
      ],
      "execution_count": 11,
      "outputs": []
    },
    {
      "cell_type": "code",
      "metadata": {
        "id": "VCL0d4QTDw3U",
        "colab_type": "code",
        "colab": {
          "base_uri": "https://localhost:8080/",
          "height": 90
        },
        "outputId": "a0308796-2fa8-4808-a97a-d3da4d80362f"
      },
      "source": [
        "# 모델 실행\n",
        "history = finetune_model.fit_generator(train_generator,\n",
        "                              steps_per_epoch = 100,\n",
        "                              epochs = 20,\n",
        "                              validation_data = test_generator,\n",
        "                              validation_steps = 4)"
      ],
      "execution_count": 12,
      "outputs": [
        {
          "output_type": "stream",
          "text": [
            "Epoch 1/20\n",
            " 32/100 [========>.....................] - ETA: 1s - loss: nan - accuracy: 0.0000e+00WARNING:tensorflow:Your input ran out of data; interrupting training. Make sure that your dataset or generator can generate at least `steps_per_epoch * epochs` batches (in this case, 2000 batches). You may need to use the repeat() function when building your dataset.\n",
            " 32/100 [========>.....................] - 1s 40ms/step - loss: nan - accuracy: 0.0000e+00 - val_loss: nan - val_accuracy: 0.0000e+00\n"
          ],
          "name": "stdout"
        }
      ]
    },
    {
      "cell_type": "code",
      "metadata": {
        "id": "Hv0HnWUXD1wT",
        "colab_type": "code",
        "colab": {
          "base_uri": "https://localhost:8080/",
          "height": 279
        },
        "outputId": "2a5c1ccf-a1d3-4785-b028-029d67d5ff53"
      },
      "source": [
        "# 결과를 그래프로 표현\n",
        "acc = history.history['accuracy']\n",
        "val_acc = history.history['val_accuracy']\n",
        "y_vloss = history.history['val_loss']\n",
        "y_loss = history.history['loss']\n",
        "x_len = np.arange(len(y_loss))\n",
        "\n",
        "plt.plot(x_len, acc, marker='.', c='red', label='Trainset_acc')\n",
        "plt.plot(x_len, val_acc, marker='.', c='lightcoral', label='Testset_acc')\n",
        "plt.plot(x_len, y_vloss, marker='.', c='cornflowerblue', label='Testset_loss')\n",
        "plt.plot(x_len, y_loss, marker='.', c='blue', label='Trainset_loss')\n",
        "\n",
        "plt.legend(loc='upper right')\n",
        "plt.grid()\n",
        "plt.xlabel('epoch')\n",
        "plt.ylabel('loss/acc')\n",
        "plt.show()"
      ],
      "execution_count": 13,
      "outputs": [
        {
          "output_type": "display_data",
          "data": {
            "image/png": "[encoded data removed]",
            "text/plain": [
              "<Figure size 432x288 with 1 Axes>"
            ]
          },
          "metadata": {
            "tags": [],
            "needs_background": "light"
          }
        }
      ]
    }
  ]
}