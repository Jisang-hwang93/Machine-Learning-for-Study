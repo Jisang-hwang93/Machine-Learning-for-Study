{
  "nbformat": 4,
  "nbformat_minor": 0,
  "metadata": {
    "colab": {
      "name": "03 이것이 코딩 테스트다.ipynb",
      "provenance": [],
      "collapsed_sections": [],
      "toc_visible": true,
      "authorship_tag": "ABX9TyNo5yTcjXx2gDWJqejWMYWE",
      "include_colab_link": true
    },
    "kernelspec": {
      "name": "python3",
      "display_name": "Python 3"
    }
  },
  "cells": [
    {
      "cell_type": "markdown",
      "metadata": {
        "id": "view-in-github",
        "colab_type": "text"
      },
      "source": [
        "<a href=\"https://colab.research.google.com/github/jisang93/Machine_Learning_for_Study/blob/master/03_%EC%9D%B4%EA%B2%83%EC%9D%B4_%EC%BD%94%EB%94%A9_%ED%85%8C%EC%8A%A4%ED%8A%B8%EB%8B%A4.ipynb\" target=\"_parent\"><img src=\"https://colab.research.google.com/assets/colab-badge.svg\" alt=\"Open In Colab\"/></a>"
      ]
    },
    {
      "cell_type": "markdown",
      "metadata": {
        "id": "jK-em23O85v7"
      },
      "source": [
        "# **[이것이 코딩 테스트다 with 파이썬]**\n",
        "\n",
        "저자 : 나동빈 / 출판사 : 한빛미디어"
      ]
    },
    {
      "cell_type": "markdown",
      "metadata": {
        "id": "_4pU5IIL8zK2"
      },
      "source": [
        "## **3장 그리디**"
      ]
    },
    {
      "cell_type": "markdown",
      "metadata": {
        "id": "IPqVGRPsglAq"
      },
      "source": [
        "### **예제 3-1 거스름돈**\n",
        "\n",
        "당신은 음식점의 계산을 도와주는 점원이다. 카운터에는 거스름돈으로 사용할 500원, 100원, 50원, 10원짜리 동전이 무한히 존재한다고 가정한다. 손님에게 거슬러 줘야 할 돈이 N원일 때, 거슬러 줘야 할 동전의 최소 개수를 구하라. 단, 거슬러 줘야 할 돈 N은 항상 10의 배수이다."
      ]
    },
    {
      "cell_type": "code",
      "metadata": {
        "id": "yTSLSHqbfhcP",
        "outputId": "3e68e105-ff6a-4166-bf32-80c537ebd21f",
        "colab": {
          "base_uri": "https://localhost:8080/",
          "height": 52
        }
      },
      "source": [
        "n = int(input())\n",
        "count = 0\n",
        "\n",
        "coin_list = [500, 100, 50, 10]\n",
        "\n",
        "for coin in coin_list:\n",
        "    count += n // coin # 거슬러 줄 수 있는 동전의 개수 세기\n",
        "    n %= coin\n",
        "\n",
        "print(coin)"
      ],
      "execution_count": 1,
      "outputs": [
        {
          "output_type": "stream",
          "text": [
            "1260\n",
            "10\n"
          ],
          "name": "stdout"
        }
      ]
    },
    {
      "cell_type": "markdown",
      "metadata": {
        "id": "9pCv6lOU8ypY"
      },
      "source": [
        "### **실전문제 : 큰 수의 법칙**\n",
        "\n",
        "난이도 : 1 | 시간 제한 : 1초 \n"
      ]
    },
    {
      "cell_type": "code",
      "metadata": {
        "id": "uSrX2-QmhS_b",
        "outputId": "bb731492-fbb5-44d5-d90e-83025b02bae5",
        "colab": {
          "base_uri": "https://localhost:8080/",
          "height": 87
        }
      },
      "source": [
        "import time\n",
        "\n",
        "n, m, k = map(int, input().split())\n",
        "num_list = list(map(int, input().split()))\n",
        "\n",
        "# 시간 측정\n",
        "start_time = time.time()\n",
        "\n",
        "num_list.sort(reverse=True)\n",
        "\n",
        "first_num = num_list[0]\n",
        "second_num = num_list[1]\n",
        "\n",
        "result = 0\n",
        "\n",
        "while True:\n",
        "    for i in range(k): # 큰 수 k 회 더하기\n",
        "        if m == 0:\n",
        "            break\n",
        "        result += first_num\n",
        "        m -= 1\n",
        "    if m == 0:\n",
        "        break\n",
        "    result += second_num\n",
        "    m -= 1\n",
        "\n",
        "print(result)\n",
        "\n",
        "end_time = time.time()\n",
        "\n",
        "print(\"성능 측정 : {}\".format(end_time - start_time))"
      ],
      "execution_count": 17,
      "outputs": [
        {
          "output_type": "stream",
          "text": [
            "5 8 3\n",
            "2 4 5 4 6\n",
            "46\n",
            "성능 측정 : 0.00045418739318847656\n"
          ],
          "name": "stdout"
        }
      ]
    },
    {
      "cell_type": "code",
      "metadata": {
        "id": "Wl17UlPvSxhk",
        "outputId": "cfcb5165-7fff-45f7-8f65-fc1efd46da3c",
        "colab": {
          "base_uri": "https://localhost:8080/",
          "height": 87
        }
      },
      "source": [
        "import time\n",
        "\n",
        "n, m, k = map(int, input().split())\n",
        "num_list = list(map(int, input().split()))\n",
        "\n",
        "# 시간 측정\n",
        "start_time = time.time()\n",
        "\n",
        "num_list.sort(reverse=True)\n",
        "\n",
        "first_num = num_list[0]\n",
        "second_num = num_list[1]\n",
        "\n",
        "# 가장 큰 수가 더해지는 횟수 계산\n",
        "count = int(m / (k+1)) * k\n",
        "count += m % (k+1)\n",
        "\n",
        "result = 0\n",
        "result += (count) * first_num\n",
        "result += (m - count) * second_num\n",
        "\n",
        "print(result)\n",
        "\n",
        "end_time = time.time()\n",
        "\n",
        "print(\"성능 측정 : {}\".format(end_time - start_time))"
      ],
      "execution_count": 19,
      "outputs": [
        {
          "output_type": "stream",
          "text": [
            "5 8 3\n",
            "2 4 5 4 6\n",
            "46\n",
            "성능 측정 : 0.0004062652587890625\n"
          ],
          "name": "stdout"
        }
      ]
    },
    {
      "cell_type": "markdown",
      "metadata": {
        "id": "VsV2KvIpbKX6"
      },
      "source": [
        "### **실전 문제 : 숫자 카드 게임**\n",
        "\n",
        "난이도 : 1 | 시간 제한 : 1초"
      ]
    },
    {
      "cell_type": "code",
      "metadata": {
        "id": "XllofO_dSz0E",
        "outputId": "b89bd358-9359-4a20-83ec-2137758cd7be",
        "colab": {
          "base_uri": "https://localhost:8080/",
          "height": 105
        }
      },
      "source": [
        "n, m = map(int, input().split())\n",
        "\n",
        "result = 0\n",
        "\n",
        "for i in range(n):\n",
        "    data = list(map(int, input().split()))\n",
        "    min_value = min(data)\n",
        "    result = max(min_value, result)\n",
        "\n",
        "print(result)"
      ],
      "execution_count": 24,
      "outputs": [
        {
          "output_type": "stream",
          "text": [
            "3 3\n",
            "3 1 2\n",
            "4 1 4\n",
            "2 2 2\n",
            "2\n"
          ],
          "name": "stdout"
        }
      ]
    },
    {
      "cell_type": "code",
      "metadata": {
        "id": "aEIeqtsfcsIH",
        "outputId": "93b08f3e-2545-4c7c-a9a5-47ebc191cccf",
        "colab": {
          "base_uri": "https://localhost:8080/",
          "height": 87
        }
      },
      "source": [
        "n, m = map(int, input().split())\n",
        "\n",
        "result = 0\n",
        "\n",
        "for i in range(n):\n",
        "    data = list(map(int, input().split()))\n",
        "    min_value = 10001\n",
        "    for a in data:\n",
        "        min_value = min(min_value, a)\n",
        "    result = max(result, min_value)\n",
        "\n",
        "print(result)"
      ],
      "execution_count": 25,
      "outputs": [
        {
          "output_type": "stream",
          "text": [
            "2 4\n",
            "7 3 1 8\n",
            "3 3 3 4\n",
            "3\n"
          ],
          "name": "stdout"
        }
      ]
    },
    {
      "cell_type": "markdown",
      "metadata": {
        "id": "RNxzJXBagwku"
      },
      "source": [
        "### **실전 문제 : 1이 될 때까지**\n",
        "\n",
        "난이도 : 1 | 시간 제한 1초"
      ]
    },
    {
      "cell_type": "code",
      "metadata": {
        "id": "TfXgiryxdard",
        "outputId": "398ac1ba-b908-4b52-d3c3-2230411c24c8",
        "colab": {
          "base_uri": "https://localhost:8080/",
          "height": 52
        }
      },
      "source": [
        "n, k = map(int, input().split())\n",
        "result = 0\n",
        "\n",
        "while n >= k:\n",
        "    while n % k != 0:\n",
        "        n -= 1\n",
        "        result += 1 \n",
        "\n",
        "    n //= k\n",
        "    result += 1\n",
        "\n",
        "while n > 1:\n",
        "    n -= 1\n",
        "    result += 1\n",
        "\n",
        "print(result)"
      ],
      "execution_count": 28,
      "outputs": [
        {
          "output_type": "stream",
          "text": [
            "25 5\n",
            "2\n"
          ],
          "name": "stdout"
        }
      ]
    },
    {
      "cell_type": "code",
      "metadata": {
        "id": "v_VmRZchhk5q",
        "outputId": "03d6e9fc-ace8-4335-a48d-167b951b09f8",
        "colab": {
          "base_uri": "https://localhost:8080/",
          "height": 52
        }
      },
      "source": [
        "n, k = map(int, input().split())\n",
        "result = 0\n",
        "\n",
        "while True:\n",
        "    target = (n//k) * k # 타겟값 = k의 배수\n",
        "    result += (n - target)\n",
        "    n = target\n",
        "    if n < k:\n",
        "        break\n",
        "    result += 1\n",
        "    n //= k\n",
        "\n",
        "result += (n - 1)\n",
        "print(result)"
      ],
      "execution_count": 33,
      "outputs": [
        {
          "output_type": "stream",
          "text": [
            "25 5\n",
            "2\n"
          ],
          "name": "stdout"
        }
      ]
    },
    {
      "cell_type": "code",
      "metadata": {
        "id": "0cSs5sSqiHJt"
      },
      "source": [
        ""
      ],
      "execution_count": null,
      "outputs": []
    }
  ]
}